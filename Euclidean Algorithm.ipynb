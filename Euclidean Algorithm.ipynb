{
 "cells": [
  {
   "cell_type": "code",
   "execution_count": 11,
   "id": "initial_id",
   "metadata": {
    "collapsed": true,
    "ExecuteTime": {
     "end_time": "2023-09-19T02:45:08.168342Z",
     "start_time": "2023-09-19T02:45:08.165924Z"
    }
   },
   "outputs": [],
   "source": [
    "import torch\n",
    "import random\n",
    "import numpy"
   ]
  },
  {
   "cell_type": "code",
   "execution_count": 2,
   "outputs": [],
   "source": [
    "#data_generator\n",
    "matrix_T = torch.tensor([[0, 1], [1, 0]], dtype=torch.float64)\n",
    "matrix_U = torch.tensor([[1, -1], [0, 1]], dtype=torch.float64)\n",
    "\n",
    "inverse_T = torch.inverse(matrix_T)\n",
    "inverse_U = torch.inverse(matrix_U)\n",
    "\n",
    "max_moves = 30  #how many inverse operations on the final destination\n",
    "goal_position = torch.tensor([[1], [0]], dtype=torch.float64)\n",
    "\n",
    "\n",
    "def data_generator(num_of_datapoints):\n",
    "    data = torch.empty((num_of_datapoints, 3), dtype=torch.float64)\n",
    "    for i in range(num_of_datapoints):\n",
    "        start = goal_position\n",
    "        moves = random.randint(1, max_moves)\n",
    "        coin = 3\n",
    "        for q in range(moves):\n",
    "            coin = random.randint(0, 1)\n",
    "            if coin == 1:\n",
    "                #  print(start, inverse_U, \"=\")\n",
    "                start = torch.matmul(inverse_U, start)\n",
    "            #  print(start)\n",
    "            else:\n",
    "                #  print(start, inverse_T, \"=\")\n",
    "                start = torch.matmul(inverse_T, start)\n",
    "            # print(start)\n",
    "        # print(\"done\")\n",
    "        data[i, 0] = start[0]\n",
    "        data[i, 1] = start[1]\n",
    "        data[i, 2] = coin\n",
    "    return data"
   ],
   "metadata": {
    "collapsed": false,
    "ExecuteTime": {
     "end_time": "2023-09-19T02:24:58.655631Z",
     "start_time": "2023-09-19T02:24:58.626620Z"
    }
   },
   "id": "1572f73a67641fe7"
  },
  {
   "cell_type": "code",
   "execution_count": 8,
   "outputs": [],
   "source": [
    "pairs = data_generator(5)[:,[0,1]] #isolates the pairs in a new matrix of just pairs \n",
    "#pairs[i] will give the pair in that row to be sent into euclidean function"
   ],
   "metadata": {
    "collapsed": false,
    "ExecuteTime": {
     "end_time": "2023-09-19T02:33:31.604038Z",
     "start_time": "2023-09-19T02:33:31.596223Z"
    }
   },
   "id": "f7e626ad82a3f65f"
  },
  {
   "cell_type": "code",
   "execution_count": 27,
   "outputs": [],
   "source": [
    "def euclidean_algorithm(pair): \n",
    "    x = pair[0]\n",
    "    a = int(x.item())\n",
    "    y = pair[1]\n",
    "    b = int(y.item())\n",
    "    if a!= 0 and b != 0:\n",
    "        r = a % b\n",
    "    else: return 0\n",
    "    while r != 0:\n",
    "        a = b # everything shifts to the right \n",
    "        b = r\n",
    "        r = a % b\n",
    "    return b #should be the gcd \n",
    "        "
   ],
   "metadata": {
    "collapsed": false,
    "ExecuteTime": {
     "end_time": "2023-09-19T02:57:40.020969Z",
     "start_time": "2023-09-19T02:57:40.009954Z"
    }
   },
   "id": "a047a6a3d81dcd31"
  },
  {
   "cell_type": "code",
   "execution_count": null,
   "outputs": [],
   "source": [
    "pairs = data_generator(5)[:,[0,1]] #isolates the pairs in a new matrix of just pairs \n",
    "#pairs[i] will give the pair in that row to be sent into euclidean function\n",
    "for i in range(pairs.size(dim = 0)):\n",
    "    print (pairs[i])\n",
    "    print (\"GCD: \", euclidean_algorithm(pairs[i]))"
   ],
   "metadata": {
    "collapsed": false
   },
   "id": "d29b0c4efe84fab0"
  },
  {
   "cell_type": "code",
   "execution_count": 33,
   "outputs": [
    {
     "name": "stdout",
     "output_type": "stream",
     "text": [
      "17\n"
     ]
    }
   ],
   "source": [
    "print(euclidean_algorithm(torch.tensor([57970, 10353]))) #expecting: 17"
   ],
   "metadata": {
    "collapsed": false,
    "ExecuteTime": {
     "end_time": "2023-09-19T02:59:09.884021Z",
     "start_time": "2023-09-19T02:59:09.877344Z"
    }
   },
   "id": "ea6b300a258b1f33"
  },
  {
   "cell_type": "code",
   "execution_count": null,
   "outputs": [],
   "source": [],
   "metadata": {
    "collapsed": false
   },
   "id": "65c1aeae0001b64d"
  }
 ],
 "metadata": {
  "kernelspec": {
   "display_name": "Python 3",
   "language": "python",
   "name": "python3"
  },
  "language_info": {
   "codemirror_mode": {
    "name": "ipython",
    "version": 2
   },
   "file_extension": ".py",
   "mimetype": "text/x-python",
   "name": "python",
   "nbconvert_exporter": "python",
   "pygments_lexer": "ipython2",
   "version": "2.7.6"
  }
 },
 "nbformat": 4,
 "nbformat_minor": 5
}
