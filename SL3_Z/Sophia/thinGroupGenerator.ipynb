{
 "cells": [
  {
   "cell_type": "markdown",
   "metadata": {},
   "source": [
    "# Data Generator"
   ]
  },
  {
   "cell_type": "code",
   "execution_count": 2,
   "metadata": {},
   "outputs": [],
   "source": [
    "import numpy as np\n",
    "import random\n",
    "import pandas as pd"
   ]
  },
  {
   "cell_type": "markdown",
   "metadata": {},
   "source": []
  },
  {
   "cell_type": "code",
   "execution_count": 6,
   "metadata": {},
   "outputs": [],
   "source": [
    "a = np.array([[1, 1, 2],[0, 1, 1],[0,-3,-2]])\n",
    "b = np.array([[-2, 0, -1],[-5, 1, -1],[3,0,1]])\n",
    "c = np.array([[1, -4, -1],[0,-2,-1],[0,3,1]])\n",
    "d = np.array([[1, 0, 1],[2, 1, 3],[-3,0,2]])\n",
    "\n",
    "maxMats = 50\n",
    "dataPoints = 1000\n",
    "prevMat = -1\n",
    "\n",
    "\n",
    "for j in range(dataPoints):\n",
    "    nextMat = random.randint(0,3)\n",
    "    if nextMat == 0: \n",
    "        mat = a\n",
    "        prevMat = 0\n",
    "    elif nextMat == 1:\n",
    "        mat = b\n",
    "        prevMat = 1\n",
    "    elif nextMat == 2: \n",
    "        mat = c\n",
    "        prevMat = 2\n",
    "    else: \n",
    "        mat = d\n",
    "        prevMat = 3\n",
    "    numOfMatrices = random.randint(1, maxMats)\n",
    "    for i in range(numOfMatrices): \n",
    "        nextMat = random.randint(0,3)\n",
    "        if (prevMat != 2 and nextMat == 0):\n",
    "            mat = np.matmul(a, mat)\n",
    "            prevMat = nextMat\n",
    "        elif (prevMat != 3 and nextMat == 1):\n",
    "            mat = np.matmul(b, mat)\n",
    "            prevMat = nextMat\n",
    "        elif (prevMat != 0 and nextMat == 2):\n",
    "            mat = np.matmul(c, mat)\n",
    "            prevMat = nextMat\n",
    "        elif (prevMat != 1 and nextMat == 3): \n",
    "            mat = np.matmul(d,mat)\n",
    "            prevMat = nextMat\n",
    "    if j == 0: \n",
    "        df = pd.DataFrame([[mat[0][0],mat[0][1],mat[0][2], mat[1][0],mat[1][1],mat[1][2],mat[2][0],mat[2][1],mat[2][2], prevMat]], columns = ['00', '01', '02','10','11','12', '20', '21','22',\"last\"])\n",
    "    else: \n",
    "        df = pd.concat([df, pd.DataFrame([[mat[0][0],mat[0][1],mat[0][2], mat[1][0],mat[1][1],mat[1][2],mat[2][0],mat[2][1],mat[2][2], prevMat]],columns = ['00', '01', '02','10','11','12', '20', '21','22',\"last\"])])\n",
    "# mat[0][0] = mat[0][0]  % 7\n",
    "# mat [0][1] = mat[0][1]  % 7\n",
    "# mat[0][2] = mat[0][2]  % 7\n",
    "# mat [1][0] = mat[1][0]  % 7\n",
    "# mat [1][1] = mat[1][1]  % 7\n",
    "# mat [1][1] = mat[1][1]  % 7\n",
    "df.to_csv(\"matrices.csv\", index = False)\n"
   ]
  },
  {
   "cell_type": "code",
   "execution_count": null,
   "metadata": {},
   "outputs": [],
   "source": []
  },
  {
   "cell_type": "code",
   "execution_count": null,
   "metadata": {},
   "outputs": [],
   "source": []
  }
 ],
 "metadata": {
  "kernelspec": {
   "display_name": "Python 3",
   "language": "python",
   "name": "python3"
  },
  "language_info": {
   "codemirror_mode": {
    "name": "ipython",
    "version": 3
   },
   "file_extension": ".py",
   "mimetype": "text/x-python",
   "name": "python",
   "nbconvert_exporter": "python",
   "pygments_lexer": "ipython3",
   "version": "3.11.5"
  },
  "orig_nbformat": 4
 },
 "nbformat": 4,
 "nbformat_minor": 2
}
