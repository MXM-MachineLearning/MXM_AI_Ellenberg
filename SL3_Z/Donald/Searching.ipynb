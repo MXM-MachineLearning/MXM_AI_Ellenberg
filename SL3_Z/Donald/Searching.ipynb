{
 "cells": [
  {
   "cell_type": "code",
   "execution_count": 11,
   "metadata": {},
   "outputs": [],
   "source": [
    "import numpy as np\n",
    "from collections import deque\n",
    "import numpy as np\n",
    "import time"
   ]
  },
  {
   "cell_type": "code",
   "execution_count": 47,
   "metadata": {},
   "outputs": [],
   "source": [
    "def matrix_to_tuple(matrix):\n",
    "    return (matrix[0][0], matrix[0][1], matrix[0][2],\n",
    "            matrix[1][0], matrix[1][1], matrix[1][2],\n",
    "            matrix[2][0], matrix[2][1], matrix[2][2])\n",
    "\n",
    "A = np.array([[1, 1, 2], [0, 1, 1], [0, -3, -2]])\n",
    "B = np.array([[-2, 0, -1], [-5, 1, -1], [3, 0, 1]])\n",
    "\n",
    "I = np.array([[1, 0, 0], [0, 1, 0], [0, 0, 1]])\n",
    "\n",
    "\n",
    "# C is the inverse of A\n",
    "# D is the inverse of B\n",
    "C = np.array([[1, -4, -1], [0, -2, -1], [0, 3, 1]])\n",
    "D = np.array([[1, 0, 1], [2, 1, 3], [-3, 0, -2]])\n",
    "\n",
    "# we are trying to figure out whether A, B, C, and D can generate SL3_Z"
   ]
  },
  {
   "cell_type": "code",
   "execution_count": 48,
   "metadata": {},
   "outputs": [],
   "source": [
    "def are_we_done_yet(my_matrix):\n",
    "    return (my_matrix==I).all()"
   ]
  },
  {
   "cell_type": "code",
   "execution_count": 5,
   "metadata": {},
   "outputs": [],
   "source": [
    "def apply_mat(mat, index):\n",
    "    if index==0:\n",
    "        return mat @ A\n",
    "    elif index==1:\n",
    "        return mat @ B\n",
    "    elif index==2:\n",
    "        return mat @ C\n",
    "    elif index==3:\n",
    "        return mat @ D\n",
    "    assert(1==2)\n",
    "\n",
    "def generate_successors(last_mat):\n",
    "    if last_mat==0:\n",
    "        return [0, 1, 3]\n",
    "    elif last_mat==1:\n",
    "        return [0, 1, 2]\n",
    "    elif last_mat==2:\n",
    "        return [1, 2, 3]\n",
    "    elif last_mat==3:\n",
    "        return [0, 2, 3]\n",
    "    elif last_mat==4:\n",
    "        return [0, 1, 2, 3]\n"
   ]
  },
  {
   "cell_type": "code",
   "execution_count": 49,
   "metadata": {},
   "outputs": [
    {
     "name": "stdout",
     "output_type": "stream",
     "text": [
      "[array([[1, 0, 0],\n",
      "       [0, 1, 0],\n",
      "       [0, 0, 1]]), 1, '1']\n",
      "We found it!\n"
     ]
    }
   ],
   "source": [
    "# adapted from ChatGPT\n",
    "visited = set()\n",
    "start_time = time.time()\n",
    "\n",
    "def bfs(start):\n",
    "    \n",
    "    visited.add(matrix_to_tuple(start @ A))\n",
    "    visited.add(matrix_to_tuple(start @ B))\n",
    "    # visited.add(matrix_to_tuple(start @ C))\n",
    "    # visited.add(matrix_to_tuple(start @ D))\n",
    "    \n",
    "    start_tuple_A = start @ A\n",
    "    start_tuple_B = start @ B\n",
    "    # start_tuple_C = start @ C\n",
    "    # start_tuple_D = start @ D\n",
    "\n",
    "    queue = deque([[start_tuple_A, 0, \"0\"], [start_tuple_B, 1, \"1\"]])\n",
    "\n",
    "    while queue:\n",
    "        vertex = queue.popleft()\n",
    "        cur_mat = vertex[0]\n",
    "\n",
    "        if time.time() >= start_time + 1:\n",
    "            print(\"Timed out\")\n",
    "            break\n",
    "\n",
    "        if are_we_done_yet(cur_mat):\n",
    "            print(vertex)\n",
    "            print(\"We found it!\")\n",
    "            break\n",
    "\n",
    "        for neighbor in [0, 1]:\n",
    "            # neighbor will take values 0, 1\n",
    "            new_mat = apply_mat(cur_mat, neighbor)\n",
    "            new_tuple = matrix_to_tuple(new_mat)\n",
    "            if not new_tuple in visited:\n",
    "                visited.add(new_tuple)\n",
    "                queue.append([new_mat, neighbor, vertex[2] + str(neighbor)])\n",
    "\n",
    "bfs(A @ B @ A @ B @ A @ B @ A)\n",
    "\n",
    "# bfs(np.array([[1, 0, 1], [0, -1, -1], [0, 1, 0]]))\n",
    "# print(visited)\n",
    "# ran this overnight until it crashed my computer, didn't find anything :("
   ]
  },
  {
   "cell_type": "code",
   "execution_count": 62,
   "metadata": {},
   "outputs": [
    {
     "data": {
      "text/plain": [
       "array([[ 11, -48, -14],\n",
       "       [  6, -25,  -7],\n",
       "       [-12,  48,  13]])"
      ]
     },
     "execution_count": 62,
     "metadata": {},
     "output_type": "execute_result"
    }
   ],
   "source": [
    "A @ B @ B @ A @ A @ B @ B @ A"
   ]
  },
  {
   "cell_type": "code",
   "execution_count": 42,
   "metadata": {},
   "outputs": [
    {
     "data": {
      "text/plain": [
       "52289"
      ]
     },
     "execution_count": 42,
     "metadata": {},
     "output_type": "execute_result"
    }
   ],
   "source": [
    "len(visited)"
   ]
  },
  {
   "cell_type": "code",
   "execution_count": 9,
   "metadata": {},
   "outputs": [
    {
     "name": "stdout",
     "output_type": "stream",
     "text": [
      "Target is NOT reachable from source within max depth\n",
      "{(1, 0, 0, 0, 1, 0, 0, 0, 1), (1, -4, -1, 0, -2, -1, 0, 3, 1), (-1, 1, 0, -2, 1, 0, 9, -3, 1), (-3, 1, 0, -1, 1, 1, 0, -3, -5)}\n"
     ]
    }
   ],
   "source": [
    "# iterative deepening\n",
    "# code adapted from https://www.geeksforgeeks.org/iterative-deepening-searchids-iterative-deepening-depth-first-searchiddfs/\n",
    "\n",
    "# TODO also try this with the visited set. Would need to pass the visited set through the method calls\n",
    "# visited = set()\n",
    " \n",
    "# A function to perform a Depth-Limited search\n",
    "# from given source 'src'\n",
    "def DLS(src,target,maxDepth):\n",
    "    # print(src)\n",
    "    if (src[0] == target).all(): \n",
    "        print(src)\n",
    "        return True\n",
    "\n",
    "    # If reached the maximum depth, stop recursing.\n",
    "    if maxDepth <= 0: \n",
    "        return False\n",
    "\n",
    "    # Recur for all the vertices adjacent to this vertex\n",
    "    for i in generate_successors(src[1]):\n",
    "        new_mat = apply_mat(src[0], i)\n",
    "        # new_tuple = matrix_to_tuple(new_mat)\n",
    "        # if not new_tuple in visited:\n",
    "            # visited.add(new_tuple)\n",
    "        if(DLS([new_mat, i, src[2] + str(i)], target, maxDepth-1)):\n",
    "            # print([new_mat, i, src[2] + str(i)])\n",
    "            return True\n",
    "    return False\n",
    "\n",
    "# IDDFS to search if target is reachable from v.\n",
    "# It uses recursive DLS()\n",
    "def IDDFS(src, target, maxDepth):\n",
    "\n",
    "    # Repeatedly depth-limit search till the maximum depth\n",
    "    i = 0\n",
    "    while i<maxDepth:\n",
    "        if (DLS(src, target, i)):\n",
    "            return True\n",
    "        i += 1\n",
    " \n",
    "# Create a graph given in the above diagram\n",
    "# target = np.array([[1, 0, 1], [0, -1, -1], [0, 1, 0]])\n",
    "target = A @ B @ A @ B\n",
    "maxDepth = 20000\n",
    "src = [A, 4, \"\"]\n",
    "\n",
    "\n",
    "if IDDFS(src, target, maxDepth) == True:\n",
    "    print(\"Target is reachable from source within max depth\")\n",
    "else :\n",
    "    print(\"Target is NOT reachable from source within max depth\")\n",
    "    \n",
    "# print(visited)\n"
   ]
  },
  {
   "cell_type": "code",
   "execution_count": 8,
   "metadata": {},
   "outputs": [
    {
     "data": {
      "text/plain": [
       "array([[-1,  0,  0],\n",
       "       [ 0, -1,  0],\n",
       "       [ 6,  3,  1]])"
      ]
     },
     "execution_count": 8,
     "metadata": {},
     "output_type": "execute_result"
    }
   ],
   "source": [
    "A @ B @ A @ B"
   ]
  }
 ],
 "metadata": {
  "kernelspec": {
   "display_name": "Python 3",
   "language": "python",
   "name": "python3"
  },
  "language_info": {
   "codemirror_mode": {
    "name": "ipython",
    "version": 3
   },
   "file_extension": ".py",
   "mimetype": "text/x-python",
   "name": "python",
   "nbconvert_exporter": "python",
   "pygments_lexer": "ipython3",
   "version": "3.10.11"
  }
 },
 "nbformat": 4,
 "nbformat_minor": 2
}
