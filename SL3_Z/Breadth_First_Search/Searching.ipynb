{
 "cells": [
  {
   "cell_type": "code",
   "execution_count": 23,
   "metadata": {},
   "outputs": [],
   "source": [
    "import numpy as np\n",
    "from collections import deque\n",
    "import numpy as np\n",
    "import time"
   ]
  },
  {
   "cell_type": "code",
   "execution_count": 24,
   "metadata": {},
   "outputs": [],
   "source": [
    "def matrix_to_tuple(matrix):\n",
    "    return (matrix[0][0], matrix[0][1], matrix[0][2],\n",
    "            matrix[1][0], matrix[1][1], matrix[1][2],\n",
    "            matrix[2][0], matrix[2][1], matrix[2][2])\n",
    "\n",
    "A = np.array([[1, 1, 2], [0, 1, 1], [0, -3, -2]])\n",
    "B = np.array([[-2, 0, -1], [-5, 1, -1], [3, 0, 1]])\n",
    "\n",
    "I = np.array([[1, 0, 0], [0, 1, 0], [0, 0, 1]])\n",
    "\n",
    "\n",
    "# C is the inverse of A\n",
    "# D is the inverse of B\n",
    "C = np.array([[1, -4, -1], [0, -2, -1], [0, 3, 1]])\n",
    "D = np.array([[1, 0, 1], [2, 1, 3], [-3, 0, -2]])\n",
    "\n",
    "# we are trying to figure out whether A, B, C, and D can generate SL3_Z"
   ]
  },
  {
   "cell_type": "code",
   "execution_count": 25,
   "metadata": {},
   "outputs": [],
   "source": [
    "def are_we_done_yet(my_matrix):\n",
    "    return (my_matrix==I).all()"
   ]
  },
  {
   "cell_type": "code",
   "execution_count": 26,
   "metadata": {},
   "outputs": [],
   "source": [
    "def apply_mat(mat, index):\n",
    "    if index==0:\n",
    "        return mat @ A\n",
    "    elif index==1:\n",
    "        return mat @ B\n",
    "    elif index==2:\n",
    "        return mat @ C\n",
    "    elif index==3:\n",
    "        return mat @ D\n",
    "    assert(1==2)\n",
    "\n",
    "def generate_successors(last_mat):\n",
    "    if last_mat==0:\n",
    "        return [0, 1, 3]\n",
    "    elif last_mat==1:\n",
    "        return [0, 1, 2]\n",
    "    elif last_mat==2:\n",
    "        return [1, 2, 3]\n",
    "    elif last_mat==3:\n",
    "        return [0, 2, 3]\n",
    "    elif last_mat==4:\n",
    "        return [0, 1, 2, 3]\n"
   ]
  },
  {
   "cell_type": "code",
   "execution_count": 27,
   "metadata": {},
   "outputs": [
    {
     "name": "stdout",
     "output_type": "stream",
     "text": [
      "[array([[1, 0, 0],\n",
      "       [0, 1, 0],\n",
      "       [0, 0, 1]]), 1, '1']\n",
      "We found it!\n"
     ]
    }
   ],
   "source": [
    "# adapted from ChatGPT\n",
    "visited = set()\n",
    "start_time = time.time()\n",
    "\n",
    "def bfs(start):\n",
    "    \n",
    "    visited.add(matrix_to_tuple(start @ A))\n",
    "    visited.add(matrix_to_tuple(start @ B))\n",
    "    \n",
    "    start_tuple_A = start @ A\n",
    "    start_tuple_B = start @ B\n",
    "\n",
    "    queue = deque([[start_tuple_A, 0, \"0\"], [start_tuple_B, 1, \"1\"]])\n",
    "\n",
    "    while queue:\n",
    "        vertex = queue.popleft()\n",
    "        cur_mat = vertex[0]\n",
    "\n",
    "        if time.time() >= start_time + 1:\n",
    "            print(\"Timed out\")\n",
    "            break\n",
    "\n",
    "        if are_we_done_yet(cur_mat):\n",
    "            print(vertex)\n",
    "            print(\"We found it!\")\n",
    "            break\n",
    "\n",
    "        for neighbor in [0, 1]:\n",
    "            # neighbor will take values 0, 1\n",
    "            new_mat = apply_mat(cur_mat, neighbor)\n",
    "            new_tuple = matrix_to_tuple(new_mat)\n",
    "            if not new_tuple in visited:\n",
    "                visited.add(new_tuple)\n",
    "                queue.append([new_mat, neighbor, vertex[2] + str(neighbor)])\n",
    "\n",
    "bfs(A @ B @ A @ B @ A @ B @ A)\n",
    "\n",
    "# bfs(np.array([[1, 0, 1], [0, -1, -1], [0, 1, 0]]))\n",
    "# print(visited)\n",
    "# ran this overnight until it crashed my computer, didn't find anything :("
   ]
  },
  {
   "cell_type": "code",
   "execution_count": 28,
   "metadata": {},
   "outputs": [
    {
     "data": {
      "text/plain": [
       "array([[ 11, -48, -14],\n",
       "       [  6, -25,  -7],\n",
       "       [-12,  48,  13]])"
      ]
     },
     "execution_count": 28,
     "metadata": {},
     "output_type": "execute_result"
    }
   ],
   "source": [
    "A @ B @ B @ A @ A @ B @ B @ A"
   ]
  },
  {
   "cell_type": "code",
   "execution_count": 29,
   "metadata": {},
   "outputs": [
    {
     "data": {
      "text/plain": [
       "4"
      ]
     },
     "execution_count": 29,
     "metadata": {},
     "output_type": "execute_result"
    }
   ],
   "source": [
    "len(visited)"
   ]
  },
  {
   "cell_type": "code",
   "execution_count": 30,
   "metadata": {},
   "outputs": [],
   "source": [
    "x = np.array([[1, 0, 1], [0, -1, -1], [0, 1, 0]])\n",
    "y = np.array([[0, 1, 0], [0, 0, 1], [1, 0, 0]])\n",
    "z = np.array([[0, 1, 0], [1, 0, 0], [-1, -1, -1]])"
   ]
  },
  {
   "cell_type": "code",
   "execution_count": 31,
   "metadata": {},
   "outputs": [],
   "source": [
    "# iterative deepening\n",
    "# code adapted from https://www.geeksforgeeks.org/iterative-deepening-searchids-iterative-deepening-depth-first-searchiddfs/\n",
    "\n",
    "# TODO also try this with the visited set. Would need to pass the visited set through the method calls\n",
    "# visited = set()\n",
    " \n",
    "# A function to perform a Depth-Limited search\n",
    "# from given source 'src'\n",
    "def DLS(src,target,maxDepth):\n",
    "    # print(src)\n",
    "    if (src[0] == target).all(): \n",
    "        print(src)\n",
    "        return True\n",
    "\n",
    "    # If reached the maximum depth, stop recursing.\n",
    "    if maxDepth <= 0: \n",
    "        return False\n",
    "\n",
    "    # Recur for all the vertices adjacent to this vertex\n",
    "    for i in [0, 1]:\n",
    "        new_mat = apply_mat(src[0], i)\n",
    "        if(DLS([new_mat, i, src[2] + str(i)], target, maxDepth-1)):\n",
    "            return True\n",
    "    return False\n",
    "\n",
    "# IDDFS to search if target is reachable from v.\n",
    "# It uses recursive DLS()\n",
    "def IDDFS(src, target, maxDepth):\n",
    "\n",
    "    # Repeatedly depth-limit search till the maximum depth\n",
    "    i = 0\n",
    "    while i<maxDepth:\n",
    "        if (DLS(src, target, i)):\n",
    "            return True\n",
    "        i += 1\n",
    "\n",
    "# target = x\n",
    "# target = A @ B @ A @ B\n",
    "# # started with maxDepth=1,000,000\n",
    "# # now doing maxDepth = 10,000\n",
    "# maxDepth = 10000\n",
    "# src = [I, 1, \"\"]\n",
    "\n",
    "\n",
    "# if IDDFS(src, target, maxDepth) == True:\n",
    "#     print(\"Target is reachable from source within max depth\")\n",
    "# else :\n",
    "#     print(\"Target is NOT reachable from source within max depth\")"
   ]
  },
  {
   "cell_type": "code",
   "execution_count": 41,
   "metadata": {},
   "outputs": [
    {
     "name": "stdout",
     "output_type": "stream",
     "text": [
      "Target is NOT reachable from source within max depth\n"
     ]
    }
   ],
   "source": [
    "target = x\n",
    "# target = A @ B @ A @ B\n",
    "# started with maxDepth=1,000,000\n",
    "# now doing maxDepth = 1,000\n",
    "# DLS was crashing with maxDepth=10,000 whne searching for A@B@A@B\n",
    "# DLS took 1761 minutes before I cut if off with maxDepth=1000\n",
    "maxDepth = 18\n",
    "src = [I, 1, \"\"]\n",
    "\n",
    "\n",
    "if DLS(src, target, maxDepth) == True:\n",
    "    print(\"Target is reachable from source within max depth\")\n",
    "else :\n",
    "    print(\"Target is NOT reachable from source within max depth\")"
   ]
  },
  {
   "cell_type": "code",
   "execution_count": 61,
   "metadata": {},
   "outputs": [
    {
     "name": "stdout",
     "output_type": "stream",
     "text": [
      "Target is NOT reachable from source within max depth\n"
     ]
    },
    {
     "data": {
      "text/plain": [
       "23849627"
      ]
     },
     "execution_count": 61,
     "metadata": {},
     "output_type": "execute_result"
    }
   ],
   "source": [
    "visited = set()\n",
    "\n",
    "def DLS_w_visited(src,target,maxDepth):\n",
    "    if (src[0] == target).all(): \n",
    "        print(src)\n",
    "        return True\n",
    "\n",
    "    # If reached the maximum depth, stop recursing.\n",
    "    if maxDepth <= 0: \n",
    "        return False\n",
    "\n",
    "    # Recur for all the vertices adjacent to this vertex\n",
    "    for i in [0, 1]:\n",
    "        new_mat = apply_mat(src[0], i)\n",
    "        new_tuple = matrix_to_tuple(new_mat)\n",
    "        if new_tuple not in visited: \n",
    "            visited.add(new_tuple)\n",
    "            if(DLS_w_visited([new_mat, i, src[2] + str(i)], target, maxDepth-1)):\n",
    "                return True\n",
    "    return False\n",
    "\n",
    "target = x\n",
    "\n",
    "maxDepth = 70\n",
    "src = [I, 1, \"\"]\n",
    "\n",
    "visited.add(matrix_to_tuple(I))\n",
    "\n",
    "\n",
    "if DLS_w_visited(src, target, maxDepth) == True:\n",
    "    print(\"Target is reachable from source within max depth\")\n",
    "else :\n",
    "    print(\"Target is NOT reachable from source within max depth\")\n",
    "\n",
    "len(visited)"
   ]
  },
  {
   "cell_type": "code",
   "execution_count": 62,
   "metadata": {},
   "outputs": [
    {
     "data": {
      "text/plain": [
       "False"
      ]
     },
     "execution_count": 62,
     "metadata": {},
     "output_type": "execute_result"
    }
   ],
   "source": [
    "matrix_to_tuple(y) in visited"
   ]
  },
  {
   "cell_type": "code",
   "execution_count": 63,
   "metadata": {},
   "outputs": [
    {
     "data": {
      "text/plain": [
       "False"
      ]
     },
     "execution_count": 63,
     "metadata": {},
     "output_type": "execute_result"
    }
   ],
   "source": [
    "matrix_to_tuple(z) in visited"
   ]
  },
  {
   "cell_type": "code",
   "execution_count": 66,
   "metadata": {},
   "outputs": [
    {
     "name": "stdout",
     "output_type": "stream",
     "text": [
      "[[-2  1 -2]\n",
      " [-5 -1 -7]\n",
      " [ 3  0  4]]\n",
      "[[ -7  -3 -11]\n",
      " [ -6  -4 -11]\n",
      " [  6   3  10]]\n",
      "[[-4 -4 -9]\n",
      " [-1 -2 -4]\n",
      " [ 3  3  7]]\n",
      "[[1 0 0]\n",
      " [0 1 0]\n",
      " [0 0 1]]\n"
     ]
    }
   ],
   "source": [
    "# Is this infinite index? How about B @ A? \n",
    "\n",
    "print(A @ B)\n",
    "print(A @ B @ A @ B)\n",
    "print(A @ B@ A @ B@ A @ B)\n",
    "print(A @ B@ A @ B@ A @ B@ A @ B)\n",
    "\n",
    "print(B@A)\n",
    "print(B@A@B@A)\n",
    "print(B@A@B@A@B@A)\n",
    "print(B@A@B@A@B@A@B@A)"
   ]
  },
  {
   "cell_type": "code",
   "execution_count": 68,
   "metadata": {},
   "outputs": [
    {
     "name": "stdout",
     "output_type": "stream",
     "text": [
      "True\n",
      "True\n"
     ]
    }
   ],
   "source": [
    "print(((A @ B@ A @ B@ A @ B@ A @ B)==I).all())\n",
    "print(((B@A@B@A@B@A@B@A)==I).all())"
   ]
  },
  {
   "cell_type": "code",
   "execution_count": 72,
   "metadata": {},
   "outputs": [
    {
     "name": "stdout",
     "output_type": "stream",
     "text": [
      "[[  3   2   5]\n",
      " [  7   6  14]\n",
      " [-30 -27 -62]]\n",
      "[[-127 -117 -267]\n",
      " [-357 -328 -749]\n",
      " [1581 1452 3316]]\n",
      "[[   6810    6253   14281]\n",
      " [  19103   17541   40061]\n",
      " [ -84573  -77658 -177359]]\n",
      "[[ -364229  -334449  -763830]\n",
      " [-1021734  -938195 -2142693]\n",
      " [ 4523445  4153599  9486181]]\n",
      "[[  19481070   17888258   40854029]\n",
      " [  54648223   50180073  114603566]\n",
      " [-241939902 -222158403 -507375611]]\n",
      "[[-1041959854  -956767095  2109858460]\n",
      " [ 1372065496  1611047898 -1834691659]\n",
      " [   55437915 -1002590613  1367566954]]\n",
      "[[-104558995 -366191258  908092240]\n",
      " [1714804808 1817551029 1431960142]\n",
      " [-634188910  120697354  236017653]]\n",
      "[[  -55011919 -1154952242 -1821649323]\n",
      " [  678271143  1441795732  1072784490]\n",
      " [  451719750  1673264265  1065593104]]\n",
      "[[ -844862017  -804878529  2008586531]\n",
      " [ 1418685333 -1777995368    13530543]\n",
      " [-1719914831  -648119534 -1727768324]]\n"
     ]
    }
   ],
   "source": [
    "X = A @ B @ (A @ A) @ (B @ B)\n",
    "\n",
    "print(X)\n",
    "print(X@X)\n",
    "print(X@X@X)\n",
    "print(X@X@X@X)\n",
    "print(X@X@X@X@X)\n",
    "print(X@X@X@X@X@X)\n",
    "print(X@X@X@X@X@X@X)\n",
    "print(X@X@X@X@X@X@X@X)\n",
    "print(X@X@X@X@X@X@X@X@X)\n",
    "\n"
   ]
  },
  {
   "cell_type": "code",
   "execution_count": 78,
   "metadata": {},
   "outputs": [
    {
     "data": {
      "text/plain": [
       "array([-5.34857611e+01,  5.21605394e-01, -3.58442705e-02])"
      ]
     },
     "execution_count": 78,
     "metadata": {},
     "output_type": "execute_result"
    }
   ],
   "source": [
    "np.linalg.eig(X)[0]"
   ]
  },
  {
   "cell_type": "code",
   "execution_count": 79,
   "metadata": {},
   "outputs": [
    {
     "data": {
      "text/plain": [
       "array([ 1. +0.j       , -0.5+0.8660254j, -0.5-0.8660254j])"
      ]
     },
     "execution_count": 79,
     "metadata": {},
     "output_type": "execute_result"
    }
   ],
   "source": [
    "np.linalg.eig(A)[0]"
   ]
  },
  {
   "cell_type": "code",
   "execution_count": 74,
   "metadata": {},
   "outputs": [
    {
     "data": {
      "text/plain": [
       "array([[  6., -11.,  -2.],\n",
       "       [ 14., -36.,  -7.],\n",
       "       [ -9.,  21.,   4.]])"
      ]
     },
     "execution_count": 74,
     "metadata": {},
     "output_type": "execute_result"
    }
   ],
   "source": [
    "np.linalg.inv(X)"
   ]
  }
 ],
 "metadata": {
  "kernelspec": {
   "display_name": "Python 3",
   "language": "python",
   "name": "python3"
  },
  "language_info": {
   "codemirror_mode": {
    "name": "ipython",
    "version": 3
   },
   "file_extension": ".py",
   "mimetype": "text/x-python",
   "name": "python",
   "nbconvert_exporter": "python",
   "pygments_lexer": "ipython3",
   "version": "3.10.11"
  }
 },
 "nbformat": 4,
 "nbformat_minor": 2
}
