{
 "cells": [
  {
   "cell_type": "code",
   "execution_count": 1,
   "id": "0cb2465b-2810-4b1a-b47e-fadeafca8311",
   "metadata": {
    "tags": []
   },
   "outputs": [],
   "source": [
    "import numpy as np\n",
    "import csv\n",
    "import random\n"
   ]
  },
  {
   "cell_type": "code",
   "execution_count": 2,
   "id": "dadef909-3cb1-4201-8b98-bbf262064fbe",
   "metadata": {
    "tags": []
   },
   "outputs": [],
   "source": [
    "# Basis Matricies:\n",
    "\n",
    "# T ~ 0\n",
    "T = np.array([[1,1,0],\n",
    "              [0,1,0],\n",
    "              [0,0,1]])\n",
    "\n",
    "# T inverse ~ 1\n",
    "Tinv = np.array([[1,-1,0],\n",
    "                 [0,1,0],\n",
    "                 [0,0,1]])\n",
    "\n",
    "# B ~ 2\n",
    "B = np.array([[1,0,0],\n",
    "              [0,1,1],\n",
    "              [0,0,1]])\n",
    "\n",
    "# B inverse ~ 3\n",
    "Binv = np.array([[1,0,0],\n",
    "                 [0,1,-1],\n",
    "                 [0,0,1]])\n",
    "\n",
    "notT = [Tinv,B,Binv]\n",
    "notTinv = [T,B,Binv]\n",
    "notB = [T, Tinv, Binv]\n",
    "notBinv = [T, Tinv, B]\n",
    "\n",
    "def chooseSet(A):\n",
    "    if np.array_equal(A,T): return notTinv\n",
    "    elif np.array_equal(A,Tinv): return notT\n",
    "    elif np.array_equal(A,B): return notBinv\n",
    "    else: return notB\n",
    "\n",
    "# Returns the inverse of the given matrix.\n",
    "def classifyInv(A):\n",
    "    if np.array_equal(A,T): return 1\n",
    "    elif np.array_equal(A,Tinv): return 0\n",
    "    elif np.array_equal(A,B): return 3\n",
    "    else: return 2"
   ]
  },
  {
   "cell_type": "code",
   "execution_count": 3,
   "id": "e71a84e1-1608-47b3-8bb7-4749e85c56cc",
   "metadata": {
    "tags": []
   },
   "outputs": [],
   "source": [
    "num_train_points = 10000\n",
    "\n",
    "def toMat(a,b,c):\n",
    "    return np.array([[1,a,c],\n",
    "                     [0,1,b],\n",
    "                     [0,0,1]])\n",
    "\n",
    "def toTuple(A):\n",
    "    return (A[0,1],A[1,2],A[0,2])\n",
    "\n",
    "# Open the CSV file in write mode\n",
    "with open('trainDataHG.csv', 'w', newline='') as csvfile:\n",
    "    # Create a CSV writer object\n",
    "    csv_writer = csv.writer(csvfile)\n",
    "    \n",
    "    # Forbidden Sequence: Tinv, Tinv. No problems anywhere else.\n",
    "    for i in range(num_train_points):\n",
    "        \n",
    "        # choose random length for list of matricies\n",
    "        length = random.randint(3,10000)\n",
    "        sequence = list()\n",
    "        \n",
    "        # choose random first matrix\n",
    "        sequence.append(random.choice([T,Tinv,B,Binv]))\n",
    "        curr = sequence[0]\n",
    "        \n",
    "        # generate random sequence of matricies\n",
    "        for j in range(length):\n",
    "            set = chooseSet(sequence[j-1])\n",
    "            sequence.append(random.choice(set))\n",
    "            curr = np.matmul(sequence[j], curr)\n",
    "        \n",
    "        # classify with inverse of last used matrix\n",
    "        classification = classifyInv(sequence[-1])\n",
    "        a,b,c = toTuple(curr)\n",
    "        \n",
    "        # Write the data row to the CSV\n",
    "        csv_writer.writerow([a, b, c, classification])"
   ]
  }
 ],
 "metadata": {
  "kernelspec": {
   "display_name": "Python 3 (ipykernel)",
   "language": "python",
   "name": "python3"
  },
  "language_info": {
   "codemirror_mode": {
    "name": "ipython",
    "version": 3
   },
   "file_extension": ".py",
   "mimetype": "text/x-python",
   "name": "python",
   "nbconvert_exporter": "python",
   "pygments_lexer": "ipython3",
   "version": "3.11.4"
  }
 },
 "nbformat": 4,
 "nbformat_minor": 5
}
