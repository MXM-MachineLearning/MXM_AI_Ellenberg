{
 "cells": [
  {
   "cell_type": "code",
   "execution_count": 19,
   "id": "initial_id",
   "metadata": {
    "collapsed": true,
    "ExecuteTime": {
     "end_time": "2023-10-12T02:54:11.022670Z",
     "start_time": "2023-10-12T02:54:11.016065Z"
    }
   },
   "outputs": [],
   "source": [
    "\n",
    "import random\n",
    "import numpy as np\n"
   ]
  },
  {
   "cell_type": "code",
   "execution_count": 181,
   "outputs": [],
   "source": [
    "aMat = np.array([[1, 1, 0], [0, 1 ,0], [0, 0 ,1]])\n",
    "bMat =  np.array([[1, 0, 0], [0, 1 ,1], [0, 0 ,1]])\n",
    "aInv = np.linalg.inv(aMat)\n",
    "bInv = np.linalg.inv(bMat)\n",
    "def cMat (x, y):\n",
    "    return (np.linalg.matrix_power(aInv, x) @ np.linalg.matrix_power(bInv, y) \n",
    "            @ np.linalg.matrix_power(aMat, x) @ np.linalg.matrix_power(bMat, y))\n",
    "\n",
    "cMat(3,3)\n",
    "\n",
    "numMatrices = 1000\n",
    "data = np.empty((numMatrices, 3))\n",
    "matrices = []"
   ],
   "metadata": {
    "collapsed": false,
    "ExecuteTime": {
     "end_time": "2023-10-17T21:27:46.283941Z",
     "start_time": "2023-10-17T21:27:46.264280Z"
    }
   },
   "id": "b38d5ab97d9b139a"
  },
  {
   "cell_type": "code",
   "execution_count": 182,
   "outputs": [],
   "source": [
    "for i in range(numMatrices):\n",
    "    a = random.randint(-100, 100)\n",
    "    b = random.randint(-100, 100)\n",
    "    c = random.randint(-100, 100)\n",
    "    data[i][0] = a\n",
    "    data[i][1] = b\n",
    "    data[i][2] = c\n",
    "    matrices.append(np.array([[1, a, c], [0, 1 ,b], [0, 0 ,1]]))\n"
   ],
   "metadata": {
    "collapsed": false,
    "ExecuteTime": {
     "end_time": "2023-10-17T21:27:46.733766Z",
     "start_time": "2023-10-17T21:27:46.726906Z"
    }
   },
   "id": "e612ed287388f031"
  },
  {
   "cell_type": "code",
   "execution_count": 183,
   "outputs": [
    {
     "name": "stdout",
     "output_type": "stream",
     "text": [
      "a:\n",
      "[[1 1 0]\n",
      " [0 1 0]\n",
      " [0 0 1]]\n",
      "aInv:\n",
      "[[1. 0. 0.]\n",
      " [0. 1. 0.]\n",
      " [0. 0. 1.]]\n",
      "a:\n",
      "[[1. 1. 0.]\n",
      " [0. 1. 0.]\n",
      " [0. 0. 1.]]\n",
      "a:\n",
      "[[1. 2. 0.]\n",
      " [0. 1. 0.]\n",
      " [0. 0. 1.]]\n",
      "b:\n",
      "[[1. 2. 2.]\n",
      " [0. 1. 1.]\n",
      " [0. 0. 1.]]\n",
      "aInv:\n",
      "[[1. 1. 2.]\n",
      " [0. 1. 1.]\n",
      " [0. 0. 1.]]\n",
      "bInv:\n",
      "[[1. 1. 1.]\n",
      " [0. 1. 0.]\n",
      " [0. 0. 1.]]\n",
      "bInv:\n",
      "[[ 1.  1.  0.]\n",
      " [ 0.  1. -1.]\n",
      " [ 0.  0.  1.]]\n",
      "b:\n",
      "[[1. 1. 1.]\n",
      " [0. 1. 0.]\n",
      " [0. 0. 1.]]\n",
      "aInv:\n",
      "[[1. 0. 1.]\n",
      " [0. 1. 0.]\n",
      " [0. 0. 1.]]\n",
      "a:\n",
      "[[1. 1. 1.]\n",
      " [0. 1. 0.]\n",
      " [0. 0. 1.]]\n"
     ]
    }
   ],
   "source": [
    "word = []\n",
    "coin = random.randint(0,1)\n",
    "if coin == 1: \n",
    "        print(\"a:\")\n",
    "        word.append(\"a\")\n",
    "        randomMat = aMat\n",
    "        print(randomMat)\n",
    "else: \n",
    "        print(\"b:\")\n",
    "        word.append(\"b\")\n",
    "        randomMat = bMat\n",
    "        print(randomMat)\n",
    "for i in range(10):\n",
    "    choice = random.randint(0,3)\n",
    "    if choice == 0: \n",
    "        print(\"a:\")\n",
    "        word.append(\"a\")\n",
    "        randomMat = randomMat @ aMat\n",
    "        print(randomMat)\n",
    "    if choice == 1: \n",
    "        print(\"b:\")\n",
    "        word.append(\"b\")\n",
    "        randomMat = randomMat @ bMat\n",
    "        print(randomMat)\n",
    "    if choice == 2: \n",
    "        print(\"aInv:\")\n",
    "        word.append(\"aInv\")\n",
    "        randomMat = randomMat @ aInv\n",
    "        print(randomMat)\n",
    "    if choice == 3: \n",
    "        print(\"bInv:\")\n",
    "        word.append(\"bInv\")\n",
    "        randomMat = randomMat @ bInv\n",
    "        print(randomMat)"
   ],
   "metadata": {
    "collapsed": false,
    "ExecuteTime": {
     "end_time": "2023-10-17T21:27:47.280397Z",
     "start_time": "2023-10-17T21:27:47.268132Z"
    }
   },
   "id": "778f940bfda5bd63"
  },
  {
   "cell_type": "code",
   "execution_count": 184,
   "outputs": [],
   "source": [
    "dest = aMat @ bMat @ aMat @ bMat @ aMat @ bMat\n"
   ],
   "metadata": {
    "collapsed": false,
    "ExecuteTime": {
     "end_time": "2023-10-17T21:27:47.887386Z",
     "start_time": "2023-10-17T21:27:47.874708Z"
    }
   },
   "id": "914acf55b77fe23f"
  },
  {
   "cell_type": "code",
   "execution_count": 185,
   "outputs": [
    {
     "data": {
      "text/plain": "array([[1., 1., 1.],\n       [0., 1., 0.],\n       [0., 0., 1.]])"
     },
     "execution_count": 185,
     "metadata": {},
     "output_type": "execute_result"
    }
   ],
   "source": [
    "bInv @ aMat @ bMat "
   ],
   "metadata": {
    "collapsed": false,
    "ExecuteTime": {
     "end_time": "2023-10-17T21:27:48.401157Z",
     "start_time": "2023-10-17T21:27:48.387468Z"
    }
   },
   "id": "8ef145dc7df65c6c"
  },
  {
   "cell_type": "code",
   "execution_count": 186,
   "outputs": [
    {
     "data": {
      "text/plain": "array([[  1.,   0., -75.],\n       [  0.,   1.,   0.],\n       [  0.,   0.,   1.]])"
     },
     "execution_count": 186,
     "metadata": {},
     "output_type": "execute_result"
    }
   ],
   "source": [
    "# 𝑧75=𝑦−10𝑥−8𝑦5𝑥𝑦5𝑥7\n",
    "(np.linalg.matrix_power(bInv, 10) @ np.linalg.matrix_power(aInv, 8) @ np.linalg.matrix_power(bMat, 5) \n",
    " @ np.linalg.matrix_power(aMat, 1)) @ np.linalg.matrix_power(bMat, 5) @ np.linalg.matrix_power(aMat, 7)"
   ],
   "metadata": {
    "collapsed": false,
    "ExecuteTime": {
     "end_time": "2023-10-17T21:27:49.585519Z",
     "start_time": "2023-10-17T21:27:49.580312Z"
    }
   },
   "id": "44da03e963dc07d2"
  },
  {
   "cell_type": "code",
   "execution_count": 187,
   "outputs": [
    {
     "data": {
      "text/plain": "array([[ 1.,  0., 80.],\n       [ 0.,  1.,  0.],\n       [ 0.,  0.,  1.]])"
     },
     "execution_count": 187,
     "metadata": {},
     "output_type": "execute_result"
    }
   ],
   "source": [
    "cMat(10, 8) "
   ],
   "metadata": {
    "collapsed": false,
    "ExecuteTime": {
     "end_time": "2023-10-17T21:27:50.532059Z",
     "start_time": "2023-10-17T21:27:50.520655Z"
    }
   },
   "id": "34b0a8a7ef0ec8c"
  },
  {
   "cell_type": "code",
   "execution_count": 188,
   "outputs": [
    {
     "name": "stdout",
     "output_type": "stream",
     "text": [
      "Epoch 1/50\n",
      "25/25 [==============================] - 2s 14ms/step - loss: 6.5077 - accuracy: 0.2512 - val_loss: 3.5674 - val_accuracy: 0.2900\n",
      "Epoch 2/50\n",
      "25/25 [==============================] - 0s 4ms/step - loss: 2.6290 - accuracy: 0.2625 - val_loss: 2.1905 - val_accuracy: 0.2100\n",
      "Epoch 3/50\n",
      "25/25 [==============================] - 0s 4ms/step - loss: 1.8824 - accuracy: 0.2725 - val_loss: 1.9497 - val_accuracy: 0.2500\n",
      "Epoch 4/50\n",
      "25/25 [==============================] - 0s 3ms/step - loss: 1.7502 - accuracy: 0.2937 - val_loss: 1.9989 - val_accuracy: 0.2350\n",
      "Epoch 5/50\n",
      "25/25 [==============================] - 0s 3ms/step - loss: 1.6593 - accuracy: 0.2850 - val_loss: 1.8964 - val_accuracy: 0.2550\n",
      "Epoch 6/50\n",
      "25/25 [==============================] - 0s 3ms/step - loss: 1.6780 - accuracy: 0.3075 - val_loss: 1.8659 - val_accuracy: 0.2100\n",
      "Epoch 7/50\n",
      "25/25 [==============================] - 0s 3ms/step - loss: 1.6257 - accuracy: 0.2887 - val_loss: 1.7252 - val_accuracy: 0.2400\n",
      "Epoch 8/50\n",
      "25/25 [==============================] - 0s 3ms/step - loss: 1.5907 - accuracy: 0.3050 - val_loss: 1.7605 - val_accuracy: 0.1900\n",
      "Epoch 9/50\n",
      "25/25 [==============================] - 0s 2ms/step - loss: 1.5409 - accuracy: 0.3038 - val_loss: 1.9115 - val_accuracy: 0.1900\n",
      "Epoch 10/50\n",
      "25/25 [==============================] - 0s 2ms/step - loss: 1.5217 - accuracy: 0.3262 - val_loss: 1.7157 - val_accuracy: 0.2150\n",
      "Epoch 11/50\n",
      "25/25 [==============================] - 0s 2ms/step - loss: 1.5033 - accuracy: 0.3125 - val_loss: 1.7641 - val_accuracy: 0.1900\n",
      "Epoch 12/50\n",
      "25/25 [==============================] - 0s 2ms/step - loss: 1.5906 - accuracy: 0.2975 - val_loss: 1.7806 - val_accuracy: 0.1750\n",
      "Epoch 13/50\n",
      "25/25 [==============================] - 0s 2ms/step - loss: 1.5212 - accuracy: 0.3250 - val_loss: 1.7406 - val_accuracy: 0.2250\n",
      "Epoch 14/50\n",
      "25/25 [==============================] - 0s 3ms/step - loss: 1.4778 - accuracy: 0.3262 - val_loss: 1.6792 - val_accuracy: 0.2000\n",
      "Epoch 15/50\n",
      "25/25 [==============================] - 0s 2ms/step - loss: 1.4383 - accuracy: 0.3400 - val_loss: 1.6735 - val_accuracy: 0.1500\n",
      "Epoch 16/50\n",
      "25/25 [==============================] - 0s 2ms/step - loss: 1.4486 - accuracy: 0.3200 - val_loss: 1.8083 - val_accuracy: 0.2150\n",
      "Epoch 17/50\n",
      "25/25 [==============================] - 0s 2ms/step - loss: 1.4924 - accuracy: 0.3288 - val_loss: 1.7535 - val_accuracy: 0.1850\n",
      "Epoch 18/50\n",
      "25/25 [==============================] - 0s 2ms/step - loss: 1.4745 - accuracy: 0.3038 - val_loss: 1.8926 - val_accuracy: 0.2000\n",
      "Epoch 19/50\n",
      "25/25 [==============================] - 0s 2ms/step - loss: 1.4510 - accuracy: 0.3225 - val_loss: 1.7885 - val_accuracy: 0.1550\n",
      "Epoch 20/50\n",
      "25/25 [==============================] - 0s 2ms/step - loss: 1.4096 - accuracy: 0.3487 - val_loss: 1.7615 - val_accuracy: 0.2000\n",
      "Epoch 21/50\n",
      "25/25 [==============================] - 0s 2ms/step - loss: 1.4397 - accuracy: 0.3300 - val_loss: 1.8585 - val_accuracy: 0.2350\n",
      "Epoch 22/50\n",
      "25/25 [==============================] - 0s 2ms/step - loss: 1.4061 - accuracy: 0.3350 - val_loss: 1.6605 - val_accuracy: 0.2200\n",
      "Epoch 23/50\n",
      "25/25 [==============================] - 0s 2ms/step - loss: 1.4005 - accuracy: 0.3375 - val_loss: 1.7353 - val_accuracy: 0.2000\n",
      "Epoch 24/50\n",
      "25/25 [==============================] - 0s 2ms/step - loss: 1.4101 - accuracy: 0.3475 - val_loss: 1.7786 - val_accuracy: 0.2050\n",
      "Epoch 25/50\n",
      "25/25 [==============================] - 0s 3ms/step - loss: 1.4024 - accuracy: 0.3587 - val_loss: 1.7376 - val_accuracy: 0.1800\n",
      "Epoch 26/50\n",
      "25/25 [==============================] - 0s 3ms/step - loss: 1.4264 - accuracy: 0.3425 - val_loss: 1.7576 - val_accuracy: 0.1850\n",
      "Epoch 27/50\n",
      "25/25 [==============================] - 0s 2ms/step - loss: 1.4073 - accuracy: 0.3475 - val_loss: 1.7634 - val_accuracy: 0.2300\n",
      "Epoch 28/50\n",
      "25/25 [==============================] - 0s 2ms/step - loss: 1.4175 - accuracy: 0.3462 - val_loss: 1.8126 - val_accuracy: 0.2150\n",
      "Epoch 29/50\n",
      "25/25 [==============================] - 0s 2ms/step - loss: 1.3985 - accuracy: 0.3350 - val_loss: 1.7598 - val_accuracy: 0.2250\n",
      "Epoch 30/50\n",
      "25/25 [==============================] - 0s 2ms/step - loss: 1.3920 - accuracy: 0.3512 - val_loss: 1.7092 - val_accuracy: 0.2150\n",
      "Epoch 31/50\n",
      "25/25 [==============================] - 0s 2ms/step - loss: 1.3451 - accuracy: 0.3475 - val_loss: 1.9142 - val_accuracy: 0.2100\n",
      "Epoch 32/50\n",
      "25/25 [==============================] - 0s 2ms/step - loss: 1.4384 - accuracy: 0.3288 - val_loss: 1.7516 - val_accuracy: 0.2200\n",
      "Epoch 33/50\n",
      "25/25 [==============================] - 0s 2ms/step - loss: 1.3643 - accuracy: 0.3638 - val_loss: 1.7955 - val_accuracy: 0.2100\n",
      "Epoch 34/50\n",
      "25/25 [==============================] - 0s 2ms/step - loss: 1.3733 - accuracy: 0.3800 - val_loss: 1.7831 - val_accuracy: 0.1800\n",
      "Epoch 35/50\n",
      "25/25 [==============================] - 0s 2ms/step - loss: 1.3880 - accuracy: 0.3675 - val_loss: 1.7727 - val_accuracy: 0.2200\n",
      "Epoch 36/50\n",
      "25/25 [==============================] - 0s 2ms/step - loss: 1.3569 - accuracy: 0.3725 - val_loss: 1.7294 - val_accuracy: 0.2250\n",
      "Epoch 37/50\n",
      "25/25 [==============================] - 0s 2ms/step - loss: 1.3473 - accuracy: 0.3925 - val_loss: 1.7764 - val_accuracy: 0.1850\n",
      "Epoch 38/50\n",
      "25/25 [==============================] - 0s 2ms/step - loss: 1.3363 - accuracy: 0.3650 - val_loss: 1.6530 - val_accuracy: 0.2650\n",
      "Epoch 39/50\n",
      "25/25 [==============================] - 0s 2ms/step - loss: 1.4053 - accuracy: 0.3425 - val_loss: 1.7704 - val_accuracy: 0.2400\n",
      "Epoch 40/50\n",
      "25/25 [==============================] - 0s 2ms/step - loss: 1.3888 - accuracy: 0.3688 - val_loss: 1.8772 - val_accuracy: 0.2200\n",
      "Epoch 41/50\n",
      "25/25 [==============================] - 0s 2ms/step - loss: 1.3680 - accuracy: 0.3713 - val_loss: 1.7286 - val_accuracy: 0.2100\n",
      "Epoch 42/50\n",
      "25/25 [==============================] - 0s 3ms/step - loss: 1.3252 - accuracy: 0.3725 - val_loss: 1.7117 - val_accuracy: 0.2150\n",
      "Epoch 43/50\n",
      "25/25 [==============================] - 0s 2ms/step - loss: 1.3314 - accuracy: 0.3600 - val_loss: 1.7356 - val_accuracy: 0.2050\n",
      "Epoch 44/50\n",
      "25/25 [==============================] - 0s 2ms/step - loss: 1.3179 - accuracy: 0.3875 - val_loss: 1.6626 - val_accuracy: 0.2650\n",
      "Epoch 45/50\n",
      "25/25 [==============================] - 0s 2ms/step - loss: 1.3493 - accuracy: 0.3613 - val_loss: 1.7614 - val_accuracy: 0.2350\n",
      "Epoch 46/50\n",
      "25/25 [==============================] - 0s 2ms/step - loss: 1.3610 - accuracy: 0.3738 - val_loss: 1.7749 - val_accuracy: 0.2450\n",
      "Epoch 47/50\n",
      "25/25 [==============================] - 0s 3ms/step - loss: 1.3326 - accuracy: 0.3638 - val_loss: 1.7365 - val_accuracy: 0.2350\n",
      "Epoch 48/50\n",
      "25/25 [==============================] - 0s 2ms/step - loss: 1.3285 - accuracy: 0.3750 - val_loss: 1.6950 - val_accuracy: 0.2050\n",
      "Epoch 49/50\n",
      "25/25 [==============================] - 0s 2ms/step - loss: 1.3287 - accuracy: 0.3713 - val_loss: 1.7136 - val_accuracy: 0.2100\n",
      "Epoch 50/50\n",
      "25/25 [==============================] - 0s 2ms/step - loss: 1.3677 - accuracy: 0.3663 - val_loss: 1.7958 - val_accuracy: 0.2600\n"
     ]
    },
    {
     "data": {
      "text/plain": "<keras.src.callbacks.History at 0x12321fd10>"
     },
     "execution_count": 188,
     "metadata": {},
     "output_type": "execute_result"
    }
   ],
   "source": [
    "# from Chat GPT \n",
    "import numpy as np\n",
    "import tensorflow as tf\n",
    "from tensorflow.keras.models import Sequential\n",
    "from tensorflow.keras.layers import Dense\n",
    "\n",
    "# Generate some dummy data for training\n",
    "np.random.seed(42)\n",
    "X_train = data  # 1000 samples with 3 features each\n",
    "y_train = np.random.randint(0, 4, size=(1000,))  # Labels 0, 1, 2, or 3\n",
    "\n",
    "# Convert labels to one-hot encoding\n",
    "y_train_one_hot = tf.keras.utils.to_categorical(y_train, num_classes=4)\n",
    "\n",
    "# Define the neural network architecture\n",
    "model = Sequential()\n",
    "model.add(Dense(64, input_dim=3, activation='relu'))\n",
    "model.add(Dense(32, activation='relu'))\n",
    "model.add(Dense(4, activation='softmax'))\n",
    "\n",
    "# Compile the model\n",
    "model.compile(optimizer='adam', loss='categorical_crossentropy', metrics=['accuracy'])\n",
    "\n",
    "# Train the model\n",
    "model.fit(X_train, y_train_one_hot, epochs=50, batch_size=32, validation_split=0.2)\n",
    "\n",
    "# Now you can use the trained model to make predictions on new data\n",
    "# For example, if you have a new input X_new with shape (1, 3):\n",
    "# prediction = model.predict(X_new)\n",
    "# chosen_transformation = np.argmax(prediction)\n"
   ],
   "metadata": {
    "collapsed": false,
    "ExecuteTime": {
     "end_time": "2023-10-17T21:28:01.587661Z",
     "start_time": "2023-10-17T21:27:54.199907Z"
    }
   },
   "id": "4b17836872e09acb"
  },
  {
   "cell_type": "code",
   "execution_count": 195,
   "outputs": [
    {
     "data": {
      "text/plain": "array([[1, 1, 0],\n       [0, 1, 1],\n       [0, 0, 1]])"
     },
     "execution_count": 195,
     "metadata": {},
     "output_type": "execute_result"
    }
   ],
   "source": [
    "bMat @ aMat\n"
   ],
   "metadata": {
    "collapsed": false,
    "ExecuteTime": {
     "end_time": "2023-10-17T21:29:30.993723Z",
     "start_time": "2023-10-17T21:29:30.979692Z"
    }
   },
   "id": "6f33b8b82cd69688"
  },
  {
   "cell_type": "code",
   "execution_count": 194,
   "outputs": [
    {
     "data": {
      "text/plain": "array([[1, 1, 1],\n       [0, 1, 1],\n       [0, 0, 1]])"
     },
     "execution_count": 194,
     "metadata": {},
     "output_type": "execute_result"
    }
   ],
   "source": [
    "aMat @ bMat\n"
   ],
   "metadata": {
    "collapsed": false,
    "ExecuteTime": {
     "end_time": "2023-10-17T21:29:26.834792Z",
     "start_time": "2023-10-17T21:29:26.814516Z"
    }
   },
   "id": "20b90890f6ee7776"
  },
  {
   "cell_type": "code",
   "execution_count": 127,
   "outputs": [
    {
     "data": {
      "text/plain": "array([[ 1, 12, 15],\n       [ 0,  1,  3],\n       [ 0,  0,  1]])"
     },
     "execution_count": 127,
     "metadata": {},
     "output_type": "execute_result"
    }
   ],
   "source": [
    "np.linalg.matrix_power(aMat, 12) @ np.linalg.matrix_power(bMat, 3) \n",
    "np.linalg.matrix_power(aMat, 5) @ np.linalg.matrix_power(bMat, 3) @ np.linalg.matrix_power(aMat, 7)"
   ],
   "metadata": {
    "collapsed": false,
    "ExecuteTime": {
     "end_time": "2023-10-12T17:30:53.065317Z",
     "start_time": "2023-10-12T17:30:53.048642Z"
    }
   },
   "id": "4ac90de30c53bd6"
  },
  {
   "cell_type": "code",
   "execution_count": 124,
   "outputs": [
    {
     "data": {
      "text/plain": "array([[1, 4, 0],\n       [0, 1, 0],\n       [0, 0, 1]])"
     },
     "execution_count": 124,
     "metadata": {},
     "output_type": "execute_result"
    }
   ],
   "source": [
    "np.linalg.matrix_power(aInv @ bInv @ aMat @ bMat, 15)"
   ],
   "metadata": {
    "collapsed": false,
    "ExecuteTime": {
     "end_time": "2023-10-12T17:27:32.837445Z",
     "start_time": "2023-10-12T17:27:32.826788Z"
    }
   },
   "id": "db0df082ce29a250"
  },
  {
   "cell_type": "code",
   "execution_count": 131,
   "outputs": [
    {
     "data": {
      "text/plain": "array([[ 1.,  0., 15.],\n       [ 0.,  1.,  0.],\n       [ 0.,  0.,  1.]])"
     },
     "execution_count": 131,
     "metadata": {},
     "output_type": "execute_result"
    }
   ],
   "source": [
    "np.linalg.matrix_power(cMat(1,1), 15)"
   ],
   "metadata": {
    "collapsed": false,
    "ExecuteTime": {
     "end_time": "2023-10-12T17:40:36.766887Z",
     "start_time": "2023-10-12T17:40:36.755288Z"
    }
   },
   "id": "50e47ecadf32f37e"
  },
  {
   "cell_type": "code",
   "execution_count": 145,
   "outputs": [
    {
     "data": {
      "text/plain": "array([[ 1.,  0., 25.],\n       [ 0.,  1.,  0.],\n       [ 0.,  0.,  1.]])"
     },
     "execution_count": 145,
     "metadata": {},
     "output_type": "execute_result"
    }
   ],
   "source": [
    "cMat(5,5) "
   ],
   "metadata": {
    "collapsed": false,
    "ExecuteTime": {
     "end_time": "2023-10-12T17:51:52.878079Z",
     "start_time": "2023-10-12T17:51:52.849711Z"
    }
   },
   "id": "83605092d6ca1fc3"
  },
  {
   "cell_type": "code",
   "execution_count": 147,
   "outputs": [
    {
     "data": {
      "text/plain": "array([[1, 3, 0],\n       [0, 1, 3],\n       [0, 0, 1]])"
     },
     "execution_count": 147,
     "metadata": {},
     "output_type": "execute_result"
    }
   ],
   "source": [
    "np.linalg.matrix_power(bMat, 3) @ np.linalg.matrix_power(aMat, 3)"
   ],
   "metadata": {
    "collapsed": false,
    "ExecuteTime": {
     "end_time": "2023-10-12T18:24:12.383183Z",
     "start_time": "2023-10-12T18:24:12.355867Z"
    }
   },
   "id": "5bacf6487b3d1de3"
  },
  {
   "cell_type": "code",
   "execution_count": 171,
   "outputs": [
    {
     "data": {
      "text/plain": "array([[1., 0., 1.],\n       [0., 1., 0.],\n       [0., 0., 1.]])"
     },
     "execution_count": 171,
     "metadata": {},
     "output_type": "execute_result"
    }
   ],
   "source": [
    "aMat @ bMat @ aInv @ bInv"
   ],
   "metadata": {
    "collapsed": false,
    "ExecuteTime": {
     "end_time": "2023-10-17T21:24:43.111701Z",
     "start_time": "2023-10-17T21:24:43.008490Z"
    }
   },
   "id": "b60197a23cf440de"
  },
  {
   "cell_type": "code",
   "execution_count": 156,
   "outputs": [
    {
     "data": {
      "text/plain": "array([[1., 0., 1.],\n       [0., 1., 0.],\n       [0., 0., 1.]])"
     },
     "execution_count": 156,
     "metadata": {},
     "output_type": "execute_result"
    }
   ],
   "source": [
    "cMat(1,1)"
   ],
   "metadata": {
    "collapsed": false,
    "ExecuteTime": {
     "end_time": "2023-10-16T17:19:22.186072Z",
     "start_time": "2023-10-16T17:19:22.143232Z"
    }
   },
   "id": "d96d55df16cd1043"
  },
  {
   "cell_type": "code",
   "execution_count": 180,
   "outputs": [
    {
     "data": {
      "text/plain": "array([[1, 8, 0],\n       [0, 1, 0],\n       [0, 0, 1]])"
     },
     "execution_count": 180,
     "metadata": {},
     "output_type": "execute_result"
    }
   ],
   "source": [
    "# testing shortest path when b is smallest: b = 12 a = 20 c = 15\n",
    "# my guess: 35 is shortest \n",
    "np.linalg.matrix_power(aMat @ aMat, 4)\n"
   ],
   "metadata": {
    "collapsed": false,
    "ExecuteTime": {
     "end_time": "2023-10-17T21:27:39.522404Z",
     "start_time": "2023-10-17T21:27:39.503008Z"
    }
   },
   "id": "f2dc1f0dccdf88e2"
  },
  {
   "cell_type": "code",
   "execution_count": 169,
   "outputs": [
    {
     "data": {
      "text/plain": "array([[ 1., -4.,  0.],\n       [ 0.,  1.,  0.],\n       [ 0.,  0.,  1.]])"
     },
     "execution_count": 169,
     "metadata": {},
     "output_type": "execute_result"
    }
   ],
   "source": [
    "np.linalg.matrix_power(aInv, 4)"
   ],
   "metadata": {
    "collapsed": false,
    "ExecuteTime": {
     "end_time": "2023-10-16T17:37:47.592163Z",
     "start_time": "2023-10-16T17:37:47.564291Z"
    }
   },
   "id": "ceaca2d07e6a362e"
  },
  {
   "cell_type": "code",
   "execution_count": 178,
   "outputs": [
    {
     "data": {
      "text/plain": "array([[ 1.,  8., 35.],\n       [ 0.,  1.,  0.],\n       [ 0.,  0.,  1.]])"
     },
     "execution_count": 178,
     "metadata": {},
     "output_type": "execute_result"
    }
   ],
   "source": [
    "cMat(7,5) @ np.linalg.matrix_power(aMat @ aMat, 4)"
   ],
   "metadata": {
    "collapsed": false,
    "ExecuteTime": {
     "end_time": "2023-10-17T21:27:22.543561Z",
     "start_time": "2023-10-17T21:27:22.532059Z"
    }
   },
   "id": "c89bd99b293b993e"
  },
  {
   "cell_type": "code",
   "execution_count": null,
   "outputs": [],
   "source": [],
   "metadata": {
    "collapsed": false
   },
   "id": "84a1ac890cbaf8a3"
  }
 ],
 "metadata": {
  "kernelspec": {
   "display_name": "Python 3",
   "language": "python",
   "name": "python3"
  },
  "language_info": {
   "codemirror_mode": {
    "name": "ipython",
    "version": 2
   },
   "file_extension": ".py",
   "mimetype": "text/x-python",
   "name": "python",
   "nbconvert_exporter": "python",
   "pygments_lexer": "ipython2",
   "version": "2.7.6"
  }
 },
 "nbformat": 4,
 "nbformat_minor": 5
}
