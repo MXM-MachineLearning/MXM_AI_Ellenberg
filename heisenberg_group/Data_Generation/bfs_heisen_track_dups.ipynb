{
 "cells": [
  {
   "cell_type": "code",
   "execution_count": 1,
   "metadata": {},
   "outputs": [],
   "source": [
    "import numpy as np\n",
    "from collections import deque\n",
    "import numpy as np\n",
    "import time\n",
    "import pandas as pd"
   ]
  },
  {
   "cell_type": "code",
   "execution_count": 112,
   "metadata": {},
   "outputs": [],
   "source": [
    "def matrix_to_tuple(matrix):\n",
    "    return (matrix[0][1], matrix[0][2],\n",
    "            matrix[1][2])\n",
    "\n",
    "def tuple_to_matrix(my_tuple):\n",
    "    return np.array([[my_tuple[0], my_tuple[1], my_tuple[2]], \n",
    "                     [my_tuple[3], my_tuple[4], my_tuple[5]], \n",
    "                     [my_tuple[6], my_tuple[7], my_tuple[8]]])\n",
    "\n",
    "def apply_mat(mat, index):\n",
    "    if index==0:\n",
    "        return mat @ A\n",
    "    elif index==1:\n",
    "        return mat @ B\n",
    "    elif index==2:\n",
    "        return mat @ C\n",
    "    elif index==3:\n",
    "        return mat @ D\n",
    "    assert(1==2)\n",
    "\n",
    "# B is the inverse of A\n",
    "A = np.array([[1, 1, 0], [0, 1, 0], [0, 0, 1]])\n",
    "B = np.array([[1, -1, 0], [0, 1, 0], [0, 0, 1]])\n",
    "\n",
    "# C is the inverse of D\n",
    "C = np.array([[1, 0, 0], [0, 1, 1], [0, 0, 1]])\n",
    "D = np.array([[1, 0, 0], [0, 1, -1], [0, 0, 1]])\n",
    "\n",
    "# together, A, B, C, and D generate the heisenberg group\n",
    "\n",
    "I = np.array([[1, 0, 0], [0, 1, 0], [0, 0, 1]])"
   ]
  },
  {
   "cell_type": "code",
   "execution_count": 113,
   "metadata": {},
   "outputs": [],
   "source": [
    "data = pd.DataFrame({\n",
    "        'val1': [],\n",
    "        'val2': [],\n",
    "        'val3': [],\n",
    "        'last_matrix': [],\n",
    "        \"num_steps\": []\n",
    "    })\n",
    "\n",
    "I_as_tuple = matrix_to_tuple(I)\n",
    "\n",
    "cur_row_df = pd.DataFrame([[\n",
    "    I_as_tuple[0], I_as_tuple[1], I_as_tuple[2], \n",
    "    0, 0\n",
    "    ]], columns=['val1', 'val2', 'val3', 'last_matrix', 'num_steps'])\n",
    "data = pd.concat([cur_row_df, data])"
   ]
  },
  {
   "cell_type": "code",
   "execution_count": 114,
   "metadata": {},
   "outputs": [
    {
     "data": {
      "text/html": [
       "<div>\n",
       "<style scoped>\n",
       "    .dataframe tbody tr th:only-of-type {\n",
       "        vertical-align: middle;\n",
       "    }\n",
       "\n",
       "    .dataframe tbody tr th {\n",
       "        vertical-align: top;\n",
       "    }\n",
       "\n",
       "    .dataframe thead th {\n",
       "        text-align: right;\n",
       "    }\n",
       "</style>\n",
       "<table border=\"1\" class=\"dataframe\">\n",
       "  <thead>\n",
       "    <tr style=\"text-align: right;\">\n",
       "      <th></th>\n",
       "      <th>val1</th>\n",
       "      <th>val2</th>\n",
       "      <th>val3</th>\n",
       "      <th>last_matrix</th>\n",
       "      <th>num_steps</th>\n",
       "    </tr>\n",
       "  </thead>\n",
       "  <tbody>\n",
       "    <tr>\n",
       "      <th>0</th>\n",
       "      <td>0.0</td>\n",
       "      <td>0.0</td>\n",
       "      <td>0.0</td>\n",
       "      <td>0.0</td>\n",
       "      <td>0.0</td>\n",
       "    </tr>\n",
       "  </tbody>\n",
       "</table>\n",
       "</div>"
      ],
      "text/plain": [
       "   val1  val2  val3  last_matrix  num_steps\n",
       "0   0.0   0.0   0.0          0.0        0.0"
      ]
     },
     "execution_count": 114,
     "metadata": {},
     "output_type": "execute_result"
    }
   ],
   "source": [
    "data"
   ]
  },
  {
   "cell_type": "code",
   "execution_count": 115,
   "metadata": {},
   "outputs": [
    {
     "name": "stdout",
     "output_type": "stream",
     "text": [
      "Timed out\n"
     ]
    }
   ],
   "source": [
    "# adapted from ChatGPT\n",
    "# visited contains keys of the tuples we've already visited and values of either 0 when A was the matrix that brought us to this state\n",
    "# of 1 if B was the matrix that brought us to this state\n",
    "\n",
    "visited = set()\n",
    "\n",
    "start_time = time.time()\n",
    "\n",
    "def bfs(start, myDF):\n",
    "    visited.add(matrix_to_tuple(start))\n",
    "    visited.add(matrix_to_tuple(start @ A))\n",
    "    visited.add(matrix_to_tuple(start @ B))\n",
    "    visited.add(matrix_to_tuple(start @ C))\n",
    "    visited.add(matrix_to_tuple(start @ D))\n",
    "    \n",
    "    queue = deque([[A, 1, 0], [B, 1, 1], [C, 1, 2], [D, 1, 3]])\n",
    "\n",
    "    while queue:\n",
    "        cur_item = queue.popleft()\n",
    "        cur_mat = cur_item[0]\n",
    "        cur_index = cur_item[1]\n",
    "        cur_neighbor = cur_item[2]\n",
    "        cur_tuple = matrix_to_tuple(cur_mat)\n",
    "\n",
    "        cur_row_df = pd.DataFrame([[\n",
    "            cur_tuple[0], cur_tuple[1], cur_tuple[2], \n",
    "            cur_index, cur_neighbor\n",
    "            ]], columns=['val1', 'val2', 'val3', 'num_steps', 'last_matrix'])\n",
    "        myDF = pd.concat([cur_row_df, myDF])\n",
    "\n",
    "\n",
    "        if time.time() >= start_time + 600:\n",
    "            # set a point to end this, currently 10 minutes\n",
    "            print(\"Timed out\")\n",
    "            return myDF\n",
    "\n",
    "        for neighbor in [0, 1, 2, 3]:\n",
    "            new_mat = apply_mat(cur_mat, neighbor)\n",
    "            new_tuple = matrix_to_tuple(new_mat)\n",
    "            if not new_tuple in visited:\n",
    "                visited.add(new_tuple)\n",
    "                queue.append([new_mat, cur_index+1, neighbor])\n",
    "        \n",
    "\n",
    "data = bfs(I, data)"
   ]
  },
  {
   "cell_type": "code",
   "execution_count": 116,
   "metadata": {},
   "outputs": [
    {
     "data": {
      "text/html": [
       "<div>\n",
       "<style scoped>\n",
       "    .dataframe tbody tr th:only-of-type {\n",
       "        vertical-align: middle;\n",
       "    }\n",
       "\n",
       "    .dataframe tbody tr th {\n",
       "        vertical-align: top;\n",
       "    }\n",
       "\n",
       "    .dataframe thead th {\n",
       "        text-align: right;\n",
       "    }\n",
       "</style>\n",
       "<table border=\"1\" class=\"dataframe\">\n",
       "  <thead>\n",
       "    <tr style=\"text-align: right;\">\n",
       "      <th></th>\n",
       "      <th>val1</th>\n",
       "      <th>val2</th>\n",
       "      <th>val3</th>\n",
       "      <th>num_steps</th>\n",
       "      <th>last_matrix</th>\n",
       "    </tr>\n",
       "  </thead>\n",
       "  <tbody>\n",
       "    <tr>\n",
       "      <th>0</th>\n",
       "      <td>-23.0</td>\n",
       "      <td>66.0</td>\n",
       "      <td>-1.0</td>\n",
       "      <td>28.0</td>\n",
       "      <td>3.0</td>\n",
       "    </tr>\n",
       "    <tr>\n",
       "      <th>1</th>\n",
       "      <td>-24.0</td>\n",
       "      <td>45.0</td>\n",
       "      <td>0.0</td>\n",
       "      <td>28.0</td>\n",
       "      <td>3.0</td>\n",
       "    </tr>\n",
       "    <tr>\n",
       "      <th>2</th>\n",
       "      <td>-25.0</td>\n",
       "      <td>22.0</td>\n",
       "      <td>1.0</td>\n",
       "      <td>28.0</td>\n",
       "      <td>3.0</td>\n",
       "    </tr>\n",
       "    <tr>\n",
       "      <th>3</th>\n",
       "      <td>-26.0</td>\n",
       "      <td>-3.0</td>\n",
       "      <td>2.0</td>\n",
       "      <td>28.0</td>\n",
       "      <td>1.0</td>\n",
       "    </tr>\n",
       "    <tr>\n",
       "      <th>4</th>\n",
       "      <td>-2.0</td>\n",
       "      <td>89.0</td>\n",
       "      <td>-8.0</td>\n",
       "      <td>28.0</td>\n",
       "      <td>0.0</td>\n",
       "    </tr>\n",
       "    <tr>\n",
       "      <th>...</th>\n",
       "      <td>...</td>\n",
       "      <td>...</td>\n",
       "      <td>...</td>\n",
       "      <td>...</td>\n",
       "      <td>...</td>\n",
       "    </tr>\n",
       "    <tr>\n",
       "      <th>255581</th>\n",
       "      <td>0.0</td>\n",
       "      <td>0.0</td>\n",
       "      <td>-1.0</td>\n",
       "      <td>1.0</td>\n",
       "      <td>3.0</td>\n",
       "    </tr>\n",
       "    <tr>\n",
       "      <th>255582</th>\n",
       "      <td>0.0</td>\n",
       "      <td>0.0</td>\n",
       "      <td>1.0</td>\n",
       "      <td>1.0</td>\n",
       "      <td>2.0</td>\n",
       "    </tr>\n",
       "    <tr>\n",
       "      <th>255583</th>\n",
       "      <td>-1.0</td>\n",
       "      <td>0.0</td>\n",
       "      <td>0.0</td>\n",
       "      <td>1.0</td>\n",
       "      <td>1.0</td>\n",
       "    </tr>\n",
       "    <tr>\n",
       "      <th>255584</th>\n",
       "      <td>1.0</td>\n",
       "      <td>0.0</td>\n",
       "      <td>0.0</td>\n",
       "      <td>1.0</td>\n",
       "      <td>0.0</td>\n",
       "    </tr>\n",
       "    <tr>\n",
       "      <th>255585</th>\n",
       "      <td>0.0</td>\n",
       "      <td>0.0</td>\n",
       "      <td>0.0</td>\n",
       "      <td>0.0</td>\n",
       "      <td>0.0</td>\n",
       "    </tr>\n",
       "  </tbody>\n",
       "</table>\n",
       "<p>255586 rows × 5 columns</p>\n",
       "</div>"
      ],
      "text/plain": [
       "        val1  val2  val3  num_steps  last_matrix\n",
       "0      -23.0  66.0  -1.0       28.0          3.0\n",
       "1      -24.0  45.0   0.0       28.0          3.0\n",
       "2      -25.0  22.0   1.0       28.0          3.0\n",
       "3      -26.0  -3.0   2.0       28.0          1.0\n",
       "4       -2.0  89.0  -8.0       28.0          0.0\n",
       "...      ...   ...   ...        ...          ...\n",
       "255581   0.0   0.0  -1.0        1.0          3.0\n",
       "255582   0.0   0.0   1.0        1.0          2.0\n",
       "255583  -1.0   0.0   0.0        1.0          1.0\n",
       "255584   1.0   0.0   0.0        1.0          0.0\n",
       "255585   0.0   0.0   0.0        0.0          0.0\n",
       "\n",
       "[255586 rows x 5 columns]"
      ]
     },
     "execution_count": 116,
     "metadata": {},
     "output_type": "execute_result"
    }
   ],
   "source": [
    "data=data.reset_index(drop=True)\n",
    "data"
   ]
  },
  {
   "cell_type": "code",
   "execution_count": 117,
   "metadata": {},
   "outputs": [
    {
     "name": "stdout",
     "output_type": "stream",
     "text": [
      "(255586, 5)\n"
     ]
    },
    {
     "data": {
      "text/plain": [
       "(255586, 5)"
      ]
     },
     "execution_count": 117,
     "metadata": {},
     "output_type": "execute_result"
    }
   ],
   "source": [
    "print(data.shape)\n",
    "data.drop_duplicates().shape"
   ]
  },
  {
   "cell_type": "code",
   "execution_count": 118,
   "metadata": {},
   "outputs": [
    {
     "ename": "",
     "evalue": "",
     "output_type": "error",
     "traceback": [
      "\u001b[1;31mThe Kernel crashed while executing code in the the current cell or a previous cell. Please review the code in the cell(s) to identify a possible cause of the failure. Click <a href='https://aka.ms/vscodeJupyterKernelCrash'>here</a> for more info. View Jupyter <a href='command:jupyter.viewOutput'>log</a> for further details."
     ]
    }
   ],
   "source": [
    "# data = data.drop_duplicates(subset=['val1', 'val2', 'val3'])\n",
    "data.to_csv(\"../Data_Generation/Data_files/bfs_heisenberg_data.csv\", index=False)"
   ]
  },
  {
   "cell_type": "code",
   "execution_count": 94,
   "metadata": {},
   "outputs": [
    {
     "data": {
      "text/html": [
       "<div>\n",
       "<style scoped>\n",
       "    .dataframe tbody tr th:only-of-type {\n",
       "        vertical-align: middle;\n",
       "    }\n",
       "\n",
       "    .dataframe tbody tr th {\n",
       "        vertical-align: top;\n",
       "    }\n",
       "\n",
       "    .dataframe thead th {\n",
       "        text-align: right;\n",
       "    }\n",
       "</style>\n",
       "<table border=\"1\" class=\"dataframe\">\n",
       "  <thead>\n",
       "    <tr style=\"text-align: right;\">\n",
       "      <th></th>\n",
       "      <th>val1</th>\n",
       "      <th>val2</th>\n",
       "      <th>val3</th>\n",
       "      <th>num_steps</th>\n",
       "      <th>last_matrix</th>\n",
       "    </tr>\n",
       "  </thead>\n",
       "  <tbody>\n",
       "  </tbody>\n",
       "</table>\n",
       "</div>"
      ],
      "text/plain": [
       "Empty DataFrame\n",
       "Columns: [val1, val2, val3, num_steps, last_matrix]\n",
       "Index: []"
      ]
     },
     "execution_count": 94,
     "metadata": {},
     "output_type": "execute_result"
    }
   ],
   "source": [
    "duplicate_rows = data[data.duplicated(keep=False)]\n",
    "duplicate_rows"
   ]
  }
 ],
 "metadata": {
  "kernelspec": {
   "display_name": "Python 3",
   "language": "python",
   "name": "python3"
  },
  "language_info": {
   "codemirror_mode": {
    "name": "ipython",
    "version": 3
   },
   "file_extension": ".py",
   "mimetype": "text/x-python",
   "name": "python",
   "nbconvert_exporter": "python",
   "pygments_lexer": "ipython3",
   "version": "3.10.11"
  }
 },
 "nbformat": 4,
 "nbformat_minor": 2
}
