{
 "cells": [
  {
   "cell_type": "code",
   "execution_count": 1,
   "metadata": {},
   "outputs": [],
   "source": [
    "import numpy as np\n",
    "from collections import deque\n",
    "import numpy as np\n",
    "import time\n",
    "import pandas as pd"
   ]
  },
  {
   "cell_type": "code",
   "execution_count": 2,
   "metadata": {},
   "outputs": [],
   "source": [
    "def matrix_to_tuple(matrix):\n",
    "    return (matrix[0][1], matrix[0][2],\n",
    "            matrix[1][2])\n",
    "\n",
    "def tuple_to_matrix(my_tuple):\n",
    "    return np.array([[my_tuple[0], my_tuple[1], my_tuple[2]], \n",
    "                     [my_tuple[3], my_tuple[4], my_tuple[5]], \n",
    "                     [my_tuple[6], my_tuple[7], my_tuple[8]]])\n",
    "\n",
    "def apply_mat(mat, index):\n",
    "    if index==0:\n",
    "        return mat @ A\n",
    "    elif index==1:\n",
    "        return mat @ B\n",
    "    elif index==2:\n",
    "        return mat @ C\n",
    "    elif index==3:\n",
    "        return mat @ D\n",
    "    assert(1==2)\n",
    "\n",
    "# B is the inverse of A\n",
    "A = np.array([[1, 1, 0], [0, 1, 0], [0, 0, 1]])\n",
    "B = np.array([[1, -1, 0], [0, 1, 0], [0, 0, 1]])\n",
    "\n",
    "# C is the inverse of D\n",
    "C = np.array([[1, 0, 0], [0, 1, 1], [0, 0, 1]])\n",
    "D = np.array([[1, 0, 0], [0, 1, -1], [0, 0, 1]])\n",
    "\n",
    "# together, A, B, C, and D generate the heisenberg group\n",
    "\n",
    "I = np.array([[1, 0, 0], [0, 1, 0], [0, 0, 1]])"
   ]
  },
  {
   "cell_type": "code",
   "execution_count": 3,
   "metadata": {},
   "outputs": [],
   "source": [
    "data = pd.DataFrame({\n",
    "        'val1': [],\n",
    "        'val2': [],\n",
    "        'val3': [],\n",
    "        'last_matrix': [],\n",
    "        \"num_steps\": []\n",
    "    })\n",
    "\n",
    "I_as_tuple = matrix_to_tuple(I)\n",
    "\n",
    "cur_row_df = pd.DataFrame([[\n",
    "    I_as_tuple[0], I_as_tuple[1], I_as_tuple[2], \n",
    "    0, 0\n",
    "    ]], columns=['val1', 'val2', 'val3', 'last_matrix', 'num_steps'])\n",
    "data = pd.concat([cur_row_df, data])"
   ]
  },
  {
   "cell_type": "code",
   "execution_count": 4,
   "metadata": {},
   "outputs": [
    {
     "data": {
      "text/html": [
       "<div>\n",
       "<style scoped>\n",
       "    .dataframe tbody tr th:only-of-type {\n",
       "        vertical-align: middle;\n",
       "    }\n",
       "\n",
       "    .dataframe tbody tr th {\n",
       "        vertical-align: top;\n",
       "    }\n",
       "\n",
       "    .dataframe thead th {\n",
       "        text-align: right;\n",
       "    }\n",
       "</style>\n",
       "<table border=\"1\" class=\"dataframe\">\n",
       "  <thead>\n",
       "    <tr style=\"text-align: right;\">\n",
       "      <th></th>\n",
       "      <th>val1</th>\n",
       "      <th>val2</th>\n",
       "      <th>val3</th>\n",
       "      <th>last_matrix</th>\n",
       "      <th>num_steps</th>\n",
       "    </tr>\n",
       "  </thead>\n",
       "  <tbody>\n",
       "    <tr>\n",
       "      <th>0</th>\n",
       "      <td>0.0</td>\n",
       "      <td>0.0</td>\n",
       "      <td>0.0</td>\n",
       "      <td>0.0</td>\n",
       "      <td>0.0</td>\n",
       "    </tr>\n",
       "  </tbody>\n",
       "</table>\n",
       "</div>"
      ],
      "text/plain": [
       "   val1  val2  val3  last_matrix  num_steps\n",
       "0   0.0   0.0   0.0          0.0        0.0"
      ]
     },
     "execution_count": 4,
     "metadata": {},
     "output_type": "execute_result"
    }
   ],
   "source": [
    "data"
   ]
  },
  {
   "cell_type": "code",
   "execution_count": 7,
   "metadata": {},
   "outputs": [
    {
     "data": {
      "text/plain": [
       "True"
      ]
     },
     "execution_count": 7,
     "metadata": {},
     "output_type": "execute_result"
    }
   ],
   "source": [
    "v = dict()\n",
    "\n",
    "v[(1, 2, 3)] = [1, [1, 2]]\n",
    "v\n",
    "(1, 2, 3) in v"
   ]
  },
  {
   "cell_type": "code",
   "execution_count": 60,
   "metadata": {},
   "outputs": [
    {
     "name": "stdout",
     "output_type": "stream",
     "text": [
      "Got enough points\n"
     ]
    }
   ],
   "source": [
    "# adapted from ChatGPT\n",
    "# visited contains keys of the tuples we've already visited and values of either 0 when A was the matrix that brought us to this state\n",
    "# of 1 if B was the matrix that brought us to this state\n",
    "\n",
    "visited = dict()\n",
    "\n",
    "start_time = time.time()\n",
    "\n",
    "def bfs(start, myDF):\n",
    "    visited[(matrix_to_tuple(start))] = [0, []]\n",
    "    # visited[(matrix_to_tuple(start @ A))] = [1, [0]]\n",
    "    # visited[(matrix_to_tuple(start @ B))] = [1, [1]]\n",
    "    # visited[(matrix_to_tuple(start @ C))] = [1, [2]]\n",
    "    # visited[(matrix_to_tuple(start @ D))] = [1, [3]]\n",
    "    \n",
    "    queue = deque([[A, 1, 0], [B, 1, 1], [C, 1, 2], [D, 1, 3]])\n",
    "\n",
    "    while queue:\n",
    "        # print(queue)\n",
    "        cur_item = queue.popleft()\n",
    "        cur_mat = cur_item[0]\n",
    "        cur_index = cur_item[1]\n",
    "        cur_neighbor = cur_item[2]\n",
    "        cur_tuple = matrix_to_tuple(cur_mat)\n",
    "\n",
    "        # if time.time() >= start_time + 30:\n",
    "        #     print(\"Timed out\")\n",
    "        #     return myDF\n",
    "        if cur_index > 26:\n",
    "            print(\"Got enough points\")\n",
    "            return myDF\n",
    "\n",
    "        if cur_tuple in visited:\n",
    "            if cur_index<visited[cur_tuple][0]:\n",
    "                assert 1==2\n",
    "            elif cur_index==visited[cur_tuple][0]:\n",
    "                visited[cur_tuple][1].append(cur_neighbor)\n",
    "                cur_row_df = pd.DataFrame([[\n",
    "                    cur_tuple[0], cur_tuple[1], cur_tuple[2], \n",
    "                    cur_index, cur_neighbor\n",
    "                    ]], columns=['val1', 'val2', 'val3', 'num_steps', 'last_matrix'])\n",
    "                myDF = pd.concat([cur_row_df, myDF])\n",
    "                continue\n",
    "            # else is the case where the path is longer, so we don't care about it\n",
    "            else: \n",
    "                continue\n",
    "\n",
    "        cur_row_df = pd.DataFrame([[\n",
    "            cur_tuple[0], cur_tuple[1], cur_tuple[2], \n",
    "            cur_index, cur_neighbor\n",
    "            ]], columns=['val1', 'val2', 'val3', 'num_steps', 'last_matrix'])\n",
    "        myDF = pd.concat([cur_row_df, myDF])\n",
    "\n",
    "        visited[cur_tuple]=[cur_index, [cur_neighbor]]\n",
    "\n",
    "        for neighbor in [0, 1, 2, 3]:\n",
    "            new_mat = apply_mat(cur_mat, neighbor)\n",
    "            queue.append([new_mat, cur_index+1, neighbor])\n",
    "        \n",
    "\n",
    "data = bfs(I, data)"
   ]
  },
  {
   "cell_type": "code",
   "execution_count": 61,
   "metadata": {},
   "outputs": [
    {
     "data": {
      "text/html": [
       "<div>\n",
       "<style scoped>\n",
       "    .dataframe tbody tr th:only-of-type {\n",
       "        vertical-align: middle;\n",
       "    }\n",
       "\n",
       "    .dataframe tbody tr th {\n",
       "        vertical-align: top;\n",
       "    }\n",
       "\n",
       "    .dataframe thead th {\n",
       "        text-align: right;\n",
       "    }\n",
       "</style>\n",
       "<table border=\"1\" class=\"dataframe\">\n",
       "  <thead>\n",
       "    <tr style=\"text-align: right;\">\n",
       "      <th></th>\n",
       "      <th>val1</th>\n",
       "      <th>val2</th>\n",
       "      <th>val3</th>\n",
       "      <th>num_steps</th>\n",
       "      <th>last_matrix</th>\n",
       "    </tr>\n",
       "  </thead>\n",
       "  <tbody>\n",
       "    <tr>\n",
       "      <th>0</th>\n",
       "      <td>0</td>\n",
       "      <td>0</td>\n",
       "      <td>-26</td>\n",
       "      <td>26</td>\n",
       "      <td>3</td>\n",
       "    </tr>\n",
       "    <tr>\n",
       "      <th>1</th>\n",
       "      <td>-1</td>\n",
       "      <td>0</td>\n",
       "      <td>-25</td>\n",
       "      <td>26</td>\n",
       "      <td>1</td>\n",
       "    </tr>\n",
       "    <tr>\n",
       "      <th>2</th>\n",
       "      <td>1</td>\n",
       "      <td>0</td>\n",
       "      <td>-25</td>\n",
       "      <td>26</td>\n",
       "      <td>0</td>\n",
       "    </tr>\n",
       "    <tr>\n",
       "      <th>3</th>\n",
       "      <td>-1</td>\n",
       "      <td>1</td>\n",
       "      <td>-25</td>\n",
       "      <td>26</td>\n",
       "      <td>3</td>\n",
       "    </tr>\n",
       "    <tr>\n",
       "      <th>4</th>\n",
       "      <td>-1</td>\n",
       "      <td>-1</td>\n",
       "      <td>-23</td>\n",
       "      <td>26</td>\n",
       "      <td>2</td>\n",
       "    </tr>\n",
       "    <tr>\n",
       "      <th>...</th>\n",
       "      <td>...</td>\n",
       "      <td>...</td>\n",
       "      <td>...</td>\n",
       "      <td>...</td>\n",
       "      <td>...</td>\n",
       "    </tr>\n",
       "    <tr>\n",
       "      <th>409793</th>\n",
       "      <td>2</td>\n",
       "      <td>0</td>\n",
       "      <td>0</td>\n",
       "      <td>2</td>\n",
       "      <td>0</td>\n",
       "    </tr>\n",
       "    <tr>\n",
       "      <th>409794</th>\n",
       "      <td>0</td>\n",
       "      <td>0</td>\n",
       "      <td>-1</td>\n",
       "      <td>1</td>\n",
       "      <td>3</td>\n",
       "    </tr>\n",
       "    <tr>\n",
       "      <th>409795</th>\n",
       "      <td>0</td>\n",
       "      <td>0</td>\n",
       "      <td>1</td>\n",
       "      <td>1</td>\n",
       "      <td>2</td>\n",
       "    </tr>\n",
       "    <tr>\n",
       "      <th>409796</th>\n",
       "      <td>-1</td>\n",
       "      <td>0</td>\n",
       "      <td>0</td>\n",
       "      <td>1</td>\n",
       "      <td>1</td>\n",
       "    </tr>\n",
       "    <tr>\n",
       "      <th>409797</th>\n",
       "      <td>1</td>\n",
       "      <td>0</td>\n",
       "      <td>0</td>\n",
       "      <td>1</td>\n",
       "      <td>0</td>\n",
       "    </tr>\n",
       "  </tbody>\n",
       "</table>\n",
       "<p>409798 rows × 5 columns</p>\n",
       "</div>"
      ],
      "text/plain": [
       "        val1  val2  val3  num_steps  last_matrix\n",
       "0          0     0   -26         26            3\n",
       "1         -1     0   -25         26            1\n",
       "2          1     0   -25         26            0\n",
       "3         -1     1   -25         26            3\n",
       "4         -1    -1   -23         26            2\n",
       "...      ...   ...   ...        ...          ...\n",
       "409793     2     0     0          2            0\n",
       "409794     0     0    -1          1            3\n",
       "409795     0     0     1          1            2\n",
       "409796    -1     0     0          1            1\n",
       "409797     1     0     0          1            0\n",
       "\n",
       "[409798 rows x 5 columns]"
      ]
     },
     "execution_count": 61,
     "metadata": {},
     "output_type": "execute_result"
    }
   ],
   "source": [
    "data=data.reset_index(drop=True)\n",
    "data"
   ]
  },
  {
   "cell_type": "code",
   "execution_count": 62,
   "metadata": {},
   "outputs": [
    {
     "data": {
      "text/html": [
       "<div>\n",
       "<style scoped>\n",
       "    .dataframe tbody tr th:only-of-type {\n",
       "        vertical-align: middle;\n",
       "    }\n",
       "\n",
       "    .dataframe tbody tr th {\n",
       "        vertical-align: top;\n",
       "    }\n",
       "\n",
       "    .dataframe thead th {\n",
       "        text-align: right;\n",
       "    }\n",
       "</style>\n",
       "<table border=\"1\" class=\"dataframe\">\n",
       "  <thead>\n",
       "    <tr style=\"text-align: right;\">\n",
       "      <th></th>\n",
       "      <th>val1</th>\n",
       "      <th>val2</th>\n",
       "      <th>val3</th>\n",
       "      <th>num_steps</th>\n",
       "      <th>last_matrix</th>\n",
       "    </tr>\n",
       "  </thead>\n",
       "  <tbody>\n",
       "    <tr>\n",
       "      <th>316947</th>\n",
       "      <td>-14</td>\n",
       "      <td>-26</td>\n",
       "      <td>2</td>\n",
       "      <td>16</td>\n",
       "      <td>2</td>\n",
       "    </tr>\n",
       "    <tr>\n",
       "      <th>316958</th>\n",
       "      <td>-14</td>\n",
       "      <td>-26</td>\n",
       "      <td>2</td>\n",
       "      <td>16</td>\n",
       "      <td>1</td>\n",
       "    </tr>\n",
       "    <tr>\n",
       "      <th>367529</th>\n",
       "      <td>-14</td>\n",
       "      <td>-26</td>\n",
       "      <td>2</td>\n",
       "      <td>16</td>\n",
       "      <td>2</td>\n",
       "    </tr>\n",
       "    <tr>\n",
       "      <th>367540</th>\n",
       "      <td>-14</td>\n",
       "      <td>-26</td>\n",
       "      <td>2</td>\n",
       "      <td>16</td>\n",
       "      <td>1</td>\n",
       "    </tr>\n",
       "  </tbody>\n",
       "</table>\n",
       "</div>"
      ],
      "text/plain": [
       "        val1  val2  val3  num_steps  last_matrix\n",
       "316947   -14   -26     2         16            2\n",
       "316958   -14   -26     2         16            1\n",
       "367529   -14   -26     2         16            2\n",
       "367540   -14   -26     2         16            1"
      ]
     },
     "execution_count": 62,
     "metadata": {},
     "output_type": "execute_result"
    }
   ],
   "source": [
    "few_rows = data[(data['val1']==-14) & (data['val2']==-26) & (data['val3']==2)]\n",
    "few_rows"
   ]
  },
  {
   "cell_type": "code",
   "execution_count": 25,
   "metadata": {},
   "outputs": [
    {
     "data": {
      "text/plain": [
       "array([[  1, -13, -26],\n",
       "       [  0,   1,   2],\n",
       "       [  0,   0,   1]])"
      ]
     },
     "execution_count": 25,
     "metadata": {},
     "output_type": "execute_result"
    }
   ],
   "source": [
    "testing = np.array([[1, -14, -26], [0, 1, 2], [0, 0, 1]])\n",
    "testing @ A\n"
   ]
  },
  {
   "cell_type": "code",
   "execution_count": 58,
   "metadata": {},
   "outputs": [
    {
     "data": {
      "text/plain": [
       "[0, []]"
      ]
     },
     "execution_count": 58,
     "metadata": {},
     "output_type": "execute_result"
    }
   ],
   "source": [
    "visited[matrix_to_tuple(testing @ D @ A @ A @ D @ A @ A @ A @ A @ A @ A @ A @ A @ A @ A @ A @ A)]"
   ]
  },
  {
   "cell_type": "code",
   "execution_count": 41,
   "metadata": {},
   "outputs": [
    {
     "data": {
      "text/plain": [
       "[0, []]"
      ]
     },
     "execution_count": 41,
     "metadata": {},
     "output_type": "execute_result"
    }
   ],
   "source": [
    "visited[matrix_to_tuple(testing @ A @ D @ D @ A @ A @ A @ A @ A @ A @ A @ A @ A @ A @ A @ A @ A)]"
   ]
  },
  {
   "cell_type": "code",
   "execution_count": 59,
   "metadata": {},
   "outputs": [
    {
     "data": {
      "text/plain": [
       "array([[1, 0, 0],\n",
       "       [0, 1, 0],\n",
       "       [0, 0, 1]])"
      ]
     },
     "execution_count": 59,
     "metadata": {},
     "output_type": "execute_result"
    }
   ],
   "source": [
    "testing @ A @ D @ D @ A @ A @ A @ A @ A @ A @ A @ A @ A @ A @ A @ A @ A\n",
    "testing @ D @ A @ A @ D @ A @ A @ A @ A @ A @ A @ A @ A @ A @ A @ A @ A"
   ]
  },
  {
   "cell_type": "code",
   "execution_count": 21,
   "metadata": {},
   "outputs": [
    {
     "data": {
      "text/html": [
       "<div>\n",
       "<style scoped>\n",
       "    .dataframe tbody tr th:only-of-type {\n",
       "        vertical-align: middle;\n",
       "    }\n",
       "\n",
       "    .dataframe tbody tr th {\n",
       "        vertical-align: top;\n",
       "    }\n",
       "\n",
       "    .dataframe thead th {\n",
       "        text-align: right;\n",
       "    }\n",
       "</style>\n",
       "<table border=\"1\" class=\"dataframe\">\n",
       "  <thead>\n",
       "    <tr style=\"text-align: right;\">\n",
       "      <th></th>\n",
       "      <th></th>\n",
       "      <th></th>\n",
       "      <th>num_steps</th>\n",
       "      <th>last_matrix</th>\n",
       "    </tr>\n",
       "    <tr>\n",
       "      <th>val1</th>\n",
       "      <th>val2</th>\n",
       "      <th>val3</th>\n",
       "      <th></th>\n",
       "      <th></th>\n",
       "    </tr>\n",
       "  </thead>\n",
       "  <tbody>\n",
       "    <tr>\n",
       "      <th rowspan=\"5\" valign=\"top\">-14</th>\n",
       "      <th>-26</th>\n",
       "      <th>2</th>\n",
       "      <td>16.0</td>\n",
       "      <td>1.5</td>\n",
       "    </tr>\n",
       "    <tr>\n",
       "      <th>-25</th>\n",
       "      <th>2</th>\n",
       "      <td>16.0</td>\n",
       "      <td>1.5</td>\n",
       "    </tr>\n",
       "    <tr>\n",
       "      <th>-24</th>\n",
       "      <th>2</th>\n",
       "      <td>16.0</td>\n",
       "      <td>1.5</td>\n",
       "    </tr>\n",
       "    <tr>\n",
       "      <th>-23</th>\n",
       "      <th>2</th>\n",
       "      <td>16.0</td>\n",
       "      <td>1.5</td>\n",
       "    </tr>\n",
       "    <tr>\n",
       "      <th>-22</th>\n",
       "      <th>2</th>\n",
       "      <td>16.0</td>\n",
       "      <td>1.5</td>\n",
       "    </tr>\n",
       "    <tr>\n",
       "      <th>...</th>\n",
       "      <th>...</th>\n",
       "      <th>...</th>\n",
       "      <td>...</td>\n",
       "      <td>...</td>\n",
       "    </tr>\n",
       "    <tr>\n",
       "      <th rowspan=\"5\" valign=\"top\">15</th>\n",
       "      <th>-5</th>\n",
       "      <th>0</th>\n",
       "      <td>17.0</td>\n",
       "      <td>1.5</td>\n",
       "    </tr>\n",
       "    <tr>\n",
       "      <th>-4</th>\n",
       "      <th>0</th>\n",
       "      <td>17.0</td>\n",
       "      <td>1.5</td>\n",
       "    </tr>\n",
       "    <tr>\n",
       "      <th>-3</th>\n",
       "      <th>0</th>\n",
       "      <td>17.0</td>\n",
       "      <td>1.5</td>\n",
       "    </tr>\n",
       "    <tr>\n",
       "      <th>-2</th>\n",
       "      <th>0</th>\n",
       "      <td>17.0</td>\n",
       "      <td>1.5</td>\n",
       "    </tr>\n",
       "    <tr>\n",
       "      <th>-1</th>\n",
       "      <th>0</th>\n",
       "      <td>17.0</td>\n",
       "      <td>1.5</td>\n",
       "    </tr>\n",
       "  </tbody>\n",
       "</table>\n",
       "<p>9433 rows × 2 columns</p>\n",
       "</div>"
      ],
      "text/plain": [
       "                num_steps  last_matrix\n",
       "val1 val2 val3                        \n",
       "-14  -26  2          16.0          1.5\n",
       "     -25  2          16.0          1.5\n",
       "     -24  2          16.0          1.5\n",
       "     -23  2          16.0          1.5\n",
       "     -22  2          16.0          1.5\n",
       "...                   ...          ...\n",
       " 15  -5   0          17.0          1.5\n",
       "     -4   0          17.0          1.5\n",
       "     -3   0          17.0          1.5\n",
       "     -2   0          17.0          1.5\n",
       "     -1   0          17.0          1.5\n",
       "\n",
       "[9433 rows x 2 columns]"
      ]
     },
     "execution_count": 21,
     "metadata": {},
     "output_type": "execute_result"
    }
   ],
   "source": [
    "grouped = data.groupby(['val1', 'val2', 'val3']).mean()\n",
    "grouped[grouped['last_matrix'] % 1 != 0]"
   ]
  },
  {
   "cell_type": "code",
   "execution_count": 65,
   "metadata": {},
   "outputs": [
    {
     "name": "stdout",
     "output_type": "stream",
     "text": [
      "(28975, 2)\n",
      "(359216, 5)\n"
     ]
    },
    {
     "data": {
      "text/plain": [
       "(409798, 5)"
      ]
     },
     "execution_count": 65,
     "metadata": {},
     "output_type": "execute_result"
    }
   ],
   "source": [
    "print(grouped.shape)\n",
    "print(data.drop_duplicates().shape)\n",
    "data.shape"
   ]
  },
  {
   "cell_type": "code",
   "execution_count": 63,
   "metadata": {},
   "outputs": [],
   "source": [
    "no_dups = data.drop_duplicates()"
   ]
  },
  {
   "cell_type": "code",
   "execution_count": 66,
   "metadata": {},
   "outputs": [],
   "source": [
    "# data = data.drop_duplicates(subset=['val1', 'val2', 'val3'])\n",
    "no_dups.to_csv(\"../Data_Generation/Data_files/bfs_heisenberg_w_mult_paths.csv\", index=False)"
   ]
  },
  {
   "cell_type": "code",
   "execution_count": 94,
   "metadata": {},
   "outputs": [
    {
     "data": {
      "text/html": [
       "<div>\n",
       "<style scoped>\n",
       "    .dataframe tbody tr th:only-of-type {\n",
       "        vertical-align: middle;\n",
       "    }\n",
       "\n",
       "    .dataframe tbody tr th {\n",
       "        vertical-align: top;\n",
       "    }\n",
       "\n",
       "    .dataframe thead th {\n",
       "        text-align: right;\n",
       "    }\n",
       "</style>\n",
       "<table border=\"1\" class=\"dataframe\">\n",
       "  <thead>\n",
       "    <tr style=\"text-align: right;\">\n",
       "      <th></th>\n",
       "      <th>val1</th>\n",
       "      <th>val2</th>\n",
       "      <th>val3</th>\n",
       "      <th>num_steps</th>\n",
       "      <th>last_matrix</th>\n",
       "    </tr>\n",
       "  </thead>\n",
       "  <tbody>\n",
       "  </tbody>\n",
       "</table>\n",
       "</div>"
      ],
      "text/plain": [
       "Empty DataFrame\n",
       "Columns: [val1, val2, val3, num_steps, last_matrix]\n",
       "Index: []"
      ]
     },
     "execution_count": 94,
     "metadata": {},
     "output_type": "execute_result"
    }
   ],
   "source": [
    "duplicate_rows = data[data.duplicated(keep=False)]\n",
    "duplicate_rows"
   ]
  }
 ],
 "metadata": {
  "kernelspec": {
   "display_name": "Python 3",
   "language": "python",
   "name": "python3"
  },
  "language_info": {
   "codemirror_mode": {
    "name": "ipython",
    "version": 3
   },
   "file_extension": ".py",
   "mimetype": "text/x-python",
   "name": "python",
   "nbconvert_exporter": "python",
   "pygments_lexer": "ipython3",
   "version": "3.10.11"
  }
 },
 "nbformat": 4,
 "nbformat_minor": 2
}
