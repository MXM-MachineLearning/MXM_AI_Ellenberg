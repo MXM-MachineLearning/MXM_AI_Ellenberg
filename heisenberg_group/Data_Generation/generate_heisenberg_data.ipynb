{
 "cells": [
  {
   "cell_type": "code",
   "execution_count": 2,
   "metadata": {},
   "outputs": [],
   "source": [
    "import random\n",
    "import pandas as pd\n",
    "import numpy as np\n",
    "import matplotlib.pyplot as plt"
   ]
  },
  {
   "cell_type": "code",
   "execution_count": 3,
   "metadata": {},
   "outputs": [],
   "source": [
    "# B is the inverse of A\n",
    "A = np.array([[1, 1, 0], [0, 1, 0], [0, 0, 1]])\n",
    "B = np.array([[1, -1, 0], [0, 1, 0], [0, 0, 1]])\n",
    "\n",
    "# C is the inverse of D\n",
    "C = np.array([[1, 0, 0], [0, 1, 1], [0, 0, 1]])\n",
    "D = np.array([[1, 0, 0], [0, 1, -1], [0, 0, 1]])\n",
    "\n",
    "# together, A, B, C, and D generate the heisenberg group"
   ]
  },
  {
   "cell_type": "code",
   "execution_count": 12,
   "metadata": {},
   "outputs": [],
   "source": [
    "random.seed(42)\n",
    "# I set the seed to 42 to generate the real data, and the seed to 45 to generate the test data\n",
    "\n",
    "first_digit = str(random.randint(1, 4))\n",
    "\n",
    "cur_digit = first_digit\n",
    "\n",
    "all_digits = cur_digit\n",
    "\n",
    "# generate a sequence of 30 integers, with the restriction that we cannot follow 1 with 2, cannot follow 2 with 1,\n",
    "# cannot follow 3 with 4, and cannot follow 4 with 3. \n",
    "# This is because we want to ensure that we are not teaching the model to predict the wrong path back to the origin\n",
    "# if we multiply a matrix by C then D, it is the same as multiplying by the identity\n",
    "for _ in range(1, 30):\n",
    "\n",
    "    # adapted from ChatGPT\n",
    "    if cur_digit==\"1\":\n",
    "        cur_digit = str(random.choice([1, 3, 4]))\n",
    "    \n",
    "    elif cur_digit==\"2\":\n",
    "        cur_digit = str(random.randint(1, 3) + 1)\n",
    "\n",
    "    elif cur_digit==\"3\":\n",
    "        cur_digit = str(random.randint(1, 3))\n",
    "\n",
    "    elif cur_digit==\"4\":\n",
    "        cur_digit = str(random.choice([1, 2, 4]))\n",
    "\n",
    "\n",
    "    all_digits = all_digits + cur_digit\n"
   ]
  },
  {
   "cell_type": "code",
   "execution_count": 13,
   "metadata": {},
   "outputs": [],
   "source": [
    "cur_array = random.choice([A, B, C, D])\n",
    "\n",
    "for i in all_digits: \n",
    "    if i==\"1\":\n",
    "        cur_array = cur_array @ A\n",
    "    elif i==\"2\":\n",
    "        cur_array = cur_array @ B\n",
    "    elif i==\"3\":\n",
    "        cur_array = cur_array @ C\n",
    "    elif i==\"4\":\n",
    "        cur_array = cur_array @ D"
   ]
  },
  {
   "cell_type": "code",
   "execution_count": 14,
   "metadata": {},
   "outputs": [],
   "source": [
    "data = {\n",
    "    'val1': [],\n",
    "    'val2': [],\n",
    "    'val3' : [],\n",
    "    'last_matrix': []\n",
    "}\n",
    "\n",
    "test_df = pd.DataFrame(data)"
   ]
  },
  {
   "cell_type": "code",
   "execution_count": 15,
   "metadata": {},
   "outputs": [],
   "source": [
    "for _ in range(1, 50000):\n",
    "\n",
    "    start_array = random.choice([A, B, C, D])\n",
    "    all_digits = \"\"\n",
    "    for d in range(1, 100):\n",
    "\n",
    "        # adapted from ChatGPT\n",
    "        if cur_digit==\"1\":\n",
    "            cur_digit = str(random.choice([1, 3, 4]))\n",
    "        elif cur_digit==\"2\":\n",
    "            cur_digit = str(random.randint(1, 3) + 1)\n",
    "        elif cur_digit==\"3\":\n",
    "            cur_digit = str(random.randint(1, 3))\n",
    "        elif cur_digit==\"4\":\n",
    "            cur_digit = str(random.choice([1, 2, 4]))\n",
    "        all_digits = all_digits + cur_digit\n",
    "        \n",
    "    remove_undesired = all_digits\n",
    "\n",
    "    cur_array = start_array\n",
    "    for i in remove_undesired:\n",
    "        if i==\"1\":\n",
    "            cur_array = cur_array @ A\n",
    "        elif i==\"2\":\n",
    "            cur_array = cur_array @ B\n",
    "        elif i==\"3\":\n",
    "            cur_array = cur_array @ C\n",
    "        elif i==\"4\":\n",
    "            cur_array = cur_array @ D\n",
    "\n",
    "    # adapted from https://stackoverflow.com/questions/24284342/insert-a-row-to-pandas-dataframe\n",
    "\n",
    "    # we only need to record above the diagonal because these are all upper triangluar matrices\n",
    "    df2 = pd.DataFrame([[\n",
    "        cur_array[0][1], cur_array[0][2], \n",
    "        cur_array[1][2],\n",
    "        remove_undesired[-1]]],\n",
    "        columns=['val1', 'val2', 'val3', 'last_matrix'])\n",
    "    test_df = pd.concat([df2, test_df])"
   ]
  },
  {
   "cell_type": "code",
   "execution_count": 16,
   "metadata": {},
   "outputs": [],
   "source": [
    "# adapted from ChatGPT\n",
    "\n",
    "test_df['last_matrix'] = test_df['last_matrix'].astype(int)\n",
    "test_df['val1'] = test_df['val1'].astype(int)\n",
    "test_df['val2'] = test_df['val2'].astype(int)\n",
    "test_df['val3'] = test_df['val3'].astype(int)\n"
   ]
  },
  {
   "cell_type": "code",
   "execution_count": 18,
   "metadata": {},
   "outputs": [
    {
     "ename": "",
     "evalue": "",
     "output_type": "error",
     "traceback": [
      "\u001b[1;31mThe Kernel crashed while executing code in the the current cell or a previous cell. Please review the code in the cell(s) to identify a possible cause of the failure. Click <a href='https://aka.ms/vscodeJupyterKernelCrash'>here</a> for more info. View Jupyter <a href='command:jupyter.viewOutput'>log</a> for further details."
     ]
    }
   ],
   "source": [
    "test_df.to_csv('../Visualizations/heisenberg_data_100.csv', index=False)"
   ]
  }
 ],
 "metadata": {
  "kernelspec": {
   "display_name": "Python 3",
   "language": "python",
   "name": "python3"
  },
  "language_info": {
   "codemirror_mode": {
    "name": "ipython",
    "version": 3
   },
   "file_extension": ".py",
   "mimetype": "text/x-python",
   "name": "python",
   "nbconvert_exporter": "python",
   "pygments_lexer": "ipython3",
   "version": "3.10.11"
  },
  "orig_nbformat": 4
 },
 "nbformat": 4,
 "nbformat_minor": 2
}
