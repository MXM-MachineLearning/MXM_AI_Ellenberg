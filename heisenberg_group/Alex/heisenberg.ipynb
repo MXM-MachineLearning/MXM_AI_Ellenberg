{
 "cells": [
  {
   "cell_type": "code",
   "execution_count": 18,
   "id": "initial_id",
   "metadata": {
    "collapsed": true,
    "ExecuteTime": {
     "end_time": "2023-10-10T20:38:47.966345Z",
     "start_time": "2023-10-10T20:38:47.962091Z"
    }
   },
   "outputs": [],
   "source": [
    "import torch\n",
    "import numpy as np\n",
    "import random"
   ]
  },
  {
   "cell_type": "code",
   "execution_count": 19,
   "outputs": [],
   "source": [
    "A = np.array([\n",
    "    [1, 1, 0],\n",
    "    [0, 1, 0],\n",
    "    [0, 0, 1]\n",
    "])\n",
    "\n",
    "B = np.array([\n",
    "    [1, 0, 0],\n",
    "    [0, 1, 1],\n",
    "    [0, 0, 1]\n",
    "])\n",
    "\n",
    "transforms = np.array([A, B, np.linalg.inv(A), np.linalg.inv(B)])\n",
    "\n",
    "def apply_transform(state, transform):\n",
    "    return transforms[transform] @ state\n",
    "\n",
    "def csv(vec):\n",
    "    flat = vec.flatten()\n",
    "    rv = \"\"\n",
    "    for i in flat:\n",
    "        rv += str(i) + \",\"\n",
    "    return rv[0:-1]"
   ],
   "metadata": {
    "collapsed": false,
    "ExecuteTime": {
     "end_time": "2023-10-10T20:38:48.378488Z",
     "start_time": "2023-10-10T20:38:48.374784Z"
    }
   },
   "id": "39fdb0fdfe29b4bf"
  },
  {
   "cell_type": "code",
   "execution_count": 24,
   "outputs": [],
   "source": [
    "K_GEN_DATA = False\n",
    "# generate data\n",
    "K_TEST_DATA = 10\n",
    "K_TEST_MAT_RANGE = 10\n",
    "if K_GEN_DATA:\n",
    "    with open(\"./heisenberg_group/Alex/heisenberg_train.csv\", \"w\") as file:\n",
    "        need_new = True\n",
    "        desired = [-1, -1, -1] # how much of each transform to apply\n",
    "        # each element corresponds to each element of desired\n",
    "        curr_state = np.identity(len(transforms[0]))\n",
    "        for i in range(K_TEST_DATA):\n",
    "            if need_new:\n",
    "                wanted = np.random.randint(1, high=K_TEST_MAT_RANGE, size=3)\n",
    "                desired = wanted * [1, 4, 1]\n",
    "                need_new = False\n",
    "                \n",
    "            csv_state = csv(curr_state)\n",
    "            if desired[0] != 0:\n",
    "                # apply first transform\n",
    "                file.write(csv_state + \",0\\n\")\n",
    "                curr_state = apply_transform(curr_state, 0)\n",
    "                desired[0] -= 1\n",
    "            elif desired[1] != 0:\n",
    "                step = desired[1] % 4\n",
    "                want_apply = 3 - step\n",
    "                \n",
    "                file.write(csv_state + \",\" + str(want_apply) + \"\\n\")\n",
    "                curr_state = apply_transform(curr_state, want_apply)\n",
    "                desired[1] -= 1\n",
    "            elif desired[2] != 0:\n",
    "                file.write(csv_state + \",1\\n\")\n",
    "                curr_state = apply_transform(curr_state, 1)\n",
    "                desired[2] -= 1\n",
    "            \n",
    "            if np.sum(np.equal(desired, np.zeros(3))) == 3:\n",
    "                need_new = True\n",
    "        "
   ],
   "metadata": {
    "collapsed": false,
    "ExecuteTime": {
     "end_time": "2023-10-10T20:40:29.229261Z",
     "start_time": "2023-10-10T20:40:29.226120Z"
    }
   },
   "id": "fea7b35a086d934f"
  },
  {
   "cell_type": "code",
   "execution_count": null,
   "outputs": [],
   "source": [],
   "metadata": {
    "collapsed": false,
    "ExecuteTime": {
     "start_time": "2023-10-10T20:38:42.326957Z"
    }
   },
   "id": "92c68e861ba8c17d"
  }
 ],
 "metadata": {
  "kernelspec": {
   "display_name": "Python 3",
   "language": "python",
   "name": "python3"
  },
  "language_info": {
   "codemirror_mode": {
    "name": "ipython",
    "version": 2
   },
   "file_extension": ".py",
   "mimetype": "text/x-python",
   "name": "python",
   "nbconvert_exporter": "python",
   "pygments_lexer": "ipython2",
   "version": "2.7.6"
  }
 },
 "nbformat": 4,
 "nbformat_minor": 5
}
