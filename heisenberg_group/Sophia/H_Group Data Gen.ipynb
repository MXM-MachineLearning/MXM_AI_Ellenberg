{
 "cells": [
  {
   "cell_type": "code",
   "execution_count": 19,
   "id": "initial_id",
   "metadata": {
    "collapsed": true,
    "ExecuteTime": {
     "end_time": "2023-10-12T02:54:11.022670Z",
     "start_time": "2023-10-12T02:54:11.016065Z"
    }
   },
   "outputs": [],
   "source": [
    "\n",
    "import random\n",
    "import numpy as np\n"
   ]
  },
  {
   "cell_type": "code",
   "execution_count": 109,
   "outputs": [],
   "source": [
    "aMat = np.array([[1, 1, 0], [0, 1 ,0], [0, 0 ,1]])\n",
    "bMat =  np.array([[1, 0, 0], [0, 1 ,1], [0, 0 ,1]])\n",
    "aInv = np.linalg.inv(aMat)\n",
    "bInv = np.linalg.inv(bMat)\n",
    "def cMat (x, y):\n",
    "    return (np.linalg.matrix_power(bInv, x) @ np.linalg.matrix_power(aInv, y) \n",
    "            @ np.linalg.matrix_power(bMat, x) @ np.linalg.matrix_power(aMat, x))\n",
    "\n",
    "cMat(3,3)\n",
    "\n",
    "numMatrices = 1000\n",
    "data = np.empty((numMatrices, 3))\n",
    "matrices = []"
   ],
   "metadata": {
    "collapsed": false,
    "ExecuteTime": {
     "end_time": "2023-10-12T14:29:25.611660Z",
     "start_time": "2023-10-12T14:29:25.602014Z"
    }
   },
   "id": "b38d5ab97d9b139a"
  },
  {
   "cell_type": "code",
   "execution_count": 110,
   "outputs": [
    {
     "data": {
      "text/plain": "array([[  0., -23.,  55.],\n       [-35.,  22.,  19.],\n       [ 81., -96.,  -3.],\n       ...,\n       [ 58.,  43.,  42.],\n       [-37., -56.,  61.],\n       [-86.,  62., -21.]])"
     },
     "execution_count": 110,
     "metadata": {},
     "output_type": "execute_result"
    }
   ],
   "source": [
    "for i in range(numMatrices):\n",
    "    a = random.randint(-100, 100)\n",
    "    b = random.randint(-100, 100)\n",
    "    c = random.randint(-100, 100)\n",
    "    data[i][0] = a\n",
    "    data[i][1] = b\n",
    "    data[i][2] = c\n",
    "    matrices.append(np.array([[1, a, c], [0, 1 ,b], [0, 0 ,1]]))\n"
   ],
   "metadata": {
    "collapsed": false,
    "ExecuteTime": {
     "end_time": "2023-10-12T14:29:30.425246Z",
     "start_time": "2023-10-12T14:29:30.403930Z"
    }
   },
   "id": "e612ed287388f031"
  },
  {
   "cell_type": "code",
   "execution_count": 69,
   "outputs": [
    {
     "name": "stdout",
     "output_type": "stream",
     "text": [
      "a:\n",
      "[[1 1 0]\n",
      " [0 1 0]\n",
      " [0 0 1]]\n",
      "b:\n",
      "[[1 1 1]\n",
      " [0 1 1]\n",
      " [0 0 1]]\n",
      "aInv:\n",
      "[[1. 0. 1.]\n",
      " [0. 1. 1.]\n",
      " [0. 0. 1.]]\n",
      "bInv:\n",
      "[[1. 0. 1.]\n",
      " [0. 1. 0.]\n",
      " [0. 0. 1.]]\n",
      "a:\n",
      "[[1. 1. 1.]\n",
      " [0. 1. 0.]\n",
      " [0. 0. 1.]]\n",
      "a:\n",
      "[[1. 2. 1.]\n",
      " [0. 1. 0.]\n",
      " [0. 0. 1.]]\n",
      "b:\n",
      "[[1. 2. 3.]\n",
      " [0. 1. 1.]\n",
      " [0. 0. 1.]]\n",
      "bInv:\n",
      "[[1. 2. 1.]\n",
      " [0. 1. 0.]\n",
      " [0. 0. 1.]]\n",
      "b:\n",
      "[[1. 2. 3.]\n",
      " [0. 1. 1.]\n",
      " [0. 0. 1.]]\n",
      "aInv:\n",
      "[[1. 1. 3.]\n",
      " [0. 1. 1.]\n",
      " [0. 0. 1.]]\n",
      "a:\n",
      "[[1. 2. 3.]\n",
      " [0. 1. 1.]\n",
      " [0. 0. 1.]]\n"
     ]
    }
   ],
   "source": [
    "word = []\n",
    "coin = random.randint(0,1)\n",
    "if coin == 1: \n",
    "        print(\"a:\")\n",
    "        word.append(\"a\")\n",
    "        randomMat = aMat\n",
    "        print(randomMat)\n",
    "else: \n",
    "        print(\"b:\")\n",
    "        word.append(\"b\")\n",
    "        randomMat = bMat\n",
    "        print(randomMat)\n",
    "for i in range(10):\n",
    "    choice = random.randint(0,3)\n",
    "    if choice == 0: \n",
    "        print(\"a:\")\n",
    "        word.append(\"a\")\n",
    "        randomMat = randomMat @ aMat\n",
    "        print(randomMat)\n",
    "    if choice == 1: \n",
    "        print(\"b:\")\n",
    "        word.append(\"b\")\n",
    "        randomMat = randomMat @ bMat\n",
    "        print(randomMat)\n",
    "    if choice == 2: \n",
    "        print(\"aInv:\")\n",
    "        word.append(\"aInv\")\n",
    "        randomMat = randomMat @ aInv\n",
    "        print(randomMat)\n",
    "    if choice == 3: \n",
    "        print(\"bInv:\")\n",
    "        word.append(\"bInv\")\n",
    "        randomMat = randomMat @ bInv\n",
    "        print(randomMat)"
   ],
   "metadata": {
    "collapsed": false,
    "ExecuteTime": {
     "end_time": "2023-10-12T13:36:32.094177Z",
     "start_time": "2023-10-12T13:36:32.088571Z"
    }
   },
   "id": "778f940bfda5bd63"
  },
  {
   "cell_type": "code",
   "execution_count": 76,
   "outputs": [],
   "source": [
    "dest = aMat @ bMat @ aMat @ bMat @ aMat @ bMat\n"
   ],
   "metadata": {
    "collapsed": false,
    "ExecuteTime": {
     "end_time": "2023-10-12T13:39:54.049454Z",
     "start_time": "2023-10-12T13:39:54.042929Z"
    }
   },
   "id": "914acf55b77fe23f"
  },
  {
   "cell_type": "code",
   "execution_count": 85,
   "outputs": [
    {
     "data": {
      "text/plain": "array([[1., 1., 1.],\n       [0., 1., 0.],\n       [0., 0., 1.]])"
     },
     "execution_count": 85,
     "metadata": {},
     "output_type": "execute_result"
    }
   ],
   "source": [
    "bInv @ aMat @ bMat "
   ],
   "metadata": {
    "collapsed": false,
    "ExecuteTime": {
     "end_time": "2023-10-12T13:44:20.832099Z",
     "start_time": "2023-10-12T13:44:20.824927Z"
    }
   },
   "id": "8ef145dc7df65c6c"
  },
  {
   "cell_type": "code",
   "execution_count": 86,
   "outputs": [
    {
     "data": {
      "text/plain": "array([[  1.,   0., -75.],\n       [  0.,   1.,   0.],\n       [  0.,   0.,   1.]])"
     },
     "execution_count": 86,
     "metadata": {},
     "output_type": "execute_result"
    }
   ],
   "source": [
    "# 𝑧75=𝑦−10𝑥−8𝑦5𝑥𝑦5𝑥7\n",
    "(np.linalg.matrix_power(bInv, 10) @ np.linalg.matrix_power(aInv, 8) @ np.linalg.matrix_power(bMat, 5) \n",
    " @ np.linalg.matrix_power(aMat, 1)) @ np.linalg.matrix_power(bMat, 5) @ np.linalg.matrix_power(aMat, 7)"
   ],
   "metadata": {
    "collapsed": false,
    "ExecuteTime": {
     "end_time": "2023-10-12T13:50:02.643200Z",
     "start_time": "2023-10-12T13:50:02.631736Z"
    }
   },
   "id": "44da03e963dc07d2"
  },
  {
   "cell_type": "code",
   "execution_count": 93,
   "outputs": [
    {
     "data": {
      "text/plain": "array([[  1.,   2., -80.],\n       [  0.,   1.,   0.],\n       [  0.,   0.,   1.]])"
     },
     "execution_count": 93,
     "metadata": {},
     "output_type": "execute_result"
    }
   ],
   "source": [
    "cMat(10, 8) "
   ],
   "metadata": {
    "collapsed": false,
    "ExecuteTime": {
     "end_time": "2023-10-12T13:56:44.169487Z",
     "start_time": "2023-10-12T13:56:44.161637Z"
    }
   },
   "id": "34b0a8a7ef0ec8c"
  },
  {
   "cell_type": "code",
   "execution_count": 111,
   "outputs": [
    {
     "name": "stdout",
     "output_type": "stream",
     "text": [
      "Epoch 1/50\n",
      "25/25 [==============================] - 1s 9ms/step - loss: 12.3151 - accuracy: 0.2488 - val_loss: 5.5291 - val_accuracy: 0.2250\n",
      "Epoch 2/50\n",
      "25/25 [==============================] - 0s 2ms/step - loss: 3.3912 - accuracy: 0.2688 - val_loss: 2.4442 - val_accuracy: 0.2600\n",
      "Epoch 3/50\n",
      "25/25 [==============================] - 0s 2ms/step - loss: 2.1091 - accuracy: 0.2837 - val_loss: 1.8848 - val_accuracy: 0.2600\n",
      "Epoch 4/50\n",
      "25/25 [==============================] - 0s 2ms/step - loss: 1.7399 - accuracy: 0.2812 - val_loss: 1.7112 - val_accuracy: 0.2550\n",
      "Epoch 5/50\n",
      "25/25 [==============================] - 0s 2ms/step - loss: 1.6201 - accuracy: 0.2887 - val_loss: 1.6450 - val_accuracy: 0.2850\n",
      "Epoch 6/50\n",
      "25/25 [==============================] - 0s 2ms/step - loss: 1.5855 - accuracy: 0.3113 - val_loss: 1.7050 - val_accuracy: 0.2250\n",
      "Epoch 7/50\n",
      "25/25 [==============================] - 0s 3ms/step - loss: 1.5482 - accuracy: 0.2825 - val_loss: 1.6696 - val_accuracy: 0.2850\n",
      "Epoch 8/50\n",
      "25/25 [==============================] - 0s 3ms/step - loss: 1.5295 - accuracy: 0.3150 - val_loss: 1.6986 - val_accuracy: 0.2050\n",
      "Epoch 9/50\n",
      "25/25 [==============================] - 0s 3ms/step - loss: 1.5131 - accuracy: 0.3550 - val_loss: 1.6534 - val_accuracy: 0.2800\n",
      "Epoch 10/50\n",
      "25/25 [==============================] - 0s 2ms/step - loss: 1.4501 - accuracy: 0.3200 - val_loss: 1.6245 - val_accuracy: 0.2600\n",
      "Epoch 11/50\n",
      "25/25 [==============================] - 0s 2ms/step - loss: 1.5172 - accuracy: 0.3187 - val_loss: 1.6476 - val_accuracy: 0.2650\n",
      "Epoch 12/50\n",
      "25/25 [==============================] - 0s 2ms/step - loss: 1.4715 - accuracy: 0.3338 - val_loss: 1.6547 - val_accuracy: 0.2450\n",
      "Epoch 13/50\n",
      "25/25 [==============================] - 0s 2ms/step - loss: 1.4552 - accuracy: 0.3400 - val_loss: 1.6109 - val_accuracy: 0.2650\n",
      "Epoch 14/50\n",
      "25/25 [==============================] - 0s 2ms/step - loss: 1.4633 - accuracy: 0.3325 - val_loss: 1.6890 - val_accuracy: 0.2350\n",
      "Epoch 15/50\n",
      "25/25 [==============================] - 0s 2ms/step - loss: 1.4375 - accuracy: 0.3675 - val_loss: 1.6106 - val_accuracy: 0.2400\n",
      "Epoch 16/50\n",
      "25/25 [==============================] - 0s 2ms/step - loss: 1.4267 - accuracy: 0.3400 - val_loss: 1.5662 - val_accuracy: 0.2800\n",
      "Epoch 17/50\n",
      "25/25 [==============================] - 0s 2ms/step - loss: 1.4080 - accuracy: 0.3663 - val_loss: 1.6123 - val_accuracy: 0.2200\n",
      "Epoch 18/50\n",
      "25/25 [==============================] - 0s 2ms/step - loss: 1.4232 - accuracy: 0.3363 - val_loss: 1.6081 - val_accuracy: 0.2600\n",
      "Epoch 19/50\n",
      "25/25 [==============================] - 0s 2ms/step - loss: 1.4349 - accuracy: 0.3600 - val_loss: 1.7089 - val_accuracy: 0.2550\n",
      "Epoch 20/50\n",
      "25/25 [==============================] - 0s 2ms/step - loss: 1.4325 - accuracy: 0.3562 - val_loss: 1.5930 - val_accuracy: 0.2600\n",
      "Epoch 21/50\n",
      "25/25 [==============================] - 0s 2ms/step - loss: 1.3872 - accuracy: 0.3375 - val_loss: 1.6806 - val_accuracy: 0.2250\n",
      "Epoch 22/50\n",
      "25/25 [==============================] - 0s 2ms/step - loss: 1.4275 - accuracy: 0.3300 - val_loss: 1.6265 - val_accuracy: 0.2350\n",
      "Epoch 23/50\n",
      "25/25 [==============================] - 0s 2ms/step - loss: 1.4260 - accuracy: 0.3450 - val_loss: 1.5975 - val_accuracy: 0.2300\n",
      "Epoch 24/50\n",
      "25/25 [==============================] - 0s 2ms/step - loss: 1.3871 - accuracy: 0.3525 - val_loss: 1.6985 - val_accuracy: 0.2100\n",
      "Epoch 25/50\n",
      "25/25 [==============================] - 0s 2ms/step - loss: 1.3870 - accuracy: 0.3500 - val_loss: 1.6213 - val_accuracy: 0.2550\n",
      "Epoch 26/50\n",
      "25/25 [==============================] - 0s 2ms/step - loss: 1.3738 - accuracy: 0.3812 - val_loss: 1.6364 - val_accuracy: 0.2600\n",
      "Epoch 27/50\n",
      "25/25 [==============================] - 0s 3ms/step - loss: 1.3763 - accuracy: 0.3537 - val_loss: 1.5900 - val_accuracy: 0.2750\n",
      "Epoch 28/50\n",
      "25/25 [==============================] - 0s 2ms/step - loss: 1.3840 - accuracy: 0.3537 - val_loss: 1.7098 - val_accuracy: 0.2300\n",
      "Epoch 29/50\n",
      "25/25 [==============================] - 0s 2ms/step - loss: 1.3799 - accuracy: 0.3525 - val_loss: 1.6091 - val_accuracy: 0.2500\n",
      "Epoch 30/50\n",
      "25/25 [==============================] - 0s 2ms/step - loss: 1.3450 - accuracy: 0.3638 - val_loss: 1.6324 - val_accuracy: 0.2150\n",
      "Epoch 31/50\n",
      "25/25 [==============================] - 0s 2ms/step - loss: 1.3636 - accuracy: 0.3613 - val_loss: 1.6132 - val_accuracy: 0.2350\n",
      "Epoch 32/50\n",
      "25/25 [==============================] - 0s 2ms/step - loss: 1.3458 - accuracy: 0.3750 - val_loss: 1.5582 - val_accuracy: 0.2700\n",
      "Epoch 33/50\n",
      "25/25 [==============================] - 0s 2ms/step - loss: 1.3696 - accuracy: 0.3675 - val_loss: 1.7126 - val_accuracy: 0.2450\n",
      "Epoch 34/50\n",
      "25/25 [==============================] - 0s 2ms/step - loss: 1.3925 - accuracy: 0.3913 - val_loss: 1.6136 - val_accuracy: 0.2150\n",
      "Epoch 35/50\n",
      "25/25 [==============================] - 0s 2ms/step - loss: 1.3566 - accuracy: 0.3562 - val_loss: 1.5739 - val_accuracy: 0.2300\n",
      "Epoch 36/50\n",
      "25/25 [==============================] - 0s 2ms/step - loss: 1.3439 - accuracy: 0.3850 - val_loss: 1.5916 - val_accuracy: 0.2450\n",
      "Epoch 37/50\n",
      "25/25 [==============================] - 0s 2ms/step - loss: 1.3257 - accuracy: 0.3688 - val_loss: 1.5756 - val_accuracy: 0.2700\n",
      "Epoch 38/50\n",
      "25/25 [==============================] - 0s 2ms/step - loss: 1.3320 - accuracy: 0.3700 - val_loss: 1.5682 - val_accuracy: 0.2750\n",
      "Epoch 39/50\n",
      "25/25 [==============================] - 0s 2ms/step - loss: 1.3371 - accuracy: 0.3950 - val_loss: 1.6197 - val_accuracy: 0.2450\n",
      "Epoch 40/50\n",
      "25/25 [==============================] - 0s 3ms/step - loss: 1.3747 - accuracy: 0.3850 - val_loss: 1.6550 - val_accuracy: 0.2650\n",
      "Epoch 41/50\n",
      "25/25 [==============================] - 0s 2ms/step - loss: 1.3712 - accuracy: 0.3450 - val_loss: 1.5790 - val_accuracy: 0.2700\n",
      "Epoch 42/50\n",
      "25/25 [==============================] - 0s 2ms/step - loss: 1.3322 - accuracy: 0.3963 - val_loss: 1.6125 - val_accuracy: 0.2300\n",
      "Epoch 43/50\n",
      "25/25 [==============================] - 0s 2ms/step - loss: 1.3459 - accuracy: 0.3638 - val_loss: 1.5777 - val_accuracy: 0.2450\n",
      "Epoch 44/50\n",
      "25/25 [==============================] - 0s 2ms/step - loss: 1.3170 - accuracy: 0.4075 - val_loss: 1.6022 - val_accuracy: 0.2000\n",
      "Epoch 45/50\n",
      "25/25 [==============================] - 0s 3ms/step - loss: 1.3298 - accuracy: 0.3938 - val_loss: 1.6211 - val_accuracy: 0.2650\n",
      "Epoch 46/50\n",
      "25/25 [==============================] - 0s 3ms/step - loss: 1.3145 - accuracy: 0.3925 - val_loss: 1.5943 - val_accuracy: 0.2450\n",
      "Epoch 47/50\n",
      "25/25 [==============================] - 0s 2ms/step - loss: 1.3469 - accuracy: 0.3988 - val_loss: 1.7467 - val_accuracy: 0.2350\n",
      "Epoch 48/50\n",
      "25/25 [==============================] - 0s 3ms/step - loss: 1.3915 - accuracy: 0.3762 - val_loss: 1.6614 - val_accuracy: 0.2250\n",
      "Epoch 49/50\n",
      "25/25 [==============================] - 0s 3ms/step - loss: 1.3120 - accuracy: 0.3963 - val_loss: 1.5919 - val_accuracy: 0.2550\n",
      "Epoch 50/50\n",
      "25/25 [==============================] - 0s 3ms/step - loss: 1.3437 - accuracy: 0.3875 - val_loss: 1.6077 - val_accuracy: 0.2750\n"
     ]
    },
    {
     "data": {
      "text/plain": "<keras.src.callbacks.History at 0x12170db10>"
     },
     "execution_count": 111,
     "metadata": {},
     "output_type": "execute_result"
    }
   ],
   "source": [
    "# from Chat GPT \n",
    "import numpy as np\n",
    "import tensorflow as tf\n",
    "from tensorflow.keras.models import Sequential\n",
    "from tensorflow.keras.layers import Dense\n",
    "\n",
    "# Generate some dummy data for training\n",
    "np.random.seed(42)\n",
    "X_train = data  # 1000 samples with 3 features each\n",
    "y_train = np.random.randint(0, 4, size=(1000,))  # Labels 0, 1, 2, or 3\n",
    "\n",
    "# Convert labels to one-hot encoding\n",
    "y_train_one_hot = tf.keras.utils.to_categorical(y_train, num_classes=4)\n",
    "\n",
    "# Define the neural network architecture\n",
    "model = Sequential()\n",
    "model.add(Dense(64, input_dim=3, activation='relu'))\n",
    "model.add(Dense(32, activation='relu'))\n",
    "model.add(Dense(4, activation='softmax'))\n",
    "\n",
    "# Compile the model\n",
    "model.compile(optimizer='adam', loss='categorical_crossentropy', metrics=['accuracy'])\n",
    "\n",
    "# Train the model\n",
    "model.fit(X_train, y_train_one_hot, epochs=50, batch_size=32, validation_split=0.2)\n",
    "\n",
    "# Now you can use the trained model to make predictions on new data\n",
    "# For example, if you have a new input X_new with shape (1, 3):\n",
    "# prediction = model.predict(X_new)\n",
    "# chosen_transformation = np.argmax(prediction)\n"
   ],
   "metadata": {
    "collapsed": false,
    "ExecuteTime": {
     "end_time": "2023-10-12T14:30:26.877804Z",
     "start_time": "2023-10-12T14:30:21.350873Z"
    }
   },
   "id": "4b17836872e09acb"
  },
  {
   "cell_type": "code",
   "execution_count": null,
   "outputs": [],
   "source": [],
   "metadata": {
    "collapsed": false
   },
   "id": "6f33b8b82cd69688"
  }
 ],
 "metadata": {
  "kernelspec": {
   "display_name": "Python 3",
   "language": "python",
   "name": "python3"
  },
  "language_info": {
   "codemirror_mode": {
    "name": "ipython",
    "version": 2
   },
   "file_extension": ".py",
   "mimetype": "text/x-python",
   "name": "python",
   "nbconvert_exporter": "python",
   "pygments_lexer": "ipython2",
   "version": "2.7.6"
  }
 },
 "nbformat": 4,
 "nbformat_minor": 5
}
