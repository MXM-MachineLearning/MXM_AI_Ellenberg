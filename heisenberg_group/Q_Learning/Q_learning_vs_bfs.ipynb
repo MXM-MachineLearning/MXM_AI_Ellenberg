{
 "cells": [
  {
   "cell_type": "code",
   "execution_count": 14,
   "metadata": {},
   "outputs": [],
   "source": [
    "import numpy as np\n",
    "import pandas as pd\n",
    "import matplotlib.pyplot as plt"
   ]
  },
  {
   "cell_type": "code",
   "execution_count": 15,
   "metadata": {},
   "outputs": [],
   "source": [
    "Q_learning_df_1 = pd.read_csv(\"../Data_Generation/Data_files/Q_moves_scores.csv\")\n",
    "Q_learning_df_2 = pd.read_csv(\"../Data_Generation/Data_files/Q_moves_scores_test.csv\")\n",
    "bfs_df = pd.read_csv(\"../Data_Generation/Data_files/bfs_heisenberg_data.csv\")"
   ]
  },
  {
   "cell_type": "code",
   "execution_count": 16,
   "metadata": {},
   "outputs": [],
   "source": [
    "all_Q_learning = pd.concat([Q_learning_df_1, Q_learning_df_2])\n",
    "all_Q_learning = all_Q_learning.drop(\"last_matrix\", axis=1)"
   ]
  },
  {
   "cell_type": "code",
   "execution_count": 17,
   "metadata": {},
   "outputs": [],
   "source": [
    "combined_df = pd.merge(all_Q_learning, bfs_df, left_on=[\"val1\", \"val2\", \"val3\"], right_on=[\"val1\", \"val2\", \"val3\"])"
   ]
  },
  {
   "cell_type": "code",
   "execution_count": 18,
   "metadata": {},
   "outputs": [
    {
     "data": {
      "text/html": [
       "<div>\n",
       "<style scoped>\n",
       "    .dataframe tbody tr th:only-of-type {\n",
       "        vertical-align: middle;\n",
       "    }\n",
       "\n",
       "    .dataframe tbody tr th {\n",
       "        vertical-align: top;\n",
       "    }\n",
       "\n",
       "    .dataframe thead th {\n",
       "        text-align: right;\n",
       "    }\n",
       "</style>\n",
       "<table border=\"1\" class=\"dataframe\">\n",
       "  <thead>\n",
       "    <tr style=\"text-align: right;\">\n",
       "      <th></th>\n",
       "      <th>val1</th>\n",
       "      <th>val2</th>\n",
       "      <th>val3</th>\n",
       "      <th>num_moves_Q_learning_needs</th>\n",
       "      <th>first_move_by_Q_learning</th>\n",
       "      <th>Q_table_val</th>\n",
       "      <th>last_matrix</th>\n",
       "      <th>num_steps</th>\n",
       "    </tr>\n",
       "  </thead>\n",
       "  <tbody>\n",
       "    <tr>\n",
       "      <th>0</th>\n",
       "      <td>1</td>\n",
       "      <td>-7</td>\n",
       "      <td>-1</td>\n",
       "      <td>10</td>\n",
       "      <td>0</td>\n",
       "      <td>9800.897604</td>\n",
       "      <td>2.0</td>\n",
       "      <td>10.0</td>\n",
       "    </tr>\n",
       "    <tr>\n",
       "      <th>1</th>\n",
       "      <td>1</td>\n",
       "      <td>-7</td>\n",
       "      <td>-1</td>\n",
       "      <td>10</td>\n",
       "      <td>0</td>\n",
       "      <td>9800.897604</td>\n",
       "      <td>2.0</td>\n",
       "      <td>10.0</td>\n",
       "    </tr>\n",
       "    <tr>\n",
       "      <th>2</th>\n",
       "      <td>1</td>\n",
       "      <td>-7</td>\n",
       "      <td>-1</td>\n",
       "      <td>10</td>\n",
       "      <td>0</td>\n",
       "      <td>9800.897604</td>\n",
       "      <td>2.0</td>\n",
       "      <td>10.0</td>\n",
       "    </tr>\n",
       "    <tr>\n",
       "      <th>3</th>\n",
       "      <td>1</td>\n",
       "      <td>-7</td>\n",
       "      <td>-1</td>\n",
       "      <td>10</td>\n",
       "      <td>0</td>\n",
       "      <td>9800.897604</td>\n",
       "      <td>2.0</td>\n",
       "      <td>10.0</td>\n",
       "    </tr>\n",
       "    <tr>\n",
       "      <th>4</th>\n",
       "      <td>1</td>\n",
       "      <td>-7</td>\n",
       "      <td>-1</td>\n",
       "      <td>10</td>\n",
       "      <td>0</td>\n",
       "      <td>9800.897604</td>\n",
       "      <td>2.0</td>\n",
       "      <td>10.0</td>\n",
       "    </tr>\n",
       "    <tr>\n",
       "      <th>...</th>\n",
       "      <td>...</td>\n",
       "      <td>...</td>\n",
       "      <td>...</td>\n",
       "      <td>...</td>\n",
       "      <td>...</td>\n",
       "      <td>...</td>\n",
       "      <td>...</td>\n",
       "      <td>...</td>\n",
       "    </tr>\n",
       "    <tr>\n",
       "      <th>9919</th>\n",
       "      <td>-4</td>\n",
       "      <td>-26</td>\n",
       "      <td>10</td>\n",
       "      <td>14</td>\n",
       "      <td>3</td>\n",
       "      <td>9721.812740</td>\n",
       "      <td>1.0</td>\n",
       "      <td>14.0</td>\n",
       "    </tr>\n",
       "    <tr>\n",
       "      <th>9920</th>\n",
       "      <td>-11</td>\n",
       "      <td>34</td>\n",
       "      <td>-5</td>\n",
       "      <td>16</td>\n",
       "      <td>0</td>\n",
       "      <td>0.000000</td>\n",
       "      <td>1.0</td>\n",
       "      <td>16.0</td>\n",
       "    </tr>\n",
       "    <tr>\n",
       "      <th>9921</th>\n",
       "      <td>0</td>\n",
       "      <td>18</td>\n",
       "      <td>-8</td>\n",
       "      <td>14</td>\n",
       "      <td>2</td>\n",
       "      <td>9721.812740</td>\n",
       "      <td>0.0</td>\n",
       "      <td>14.0</td>\n",
       "    </tr>\n",
       "    <tr>\n",
       "      <th>9922</th>\n",
       "      <td>3</td>\n",
       "      <td>-35</td>\n",
       "      <td>-9</td>\n",
       "      <td>16</td>\n",
       "      <td>2</td>\n",
       "      <td>6624.419289</td>\n",
       "      <td>3.0</td>\n",
       "      <td>14.0</td>\n",
       "    </tr>\n",
       "    <tr>\n",
       "      <th>9923</th>\n",
       "      <td>8</td>\n",
       "      <td>-2</td>\n",
       "      <td>0</td>\n",
       "      <td>10</td>\n",
       "      <td>1</td>\n",
       "      <td>9800.897604</td>\n",
       "      <td>3.0</td>\n",
       "      <td>10.0</td>\n",
       "    </tr>\n",
       "  </tbody>\n",
       "</table>\n",
       "<p>9924 rows × 8 columns</p>\n",
       "</div>"
      ],
      "text/plain": [
       "      val1  val2  val3  num_moves_Q_learning_needs  first_move_by_Q_learning  \\\n",
       "0        1    -7    -1                          10                         0   \n",
       "1        1    -7    -1                          10                         0   \n",
       "2        1    -7    -1                          10                         0   \n",
       "3        1    -7    -1                          10                         0   \n",
       "4        1    -7    -1                          10                         0   \n",
       "...    ...   ...   ...                         ...                       ...   \n",
       "9919    -4   -26    10                          14                         3   \n",
       "9920   -11    34    -5                          16                         0   \n",
       "9921     0    18    -8                          14                         2   \n",
       "9922     3   -35    -9                          16                         2   \n",
       "9923     8    -2     0                          10                         1   \n",
       "\n",
       "      Q_table_val  last_matrix  num_steps  \n",
       "0     9800.897604          2.0       10.0  \n",
       "1     9800.897604          2.0       10.0  \n",
       "2     9800.897604          2.0       10.0  \n",
       "3     9800.897604          2.0       10.0  \n",
       "4     9800.897604          2.0       10.0  \n",
       "...           ...          ...        ...  \n",
       "9919  9721.812740          1.0       14.0  \n",
       "9920     0.000000          1.0       16.0  \n",
       "9921  9721.812740          0.0       14.0  \n",
       "9922  6624.419289          3.0       14.0  \n",
       "9923  9800.897604          3.0       10.0  \n",
       "\n",
       "[9924 rows x 8 columns]"
      ]
     },
     "execution_count": 18,
     "metadata": {},
     "output_type": "execute_result"
    }
   ],
   "source": [
    "combined_df"
   ]
  },
  {
   "cell_type": "code",
   "execution_count": 21,
   "metadata": {},
   "outputs": [
    {
     "data": {
      "text/plain": [
       "0.0"
      ]
     },
     "execution_count": 21,
     "metadata": {},
     "output_type": "execute_result"
    }
   ],
   "source": [
    "# These Q learning datasets learn a sequence of moves that gets us to the origin \n",
    "# as fast as BFS about 90% of the time. \n",
    "sum(combined_df['num_moves_Q_learning_needs']==combined_df['num_steps'])/combined_df.shape[0]"
   ]
  },
  {
   "cell_type": "code",
   "execution_count": 32,
   "metadata": {},
   "outputs": [
    {
     "data": {
      "text/plain": [
       "373"
      ]
     },
     "execution_count": 32,
     "metadata": {},
     "output_type": "execute_result"
    }
   ],
   "source": [
    "# Q learning is not learning the same path back to the origin, but it is learning a path of equal length. \n",
    "# implies that there are probably multiple different paths of the same length back to the origin for \n",
    "# a given element in the heisenberg group\n",
    "sum(combined_df['first_move_by_Q_learning']==combined_df['last_matrix'])"
   ]
  }
 ],
 "metadata": {
  "kernelspec": {
   "display_name": "Python 3",
   "language": "python",
   "name": "python3"
  },
  "language_info": {
   "codemirror_mode": {
    "name": "ipython",
    "version": 3
   },
   "file_extension": ".py",
   "mimetype": "text/x-python",
   "name": "python",
   "nbconvert_exporter": "python",
   "pygments_lexer": "ipython3",
   "version": "3.10.11"
  }
 },
 "nbformat": 4,
 "nbformat_minor": 2
}
