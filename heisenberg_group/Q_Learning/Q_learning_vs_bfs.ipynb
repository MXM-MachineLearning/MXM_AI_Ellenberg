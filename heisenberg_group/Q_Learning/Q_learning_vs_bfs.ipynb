{
 "cells": [
  {
   "cell_type": "code",
   "execution_count": 1,
   "metadata": {},
   "outputs": [],
   "source": [
    "import numpy as np\n",
    "import pandas as pd\n",
    "import matplotlib.pyplot as plt"
   ]
  },
  {
   "cell_type": "code",
   "execution_count": 2,
   "metadata": {},
   "outputs": [],
   "source": [
    "Q_learning_df_1 = pd.read_csv(\"../Data_Generation/Data_files/Q_moves_scores.csv\")\n",
    "Q_learning_df_2 = pd.read_csv(\"../Data_Generation/Data_files/Q_moves_scores_test.csv\")\n",
    "bfs_df = pd.read_csv(\"../Data_Generation/Data_files/bfs_heisenberg_data.csv\")"
   ]
  },
  {
   "cell_type": "code",
   "execution_count": 3,
   "metadata": {},
   "outputs": [],
   "source": [
    "all_Q_learning = pd.concat([Q_learning_df_1, Q_learning_df_2])\n",
    "all_Q_learning = all_Q_learning.drop(\"last_matrix\", axis=1)\n",
    "all_Q_learning = all_Q_learning.drop_duplicates()"
   ]
  },
  {
   "cell_type": "code",
   "execution_count": 4,
   "metadata": {},
   "outputs": [],
   "source": [
    "combined_df = pd.merge(all_Q_learning, bfs_df, left_on=[\"val1\", \"val2\", \"val3\"], right_on=[\"val1\", \"val2\", \"val3\"], how=\"inner\")"
   ]
  },
  {
   "cell_type": "code",
   "execution_count": 5,
   "metadata": {},
   "outputs": [
    {
     "name": "stdout",
     "output_type": "stream",
     "text": [
      "(1047, 8)\n"
     ]
    },
    {
     "data": {
      "text/plain": [
       "(1047, 8)"
      ]
     },
     "execution_count": 5,
     "metadata": {},
     "output_type": "execute_result"
    }
   ],
   "source": [
    "print(combined_df.shape)\n",
    "combined_df.drop_duplicates().shape"
   ]
  },
  {
   "cell_type": "code",
   "execution_count": 6,
   "metadata": {},
   "outputs": [
    {
     "data": {
      "text/plain": [
       "0.9828080229226361"
      ]
     },
     "execution_count": 6,
     "metadata": {},
     "output_type": "execute_result"
    }
   ],
   "source": [
    "# These Q learning datasets learn a sequence of moves that gets us to the origin \n",
    "# as fast as BFS about 97% of the time. \n",
    "sum(combined_df['num_moves_Q_learning_needs']==combined_df['num_steps'])/combined_df.shape[0]"
   ]
  },
  {
   "cell_type": "code",
   "execution_count": 8,
   "metadata": {},
   "outputs": [
    {
     "data": {
      "text/plain": [
       "0.0"
      ]
     },
     "execution_count": 8,
     "metadata": {},
     "output_type": "execute_result"
    }
   ],
   "source": [
    "sum(combined_df['num_moves_Q_learning_needs']==1+combined_df['num_steps'])/combined_df.shape[0]"
   ]
  },
  {
   "cell_type": "code",
   "execution_count": 9,
   "metadata": {},
   "outputs": [
    {
     "data": {
      "text/plain": [
       "0       2.0\n",
       "1       0.0\n",
       "2       1.0\n",
       "3       0.0\n",
       "4       2.0\n",
       "       ... \n",
       "1042    2.0\n",
       "1043    0.0\n",
       "1044    1.0\n",
       "1045    3.0\n",
       "1046    0.0\n",
       "Name: last_matrix, Length: 1047, dtype: float64"
      ]
     },
     "execution_count": 9,
     "metadata": {},
     "output_type": "execute_result"
    }
   ],
   "source": [
    "combined_df['last_matrix']"
   ]
  },
  {
   "cell_type": "code",
   "execution_count": 10,
   "metadata": {},
   "outputs": [],
   "source": [
    "# this swap is necessary because we generate the data in different ways. \n",
    "# In Q learning, we are at a matrix and applying matrics on the right to get to the identity\n",
    "# In BFS, we are at the identity and apply matrics on the right to get to the arbitrary matrix\n",
    "\n",
    "def swap_ab_and_cd(row):\n",
    "    if row['last_matrix']==0:\n",
    "        return 1\n",
    "    elif row['last_matrix']==1:\n",
    "        return 0\n",
    "    elif row['last_matrix']==2:\n",
    "        return 3\n",
    "    elif row['last_matrix']==3:\n",
    "        return 2\n",
    "    assert 1==2\n",
    "\n",
    "combined_df['last_matrix_swapping'] = combined_df.apply(swap_ab_and_cd, axis=1)"
   ]
  },
  {
   "cell_type": "code",
   "execution_count": 11,
   "metadata": {},
   "outputs": [
    {
     "data": {
      "text/html": [
       "<div>\n",
       "<style scoped>\n",
       "    .dataframe tbody tr th:only-of-type {\n",
       "        vertical-align: middle;\n",
       "    }\n",
       "\n",
       "    .dataframe tbody tr th {\n",
       "        vertical-align: top;\n",
       "    }\n",
       "\n",
       "    .dataframe thead th {\n",
       "        text-align: right;\n",
       "    }\n",
       "</style>\n",
       "<table border=\"1\" class=\"dataframe\">\n",
       "  <thead>\n",
       "    <tr style=\"text-align: right;\">\n",
       "      <th></th>\n",
       "      <th>val1</th>\n",
       "      <th>val2</th>\n",
       "      <th>val3</th>\n",
       "      <th>num_moves_Q_learning_needs</th>\n",
       "      <th>first_move_by_Q_learning</th>\n",
       "      <th>Q_table_val</th>\n",
       "      <th>num_steps</th>\n",
       "      <th>last_matrix</th>\n",
       "      <th>last_matrix_swapping</th>\n",
       "    </tr>\n",
       "  </thead>\n",
       "  <tbody>\n",
       "    <tr>\n",
       "      <th>0</th>\n",
       "      <td>1</td>\n",
       "      <td>-7</td>\n",
       "      <td>-1</td>\n",
       "      <td>10</td>\n",
       "      <td>0</td>\n",
       "      <td>9800.897604</td>\n",
       "      <td>10.0</td>\n",
       "      <td>2.0</td>\n",
       "      <td>3</td>\n",
       "    </tr>\n",
       "    <tr>\n",
       "      <th>1</th>\n",
       "      <td>-1</td>\n",
       "      <td>-14</td>\n",
       "      <td>5</td>\n",
       "      <td>10</td>\n",
       "      <td>1</td>\n",
       "      <td>9800.897604</td>\n",
       "      <td>10.0</td>\n",
       "      <td>0.0</td>\n",
       "      <td>1</td>\n",
       "    </tr>\n",
       "    <tr>\n",
       "      <th>2</th>\n",
       "      <td>-2</td>\n",
       "      <td>-3</td>\n",
       "      <td>-2</td>\n",
       "      <td>8</td>\n",
       "      <td>0</td>\n",
       "      <td>9840.558881</td>\n",
       "      <td>8.0</td>\n",
       "      <td>1.0</td>\n",
       "      <td>0</td>\n",
       "    </tr>\n",
       "    <tr>\n",
       "      <th>3</th>\n",
       "      <td>3</td>\n",
       "      <td>-3</td>\n",
       "      <td>-5</td>\n",
       "      <td>8</td>\n",
       "      <td>1</td>\n",
       "      <td>9840.558881</td>\n",
       "      <td>8.0</td>\n",
       "      <td>0.0</td>\n",
       "      <td>1</td>\n",
       "    </tr>\n",
       "    <tr>\n",
       "      <th>4</th>\n",
       "      <td>5</td>\n",
       "      <td>16</td>\n",
       "      <td>3</td>\n",
       "      <td>10</td>\n",
       "      <td>1</td>\n",
       "      <td>9800.894789</td>\n",
       "      <td>10.0</td>\n",
       "      <td>2.0</td>\n",
       "      <td>3</td>\n",
       "    </tr>\n",
       "    <tr>\n",
       "      <th>...</th>\n",
       "      <td>...</td>\n",
       "      <td>...</td>\n",
       "      <td>...</td>\n",
       "      <td>...</td>\n",
       "      <td>...</td>\n",
       "      <td>...</td>\n",
       "      <td>...</td>\n",
       "      <td>...</td>\n",
       "      <td>...</td>\n",
       "    </tr>\n",
       "    <tr>\n",
       "      <th>1042</th>\n",
       "      <td>4</td>\n",
       "      <td>3</td>\n",
       "      <td>0</td>\n",
       "      <td>6</td>\n",
       "      <td>1</td>\n",
       "      <td>9880.2996</td>\n",
       "      <td>6.0</td>\n",
       "      <td>2.0</td>\n",
       "      <td>3</td>\n",
       "    </tr>\n",
       "    <tr>\n",
       "      <th>1043</th>\n",
       "      <td>1</td>\n",
       "      <td>1</td>\n",
       "      <td>-7</td>\n",
       "      <td>10</td>\n",
       "      <td>1</td>\n",
       "      <td>9800.897604</td>\n",
       "      <td>10.0</td>\n",
       "      <td>0.0</td>\n",
       "      <td>1</td>\n",
       "    </tr>\n",
       "    <tr>\n",
       "      <th>1044</th>\n",
       "      <td>-4</td>\n",
       "      <td>2</td>\n",
       "      <td>-2</td>\n",
       "      <td>6</td>\n",
       "      <td>0</td>\n",
       "      <td>9880.2996</td>\n",
       "      <td>6.0</td>\n",
       "      <td>1.0</td>\n",
       "      <td>0</td>\n",
       "    </tr>\n",
       "    <tr>\n",
       "      <th>1045</th>\n",
       "      <td>3</td>\n",
       "      <td>-10</td>\n",
       "      <td>-3</td>\n",
       "      <td>8</td>\n",
       "      <td>0</td>\n",
       "      <td>9840.558881</td>\n",
       "      <td>8.0</td>\n",
       "      <td>3.0</td>\n",
       "      <td>2</td>\n",
       "    </tr>\n",
       "    <tr>\n",
       "      <th>1046</th>\n",
       "      <td>3</td>\n",
       "      <td>-2</td>\n",
       "      <td>3</td>\n",
       "      <td>8</td>\n",
       "      <td>1</td>\n",
       "      <td>9840.558881</td>\n",
       "      <td>8.0</td>\n",
       "      <td>0.0</td>\n",
       "      <td>1</td>\n",
       "    </tr>\n",
       "  </tbody>\n",
       "</table>\n",
       "<p>1047 rows × 9 columns</p>\n",
       "</div>"
      ],
      "text/plain": [
       "     val1 val2 val3 num_moves_Q_learning_needs first_move_by_Q_learning  \\\n",
       "0       1   -7   -1                         10                        0   \n",
       "1      -1  -14    5                         10                        1   \n",
       "2      -2   -3   -2                          8                        0   \n",
       "3       3   -3   -5                          8                        1   \n",
       "4       5   16    3                         10                        1   \n",
       "...   ...  ...  ...                        ...                      ...   \n",
       "1042    4    3    0                          6                        1   \n",
       "1043    1    1   -7                         10                        1   \n",
       "1044   -4    2   -2                          6                        0   \n",
       "1045    3  -10   -3                          8                        0   \n",
       "1046    3   -2    3                          8                        1   \n",
       "\n",
       "      Q_table_val  num_steps  last_matrix  last_matrix_swapping  \n",
       "0     9800.897604       10.0          2.0                     3  \n",
       "1     9800.897604       10.0          0.0                     1  \n",
       "2     9840.558881        8.0          1.0                     0  \n",
       "3     9840.558881        8.0          0.0                     1  \n",
       "4     9800.894789       10.0          2.0                     3  \n",
       "...           ...        ...          ...                   ...  \n",
       "1042    9880.2996        6.0          2.0                     3  \n",
       "1043  9800.897604       10.0          0.0                     1  \n",
       "1044    9880.2996        6.0          1.0                     0  \n",
       "1045  9840.558881        8.0          3.0                     2  \n",
       "1046  9840.558881        8.0          0.0                     1  \n",
       "\n",
       "[1047 rows x 9 columns]"
      ]
     },
     "execution_count": 11,
     "metadata": {},
     "output_type": "execute_result"
    }
   ],
   "source": [
    "combined_df"
   ]
  },
  {
   "cell_type": "code",
   "execution_count": 12,
   "metadata": {},
   "outputs": [
    {
     "data": {
      "text/plain": [
       "0.6914995224450812"
      ]
     },
     "execution_count": 12,
     "metadata": {},
     "output_type": "execute_result"
    }
   ],
   "source": [
    "# they agree on the first step 70% of the time. Yay!\n",
    "sum(combined_df['first_move_by_Q_learning']==combined_df['last_matrix_swapping'])/combined_df.shape[0]"
   ]
  },
  {
   "cell_type": "code",
   "execution_count": 13,
   "metadata": {},
   "outputs": [],
   "source": [
    "grouped_last_matrices = combined_df.groupby(['first_move_by_Q_learning', 'last_matrix_swapping']).size()"
   ]
  },
  {
   "cell_type": "code",
   "execution_count": 15,
   "metadata": {},
   "outputs": [],
   "source": [
    "import seaborn as sns"
   ]
  },
  {
   "cell_type": "code",
   "execution_count": 23,
   "metadata": {},
   "outputs": [
    {
     "data": {
      "image/png": "[encoded data removed]",
      "text/plain": [
       "<Figure size 640x480 with 2 Axes>"
      ]
     },
     "metadata": {},
     "output_type": "display_data"
    }
   ],
   "source": [
    "matrix_df = grouped_last_matrices.reset_index(drop=True).to_numpy()\n",
    "matrix_df = matrix_df.reshape((4, 4))\n",
    "matrix_df\n",
    "\n",
    "sns.heatmap(matrix_df, annot=True, cmap='coolwarm')\n",
    "plt.xlabel(\"First move by Q learning\")\n",
    "plt.ylabel(\"First move by BFS\")\n",
    "plt.title(\"Usually BFS and Q learning agree\")\n",
    "plt.show()"
   ]
  }
 ],
 "metadata": {
  "kernelspec": {
   "display_name": "Python 3",
   "language": "python",
   "name": "python3"
  },
  "language_info": {
   "codemirror_mode": {
    "name": "ipython",
    "version": 3
   },
   "file_extension": ".py",
   "mimetype": "text/x-python",
   "name": "python",
   "nbconvert_exporter": "python",
   "pygments_lexer": "ipython3",
   "version": "3.10.11"
  }
 },
 "nbformat": 4,
 "nbformat_minor": 2
}
