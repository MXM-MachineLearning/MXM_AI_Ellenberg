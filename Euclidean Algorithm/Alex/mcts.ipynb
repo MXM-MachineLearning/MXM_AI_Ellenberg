{
 "cells": [
  {
   "cell_type": "code",
   "execution_count": 1,
   "id": "initial_id",
   "metadata": {
    "collapsed": true,
    "ExecuteTime": {
     "end_time": "2023-11-06T02:14:50.031370Z",
     "start_time": "2023-11-06T02:14:49.258363Z"
    }
   },
   "outputs": [],
   "source": [
    "import random\n",
    "\n",
    "import matplotlib.pyplot as plt\n",
    "import numpy as np\n",
    "\n",
    "from util import *"
   ]
  },
  {
   "cell_type": "code",
   "execution_count": 2,
   "outputs": [],
   "source": [
    "\n",
    "class Node:\n",
    "    def __init__(self, parent, state, n_children, terminal_rwd, depth, use_inv=True):\n",
    "        self.state = np.array(state, dtype=np.int16)\n",
    "        self.parent = parent\n",
    "        self.visits = 0\n",
    "        self.children = [None] * n_children\n",
    "        self.depth = depth\n",
    "        self.is_terminal = self.terminal()\n",
    "        if use_inv:\n",
    "            self.value = self.inv_axis_dist_value(terminal_rwd)\n",
    "        else:\n",
    "            self.value = self.axis_dist_value(terminal_rwd)\n",
    "        self.subtree_value = 0\n",
    "\n",
    "    def __str__(self):\n",
    "        return (\"State: \" + str(self.state) + \"; Value: \" + str(self.value)\n",
    "                + \"; Subtree Value: \" + str(self.subtree_value) + \"; Visits:\", str(self.visits))\n",
    "\n",
    "    def terminal(self, k_eps=1e-4):\n",
    "        for i in self.state:\n",
    "            if abs(i) <= k_eps:\n",
    "                return True\n",
    "        return False\n",
    "\n",
    "    def axis_dist_value(self, terminal_rwd):\n",
    "        if self.is_terminal:\n",
    "            return terminal_rwd\n",
    "        x = np.min(np.abs(self.state))\n",
    "        return - x - self.depth\n",
    "\n",
    "    def inv_axis_dist_value(self, terminal_rwd):\n",
    "        if self.is_terminal:\n",
    "            return terminal_rwd\n",
    "        return 1 / np.min(np.abs(np.array(self.state))) - self.depth\n",
    "\n",
    "    def is_leaf(self):\n",
    "        for i in self.state:\n",
    "            if i is not None:\n",
    "                return False\n",
    "        return True\n",
    "\n",
    "    @staticmethod\n",
    "    def completion_value(root): # for the root node\n",
    "        return np.sqrt(np.linalg.norm(root.state))\n"
   ],
   "metadata": {
    "collapsed": false,
    "ExecuteTime": {
     "end_time": "2023-11-06T02:14:50.041101Z",
     "start_time": "2023-11-06T02:14:50.036894Z"
    }
   },
   "id": "d12017b9641b3200"
  },
  {
   "cell_type": "code",
   "execution_count": 3,
   "outputs": [],
   "source": [
    "class MCTS:\n",
    "    def __init__(self, actions, C, weight):\n",
    "        self.actions = actions\n",
    "        self.k_C = C\n",
    "        self.k_weight = weight  # diminish future reward estimations (per move in the future)\n",
    "        self.k_move_penalty = -1    # penalty for one move without finding a terminal state\n",
    "        self.root = None\n",
    "\n",
    "    def pick_child(self, node):\n",
    "        # UCT\n",
    "        t = []\n",
    "        for i in node.children:\n",
    "            if i is None:\n",
    "                continue\n",
    "            t.append(UCT_fn(i, self.k_C))\n",
    "        return int(random.choice(np.squeeze(np.argwhere(t == np.max(t)), axis=1)))\n",
    "\n",
    "    def default_search(self, node, depth):\n",
    "        \"\"\"\n",
    "        If node is fully explored (neither child is None), return True\n",
    "        Otherwise, initialize value of a random unexplored next state\n",
    "\n",
    "        :param node: node to search from\n",
    "        :return: if fully explored, True. Else, value of the random unexplored next state\n",
    "        \"\"\"\n",
    "        possible = []\n",
    "        for i in range(len(node.children)):\n",
    "            if node.children[i] is None:\n",
    "                possible.append(i)\n",
    "        if len(possible) == 0:\n",
    "            return True\n",
    "\n",
    "        i = random.choice(possible)\n",
    "        # if unexplored or non-terminal, get value\n",
    "        state = self.actions[i](node.state)\n",
    "        node.children[i] = Node(node, state, len(self.actions), Node.completion_value(self.root), depth=depth)\n",
    "        return node.children[i]\n",
    "\n",
    "    def tree_policy(self, node, computations, depth=0):\n",
    "        while node.is_terminal is False:\n",
    "            explored = self.default_search(node, depth)\n",
    "            if explored is not True:\n",
    "                return explored, computations + 1\n",
    "            node = node.children[self.pick_child(node)]\n",
    "            # node = random.choice(node.children)\n",
    "            depth += 1\n",
    "        return node, computations + 1\n",
    "\n",
    "    def sum_prop(self, node):\n",
    "        \"\"\"\n",
    "        Backprop up from a leaf using sum of rewards. Parent subtree value takes sum of child subtree values.\n",
    "\n",
    "        :param node: of subtree\n",
    "        \"\"\"\n",
    "        node.subtree_value = node.value\n",
    "        if not node.is_leaf():\n",
    "            for i in node.children:\n",
    "                if i is None:\n",
    "                    continue\n",
    "                node.subtree_value += self.k_weight * i.subtree_value\n",
    "        node.visits += 1\n",
    "        if node.parent is None:\n",
    "            return\n",
    "        self.sum_prop(node.parent)\n",
    "\n",
    "    def run(self, root, comp_limit=10):\n",
    "        \"\"\"\n",
    "        Shoutout \"A Survey of MCTS Methods\"\n",
    "        :param node: the current state\n",
    "        :param comp_limit: max number of possible future scenarios to compute (carries over)\n",
    "        :return: index corresponding to best action\n",
    "        \"\"\"\n",
    "        self.root = root\n",
    "        if root.is_terminal:\n",
    "            return True\n",
    "        comps = 0\n",
    "        while comps < comp_limit:\n",
    "            node, comps = self.tree_policy(self.root, comps, depth=0)\n",
    "            self.sum_prop(node)\n",
    "\n",
    "        rv = self.pick_child(root)\n",
    "        return rv"
   ],
   "metadata": {
    "collapsed": false,
    "ExecuteTime": {
     "end_time": "2023-11-06T02:14:50.053129Z",
     "start_time": "2023-11-06T02:14:50.049973Z"
    }
   },
   "id": "8031c754a4dbbeae"
  },
  {
   "cell_type": "code",
   "execution_count": 4,
   "outputs": [],
   "source": [
    "def get_data(fname):\n",
    "    x = np.array(np.loadtxt(fname, delimiter=\",\"), dtype=np.float32)\n",
    "    return x[:,:-1], x[:,-1]\n",
    "\n",
    "\n",
    "def plot_db(mcts, actions, comp_limit, ranges):\n",
    "    X = ranges[0]\n",
    "    Y = ranges[1]\n",
    "    action_plot = [[] for i in actions]\n",
    "    for i in X:\n",
    "        for j in Y:\n",
    "            result = mcts.run(Node(None, (i,j), len(actions),0, np.linalg.norm([i,j])), comp_limit=comp_limit)\n",
    "            action_plot[result].append((i,j))\n",
    "    for i in range(len(action_plot)):\n",
    "        action = np.array(action_plot[i])\n",
    "        plt.scatter(action[:,0], action[:,1], color=(\"C\"+str(i)), label=action)\n",
    "    plt.show()"
   ],
   "metadata": {
    "collapsed": false,
    "ExecuteTime": {
     "end_time": "2023-11-06T02:14:50.065463Z",
     "start_time": "2023-11-06T02:14:50.057041Z"
    }
   },
   "id": "c191e6c845a0bd24"
  },
  {
   "cell_type": "code",
   "execution_count": 5,
   "outputs": [],
   "source": [
    "def test(x, y, C, weight=1., comp_limit=10, actions=(a_subtract, a_swap), zero_index=False, dbs=None):\n",
    "    correct = 0\n",
    "    mcts = MCTS(actions, C, weight)\n",
    "    guess_dist = [0] * len(actions)\n",
    "    if zero_index:\n",
    "        y = y - np.ones(len(y))\n",
    "    for i in range(len(x)):\n",
    "        rv = mcts.run(Node(None, x[i], len(actions), 0, np.linalg.norm(x[i])), comp_limit=comp_limit)\n",
    "        if rv == y[i] or rv is True:\n",
    "            correct += 1\n",
    "        guess_dist[rv] += 1\n",
    "        # if (i+1) % 100 == 0:\n",
    "            # print(\"epoch\", i+1, \":\", correct / (i+1))\n",
    "\n",
    "    if dbs is not None:\n",
    "        # graphing decision boundary\n",
    "        plot_db(mcts, actions, comp_limit, ranges=dbs)\n",
    "    return correct / len(x), guess_dist\n",
    "\n",
    "\n",
    "def run_test(data_name, actions, C, cases=100, lookahead=100, weight=1., zero_index=False, dbs=None):\n",
    "    test_X, test_Y = get_data(data_name)\n",
    "    test_Y.reshape(-1, 1)\n",
    "\n",
    "    acc, guesses = test(test_X[:cases], test_Y[:cases],\n",
    "                        C, weight, comp_limit=lookahead, actions=actions, zero_index=zero_index, dbs=dbs)\n",
    "    print(\"Test Accuracy:\", acc)\n",
    "    print(\"Guess Distribution:\", guesses)"
   ],
   "metadata": {
    "collapsed": false,
    "ExecuteTime": {
     "end_time": "2023-11-06T02:14:50.073732Z",
     "start_time": "2023-11-06T02:14:50.067049Z"
    }
   },
   "id": "1368c1aa3c071299"
  },
  {
   "cell_type": "code",
   "execution_count": 6,
   "outputs": [],
   "source": [
    "k_C = 1 / math.sqrt(2)  # satisfies Hoeffding Ineq (Kocsis and Szepesvari)\n",
    "k_cases = 2000\n",
    "\n",
    "k_dbound_size = 100"
   ],
   "metadata": {
    "collapsed": false,
    "ExecuteTime": {
     "end_time": "2023-11-06T02:15:09.237402Z",
     "start_time": "2023-11-06T02:15:09.228830Z"
    }
   },
   "id": "7d034573cc3f5050"
  },
  {
   "cell_type": "code",
   "execution_count": null,
   "outputs": [],
   "source": [
    "dual_file = \"test_data/test_simple.csv\"\n",
    "\n",
    "db2 = np.linspace(2, k_dbound_size, k_dbound_size - 1)\n",
    "two_dbs =[db2, db2]\n",
    "\n",
    "run_test(dual_file, [a_subtract, a_swap], k_C, k_cases, lookahead=10, dbs=two_dbs)\n",
    "# ~90% accuracy"
   ],
   "metadata": {
    "collapsed": false
   },
   "id": "caa3d0f193cdda2a"
  },
  {
   "cell_type": "code",
   "execution_count": null,
   "outputs": [],
   "source": [
    "quad_file = \"../Donald/four_step_euclidean/four_directions_test.csv\"     # thanks, donald\n",
    "\n",
    "db4 = np.linspace(-k_dbound_size/2, k_dbound_size/2, k_dbound_size+1)\n",
    "quad_dbs = [db4, db4]\n",
    "run_test(quad_file, [a_plsy, a_suby, a_plsx, a_subx], k_C, k_cases, lookahead=100, zero_index=True, dbs=quad_dbs)\n",
    "# 8% accuracy on Donald test csv"
   ],
   "metadata": {
    "collapsed": false
   },
   "id": "6bb7c4b36c7d9707"
  }
 ],
 "metadata": {
  "kernelspec": {
   "display_name": "Python 3",
   "language": "python",
   "name": "python3"
  },
  "language_info": {
   "codemirror_mode": {
    "name": "ipython",
    "version": 2
   },
   "file_extension": ".py",
   "mimetype": "text/x-python",
   "name": "python",
   "nbconvert_exporter": "python",
   "pygments_lexer": "ipython2",
   "version": "2.7.6"
  }
 },
 "nbformat": 4,
 "nbformat_minor": 5
}
