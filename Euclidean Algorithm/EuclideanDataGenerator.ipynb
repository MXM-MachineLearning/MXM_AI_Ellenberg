{
 "cells": [
  {
   "cell_type": "markdown",
   "id": "1a78651a-5050-4ad4-bfe0-c3ea047350ad",
   "metadata": {},
   "source": [
    "**EUCLEDIAN DATA GENERATOR**\n",
    "\n",
    "This generates synthetic data to be used to train our Eucledian Algorithm NN. It outputs data in the form of a CSV, where each line has x coordinate, y coordinate, and which matrix is optimal. The first block of code generates only positive numbers. We can try other quadrants of $\\mathbb{Z}^2$ later."
   ]
  },
  {
   "cell_type": "code",
   "execution_count": 4,
   "id": "0a1d0060-1831-4161-b525-5093aad37a0b",
   "metadata": {
    "tags": []
   },
   "outputs": [],
   "source": [
    "import numpy as np\n",
    "import csv\n",
    "import random\n",
    "\n",
    "# U is the \"subtract\" matrix that maps (a,b) to (a,b-a)\n",
    "U = 0\n",
    "# T is the \"flip\" matrix that maps (a,b) to (b,a)\n",
    "T = 1"
   ]
  },
  {
   "cell_type": "code",
   "execution_count": 6,
   "id": "88988924-987a-4f15-af6c-db4cc95bf873",
   "metadata": {
    "tags": []
   },
   "outputs": [],
   "source": [
    "num_data_points = 10000\n",
    "\n",
    "\n",
    "# Open the CSV file in write mode\n",
    "with open('data.csv', 'w', newline='') as csvfile:\n",
    "    # Create a CSV writer object\n",
    "    csv_writer = csv.writer(csvfile)\n",
    "\n",
    "    # Write the header row\n",
    "    csv_writer.writerow(['a', 'b', 'Classification'])\n",
    "\n",
    "    # Generate data points and write them to the CSV\n",
    "    for i in range(num_data_points):\n",
    "        a = random.randint(1, 1000)\n",
    "        b = random.randint(1, 1000)\n",
    "        if a < b: classification = 1\n",
    "        else: classification = 0\n",
    "        \n",
    "\n",
    "        # Write the data row to the CSV\n",
    "        csv_writer.writerow([a, b, classification])"
   ]
  },
  {
   "cell_type": "code",
   "execution_count": null,
   "id": "00f7d51c-7165-4989-a97e-b0518d4687ae",
   "metadata": {},
   "outputs": [],
   "source": []
  }
 ],
 "metadata": {
  "kernelspec": {
   "display_name": "Python 3 (ipykernel)",
   "language": "python",
   "name": "python3"
  },
  "language_info": {
   "codemirror_mode": {
    "name": "ipython",
    "version": 3
   },
   "file_extension": ".py",
   "mimetype": "text/x-python",
   "name": "python",
   "nbconvert_exporter": "python",
   "pygments_lexer": "ipython3",
   "version": "3.11.4"
  }
 },
 "nbformat": 4,
 "nbformat_minor": 5
}
