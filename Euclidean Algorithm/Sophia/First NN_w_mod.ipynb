{
 "cells": [
  {
   "cell_type": "code",
   "execution_count": 2,
   "id": "initial_id",
   "metadata": {
    "ExecuteTime": {
     "end_time": "2023-09-20T01:15:57.677913Z",
     "start_time": "2023-09-20T01:15:47.366238Z"
    },
    "collapsed": true
   },
   "outputs": [],
   "source": [
    "import pandas as pd\n",
    "import torch\n",
    "import torch.nn as nn \n",
    "import torch.optim as optim\n",
    "import random\n",
    "import pandas"
   ]
  },
  {
   "cell_type": "code",
   "execution_count": 3,
   "id": "aa5747831462be81",
   "metadata": {
    "ExecuteTime": {
     "end_time": "2023-09-20T17:59:30.611631Z",
     "start_time": "2023-09-20T17:59:28.781573Z"
    },
    "collapsed": false
   },
   "outputs": [],
   "source": [
    "#data_generator\n",
    "matrix_T = torch.tensor([[0, 1], [1, 0]], dtype=torch.float64)\n",
    "matrix_U = torch.tensor([[1, -1], [0, 1]], dtype=torch.float64)\n",
    "\n",
    "inverse_T = torch.inverse(matrix_T)\n",
    "inverse_U = torch.inverse(matrix_U)\n",
    "\n",
    "max_moves = 30  #how many inverse operations on the final destination\n",
    "goal_position = torch.tensor([[1], [0]], dtype=torch.float64)\n",
    "\n",
    "\n",
    "def data_generator(num_of_datapoints):\n",
    "    data = torch.empty((num_of_datapoints, 3), dtype=torch.float64)\n",
    "    for i in range(num_of_datapoints):\n",
    "        start = goal_position\n",
    "        moves = random.randint(1, max_moves)\n",
    "        coin = 3\n",
    "        for q in range(moves):\n",
    "            coin = random.randint(0, 1)\n",
    "            if coin == 1:\n",
    "                #  print(start, inverse_U, \"=\")\n",
    "                start = torch.matmul(inverse_U, start)\n",
    "            #  print(start)\n",
    "            else:\n",
    "                #  print(start, inverse_T, \"=\")\n",
    "                start = torch.matmul(inverse_T, start)\n",
    "                if q != moves - 1:\n",
    "                    start = torch.matmul(inverse_U, start)\n",
    "            # print(start)\n",
    "        # print(\"done\")\n",
    "        data[i, 0] = start[0]\n",
    "        data[i, 1] = start[1]\n",
    "        data[i, 2] = coin\n",
    "    return data\n",
    "\n",
    "#https://stackoverflow.com/questions/36158058/torch-save-tensor-to-csv-file#:~:text=For%20simple%20tables%2C%20you%20can,then%20to%20a%20Pandas%20dataframe.&text=You%20can%20first%20convert%20the,table%20as%20a%20csv%20file.\n",
    "data = data_generator(20000)\n",
    "data_table = data.numpy()\n",
    "df = pandas.DataFrame(data_table)\n",
    "df.to_csv(\"generated_pairs.csv\", index = False) \n"
   ]
  },
  {
   "cell_type": "code",
   "execution_count": 4,
   "id": "8f208516537858f3",
   "metadata": {
    "ExecuteTime": {
     "end_time": "2023-09-20T18:00:48.704288Z",
     "start_time": "2023-09-20T18:00:48.684589Z"
    },
    "collapsed": false
   },
   "outputs": [],
   "source": [
    "#https://machinelearningmastery.com/develop-your-first-neural-network-with-pytorch-step-by-step/\n",
    "#https://stackoverflow.com/questions/12336234/read-csv-file-to-numpy-array-first-row-as-strings-rest-as-float\n",
    "#https://www.w3schools.com/python/numpy/numpy_array_join.asp#:~:text=Joining%20Arrays%20Using%20Stack%20Functions&text=We%20can%20concatenate%20two%201,it%20is%20taken%20as%200.\n",
    "\n",
    "#make tensors from csv file\n",
    "\n",
    "#from cs544 notes \n",
    "data = pd.read_csv(\"generated_pairs.csv\", names=[\"0\",\"1\",\"2\"], delimiter=\",\")\n",
    "dataset = torch.utils.data.TensorDataset(\n",
    "    torch.tensor(data.loc[:, \"0\":\"1\"].values), # input \n",
    "    torch.tensor(data.loc[:, [\"2\"]].values) #output \n",
    ")\n",
    "X, Y = dataset[:] #label input and output \n"
   ]
  },
  {
   "cell_type": "code",
   "execution_count": 5,
   "id": "b677c06c3dfca538",
   "metadata": {
    "ExecuteTime": {
     "end_time": "2023-09-20T18:01:17.605171Z",
     "start_time": "2023-09-20T18:01:17.594404Z"
    },
    "collapsed": false
   },
   "outputs": [],
   "source": [
    "#https://machinelearningmastery.com/develop-your-first-neural-network-with-pytorch-step-by-step/\n",
    "#making the model \n",
    "model = nn.Sequential(\n",
    "    nn.Linear(2, 128), #first layer 128\n",
    "    nn.ReLU(),\n",
    "    nn.Linear(128,64), #second layer 64\n",
    "    nn.ReLU(),\n",
    "    nn.Linear(64, 16), #third layer 16\n",
    "    nn.ReLU(),\n",
    "    nn.Linear(16,1), #singular output \n",
    "    nn.Sigmoid()\n",
    ")\n",
    "#print(model)"
   ]
  },
  {
   "cell_type": "code",
   "execution_count": 6,
   "id": "c1c3c4eff075ec70",
   "metadata": {
    "ExecuteTime": {
     "end_time": "2023-09-20T18:01:18.280377Z",
     "start_time": "2023-09-20T18:01:18.272436Z"
    },
    "collapsed": false
   },
   "outputs": [],
   "source": [
    "#https://machinelearningmastery.com/develop-your-first-neural-network-with-pytorch-step-by-step/\n",
    "#prep for training \n",
    "loss_function = nn.BCELoss() #should this be our loss function too? \n",
    "optimizer = optim.Adam(model.parameters(), lr = 0.001) #chose Adam and lr from site \n",
    "\n",
    "#split training and testing data \n",
    "train, test = torch.utils.data.random_split(dataset, [0.75, 0.25]) #from cs544 class notes \n",
    "X_train, Y_train = train[:]\n",
    "X_train = torch.Tensor.numpy(X_train)\n",
    "Y_train = torch.Tensor.numpy(Y_train)\n"
   ]
  },
  {
   "cell_type": "code",
   "execution_count": 7,
   "id": "a6caa7a2eeb42a03",
   "metadata": {
    "ExecuteTime": {
     "end_time": "2023-09-20T18:01:18.659564Z",
     "start_time": "2023-09-20T18:01:18.650559Z"
    },
    "collapsed": false
   },
   "outputs": [],
   "source": [
    "batch_s = 100 #batch size \n",
    "epoch_s = 100 #epoch size \n",
    "dl = torch.utils.data.DataLoader(train, batch_size = batch_s, shuffle = True) #from cs544 notes \n",
    "dl_test = torch.utils.data.DataLoader(test, batch_size = batch_s, shuffle = False)"
   ]
  },
  {
   "cell_type": "code",
   "execution_count": 8,
   "id": "d9910452",
   "metadata": {},
   "outputs": [
    {
     "name": "stdout",
     "output_type": "stream",
     "text": [
      "Finished epoch 0, latest loss 0.24666918212831612\n",
      "Finished epoch 1, latest loss 0.00949612499865401\n",
      "Finished epoch 2, latest loss 0.003164393580418438\n",
      "Finished epoch 3, latest loss 0.0021115233899064866\n",
      "Finished epoch 4, latest loss 0.0017870842619484525\n",
      "Finished epoch 5, latest loss 0.001631502027437168\n",
      "Finished epoch 6, latest loss 0.001530113690276399\n",
      "Finished epoch 7, latest loss 0.0014513107695611385\n",
      "Finished epoch 8, latest loss 0.0013872486418625802\n",
      "Finished epoch 9, latest loss 0.0013318697681174642\n",
      "Finished epoch 10, latest loss 0.0012824606302629699\n",
      "Finished epoch 11, latest loss 0.0012368533147586855\n",
      "Finished epoch 12, latest loss 0.0011965680175446613\n",
      "Finished epoch 13, latest loss 0.001163904855046298\n",
      "Finished epoch 14, latest loss 0.0011373563162569613\n",
      "Finished epoch 15, latest loss 0.0011143861196229554\n",
      "Finished epoch 16, latest loss 0.0010944978657006753\n",
      "Finished epoch 17, latest loss 0.0010765786845580963\n",
      "Finished epoch 18, latest loss 0.0010610906238492659\n",
      "Finished epoch 19, latest loss 0.0010484184044708548\n",
      "Finished epoch 20, latest loss 0.0010383432561697709\n",
      "Finished epoch 21, latest loss 0.0010295150331005411\n",
      "Finished epoch 22, latest loss 0.0010216846903768476\n",
      "Finished epoch 23, latest loss 0.0010147005506638042\n",
      "Finished epoch 24, latest loss 0.0010086448882856416\n",
      "Finished epoch 25, latest loss 0.0010029845724458082\n",
      "Finished epoch 26, latest loss 0.000998378937054934\n",
      "Finished epoch 27, latest loss 0.0009934981517651386\n",
      "Finished epoch 28, latest loss 0.0009903404222633065\n",
      "Finished epoch 29, latest loss 0.0009863585649234074\n",
      "Finished epoch 30, latest loss 0.00098365385052988\n",
      "Finished epoch 31, latest loss 0.000980705912979829\n",
      "Finished epoch 32, latest loss 0.0009783908260623327\n",
      "Finished epoch 33, latest loss 0.0009762706808490576\n",
      "Finished epoch 34, latest loss 0.0009741943351343331\n",
      "Finished epoch 35, latest loss 0.0009727381172663006\n",
      "Finished epoch 36, latest loss 0.0009709171541448122\n",
      "Finished epoch 37, latest loss 0.0009696554364439101\n",
      "Finished epoch 38, latest loss 0.0009680869763936948\n",
      "Finished epoch 39, latest loss 0.0009688479592689373\n",
      "Finished epoch 40, latest loss 0.0009668308665061206\n",
      "Finished epoch 41, latest loss 0.0009661273649081878\n",
      "Finished epoch 42, latest loss 0.0009650870166080121\n",
      "Finished epoch 43, latest loss 0.0009641342682513239\n",
      "Finished epoch 44, latest loss 0.0009634434958674536\n",
      "Finished epoch 45, latest loss 0.0009628052716360323\n",
      "Finished epoch 46, latest loss 0.0009622498874864956\n",
      "Finished epoch 47, latest loss 0.000961753195635827\n",
      "Finished epoch 48, latest loss 0.0009612222308792086\n",
      "Finished epoch 49, latest loss 0.0009613674502588765\n",
      "Finished epoch 50, latest loss 0.0009609411775070219\n",
      "Finished epoch 51, latest loss 0.0009606299156820304\n",
      "Finished epoch 52, latest loss 0.0009603872692185552\n",
      "Finished epoch 53, latest loss 0.0009601977956637578\n",
      "Finished epoch 54, latest loss 0.0009600499668756538\n",
      "Finished epoch 55, latest loss 0.0009599501241648838\n",
      "Finished epoch 56, latest loss 0.0009598874146298003\n",
      "Finished epoch 57, latest loss 0.0009598580544505823\n",
      "Finished epoch 58, latest loss 0.0009598597569697029\n",
      "Finished epoch 59, latest loss 0.0009598866219475714\n",
      "Finished epoch 60, latest loss 0.0009359572709315099\n",
      "Finished epoch 61, latest loss 0.0012830519748112212\n",
      "Finished epoch 62, latest loss 0.0010304286795374932\n",
      "Finished epoch 63, latest loss 0.0009660666304918043\n",
      "Finished epoch 64, latest loss 0.0009552427389511023\n",
      "Finished epoch 65, latest loss 0.0009534835241667652\n",
      "Finished epoch 66, latest loss 0.0011516578074032332\n",
      "Finished epoch 67, latest loss 0.0009860999332618017\n",
      "Finished epoch 68, latest loss 0.0009596924233920921\n",
      "Finished epoch 69, latest loss 0.0009587279759406013\n",
      "Finished epoch 70, latest loss 0.0009585995952726446\n",
      "Finished epoch 71, latest loss 0.0009564968654635641\n",
      "Finished epoch 72, latest loss 0.000959486621074576\n",
      "Finished epoch 73, latest loss 0.0009578480614654614\n",
      "Finished epoch 74, latest loss 0.0009525104992953757\n",
      "Finished epoch 75, latest loss 0.000978149565857359\n",
      "Finished epoch 76, latest loss 0.0009739777525712938\n",
      "Finished epoch 77, latest loss 0.0009605628841325067\n",
      "Finished epoch 78, latest loss 0.0009664339548123923\n",
      "Finished epoch 79, latest loss 0.0009550326945141947\n",
      "Finished epoch 80, latest loss 0.000988640037114643\n",
      "Finished epoch 81, latest loss 0.0009618604348039303\n",
      "Finished epoch 82, latest loss 0.0009578659953349267\n",
      "Finished epoch 83, latest loss 0.0009565649116777139\n",
      "Finished epoch 84, latest loss 0.0009554387562184971\n",
      "Finished epoch 85, latest loss 0.0009548326324808885\n",
      "Finished epoch 86, latest loss 0.0009542939529596726\n",
      "Finished epoch 87, latest loss 0.0009538725046715898\n",
      "Finished epoch 88, latest loss 0.0008975302200561293\n",
      "Finished epoch 89, latest loss 0.0013041899636620168\n",
      "Finished epoch 90, latest loss 0.001007932546941064\n",
      "Finished epoch 91, latest loss 0.0009564396051404469\n",
      "Finished epoch 92, latest loss 0.000987066065723793\n",
      "Finished epoch 93, latest loss 0.0009571643603007451\n",
      "Finished epoch 94, latest loss 0.0009523548764933076\n",
      "Finished epoch 95, latest loss 0.0009507427438204996\n",
      "Finished epoch 96, latest loss 0.0009500287915372461\n",
      "Finished epoch 97, latest loss 0.0009495585035187283\n",
      "Finished epoch 98, latest loss 0.000977667840708552\n",
      "Finished epoch 99, latest loss 0.0009538080101331324\n"
     ]
    }
   ],
   "source": [
    "#https://machinelearningmastery.com/develop-your-first-neural-network-with-pytorch-step-by-step/\n",
    "for epoch in range(epoch_s):\n",
    "    total_loss = 0.0\n",
    "    for i in range(0, len(X_train), batch_s):\n",
    "        optimizer.zero_grad()\n",
    "        X_batch = X_train[i:i+batch_s]\n",
    "        # print(X_batch)\n",
    "        y_pred = model(torch.Tensor(X_batch))\n",
    "        Y_batch = Y_train[i:i+batch_s]\n",
    "        # print(Y_batch)\n",
    "        loss = loss_function(y_pred, torch.Tensor(Y_batch))\n",
    "        \n",
    "        loss.backward()\n",
    "        optimizer.step()\n",
    "        total_loss += loss.item()\n",
    "        \n",
    "    print(f'Finished epoch {epoch}, latest loss {total_loss / len(dl)}')"
   ]
  },
  {
   "cell_type": "code",
   "execution_count": 16,
   "id": "10f685a2",
   "metadata": {},
   "outputs": [],
   "source": [
    "X_test, Y_test = test[:]\n",
    "\n",
    "X_test = torch.Tensor.numpy(X_test)\n",
    "Y_test = torch.Tensor.numpy(Y_test)\n"
   ]
  },
  {
   "cell_type": "code",
   "execution_count": 20,
   "id": "f3b960e7",
   "metadata": {},
   "outputs": [
    {
     "data": {
      "text/plain": [
       "tensor([0.5718], grad_fn=<AddBackward0>)"
      ]
     },
     "execution_count": 20,
     "metadata": {},
     "output_type": "execute_result"
    }
   ],
   "source": [
    "# sum the differences between test output and the actual output\n",
    "# Thankfully this is very small, which is good, so our model is good. \n",
    "# There are 10000 elements here in X_test (I think), so a sum of 0.57 is very good and very small\n",
    "sum(model(torch.Tensor(X_test)) - torch.Tensor(Y_test))"
   ]
  }
 ],
 "metadata": {
  "kernelspec": {
   "display_name": "Python 3",
   "language": "python",
   "name": "python3"
  },
  "language_info": {
   "codemirror_mode": {
    "name": "ipython",
    "version": 3
   },
   "file_extension": ".py",
   "mimetype": "text/x-python",
   "name": "python",
   "nbconvert_exporter": "python",
   "pygments_lexer": "ipython3",
   "version": "3.10.11"
  }
 },
 "nbformat": 4,
 "nbformat_minor": 5
}
