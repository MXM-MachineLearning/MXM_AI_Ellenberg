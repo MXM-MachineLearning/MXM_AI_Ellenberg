{
 "cells": [
  {
   "cell_type": "code",
   "execution_count": 13,
   "id": "initial_id",
   "metadata": {
    "collapsed": true,
    "ExecuteTime": {
     "end_time": "2023-09-26T14:56:37.561839Z",
     "start_time": "2023-09-26T14:56:37.452222Z"
    }
   },
   "outputs": [],
   "source": [
    "import numpy as np\n",
    "import torch\n",
    "import torch.nn as nn \n",
    "import torch.optim as optim\n",
    "import random\n",
    "import pandas as pd\n",
    "import matplotlib.pyplot as plt"
   ]
  },
  {
   "cell_type": "markdown",
   "source": [
    "Data Generator"
   ],
   "metadata": {
    "collapsed": false
   },
   "id": "453098ccfa7c9c3e"
  },
  {
   "cell_type": "code",
   "execution_count": 14,
   "outputs": [],
   "source": [
    "matrix_T = np.array([[0, 1], [1, 0]])\n",
    "matrix_U = np.array([[1, -1], [0, 1]])\n",
    "\n",
    "inverse_T = np.array([[0, 1], [1, 0]])\n",
    "inverse_U = np.array([[1, 1], [0, 1]])\n",
    "\n",
    "def data_generator(num_points):\n",
    "    data = []\n",
    "    max_moves = 30\n",
    "    end_position = np.array([[1,0]]) \n",
    "    last_move = 3\n",
    "    for i in range(num_points):\n",
    "        current_position = end_position\n",
    "        moves = random.randint(1, max_moves)\n",
    "        for q in range(moves):\n",
    "            coin = random.randint(0,1)\n",
    "            if coin == 0: \n",
    "                current_position = current_position @ inverse_T\n",
    "                last_move = 0 \n",
    "                if q != (moves-1):\n",
    "                    current_position = current_position @ inverse_U\n",
    "                    last_move = 1\n",
    "            if coin == 1: \n",
    "                current_position = current_position @ inverse_U \n",
    "                last_move = 1\n",
    "        current_position = np.append(current_position, last_move)\n",
    "        data.append(current_position.tolist())\n",
    "    return data"
   ],
   "metadata": {
    "collapsed": false,
    "ExecuteTime": {
     "end_time": "2023-09-26T14:56:37.565304Z",
     "start_time": "2023-09-26T14:56:37.466864Z"
    }
   },
   "id": "ececc1e29c90cb5c"
  },
  {
   "cell_type": "markdown",
   "source": [
    "Turn to CSV using Pandas"
   ],
   "metadata": {
    "collapsed": false
   },
   "id": "704519aa252b7a7e"
  },
  {
   "cell_type": "code",
   "execution_count": 15,
   "outputs": [],
   "source": [
    "data_pd = pd.DataFrame(data_generator(20000))\n",
    "data_pd.to_csv(\"generated_pairs.csv\", index = False)"
   ],
   "metadata": {
    "collapsed": false,
    "ExecuteTime": {
     "end_time": "2023-09-26T14:56:38.779217Z",
     "start_time": "2023-09-26T14:56:37.705437Z"
    }
   },
   "id": "1599dfdfd30866bf"
  },
  {
   "cell_type": "markdown",
   "source": [
    "Turn CSV file to tensor"
   ],
   "metadata": {
    "collapsed": false
   },
   "id": "3f4571c88ff22805"
  },
  {
   "cell_type": "code",
   "execution_count": 16,
   "outputs": [],
   "source": [
    "data = pd.read_csv(\"generated_pairs.csv\", names=[\"0\",\"1\",\"2\"], delimiter=\",\")\n",
    "dataset = torch.utils.data.TensorDataset(\n",
    "    torch.tensor(data.loc[:, \"0\":\"1\"].values,dtype=torch.float32), # input \n",
    "    torch.tensor(data.loc[:, [\"2\"]].values, dtype = torch.float32) #output \n",
    ")\n",
    "X, Y = dataset[:] #label input and output "
   ],
   "metadata": {
    "collapsed": false,
    "ExecuteTime": {
     "end_time": "2023-09-26T14:56:38.795123Z",
     "start_time": "2023-09-26T14:56:38.784002Z"
    }
   },
   "id": "b79ea49781de68aa"
  },
  {
   "cell_type": "markdown",
   "source": [
    "Make the Model"
   ],
   "metadata": {
    "collapsed": false
   },
   "id": "6b6fe5d18b887b"
  },
  {
   "cell_type": "code",
   "execution_count": 17,
   "outputs": [
    {
     "name": "stdout",
     "output_type": "stream",
     "text": [
      "Layer: 0.weight, Data Type: torch.float32\n",
      "Layer: 0.bias, Data Type: torch.float32\n",
      "Layer: 2.weight, Data Type: torch.float32\n",
      "Layer: 2.bias, Data Type: torch.float32\n",
      "Layer: 4.weight, Data Type: torch.float32\n",
      "Layer: 4.bias, Data Type: torch.float32\n",
      "Layer: 6.weight, Data Type: torch.float32\n",
      "Layer: 6.bias, Data Type: torch.float32\n"
     ]
    }
   ],
   "source": [
    "#https://machinelearningmastery.com/develop-your-first-neural-network-with-pytorch-step-by-step \n",
    "model = nn.Sequential(\n",
    "    nn.Linear(2, 128), #first layer 128\n",
    "    nn.ReLU(),\n",
    "    nn.Linear(128,64), #second layer 64\n",
    "    nn.ReLU(),\n",
    "    nn.Linear(64, 16), #third layer 16\n",
    "    nn.ReLU(),\n",
    "    nn.Linear(16,1), #singular output \n",
    "    nn.Sigmoid()\n",
    ")\n",
    "\n",
    "for name, param in model.named_parameters():\n",
    "    print(f\"Layer: {name}, Data Type: {param.dtype}\")\n",
    "\n",
    "loss_function = nn.BCELoss() #should this be our loss function too? \n",
    "optimizer = optim.Adam(model.parameters(), lr = 0.02) #chose Adam and lr from site "
   ],
   "metadata": {
    "collapsed": false,
    "ExecuteTime": {
     "end_time": "2023-09-26T14:56:38.809406Z",
     "start_time": "2023-09-26T14:56:38.800406Z"
    }
   },
   "id": "9d9cbc81aeca6894"
  },
  {
   "cell_type": "markdown",
   "source": [
    "Training Model"
   ],
   "metadata": {
    "collapsed": false
   },
   "id": "b972b98a0f7a65a7"
  },
  {
   "cell_type": "code",
   "execution_count": 30,
   "outputs": [],
   "source": [
    "num_epochs = 200\n",
    "num_batches = 10 "
   ],
   "metadata": {
    "collapsed": false,
    "ExecuteTime": {
     "end_time": "2023-09-26T15:00:32.868176Z",
     "start_time": "2023-09-26T15:00:32.858070Z"
    }
   },
   "id": "d4551966105f346e"
  },
  {
   "cell_type": "code",
   "execution_count": 31,
   "outputs": [
    {
     "name": "stdout",
     "output_type": "stream",
     "text": [
      "Finished epoch 0, latest loss 0.0004999750012499339\n",
      "Finished epoch 1, latest loss 0.0004999750012499339\n",
      "Finished epoch 2, latest loss 0.0004999750012499339\n",
      "Finished epoch 3, latest loss 0.0004999750012499339\n",
      "Finished epoch 4, latest loss 0.0004999750012499339\n",
      "Finished epoch 5, latest loss 0.0004999750012499339\n",
      "Finished epoch 6, latest loss 0.0004999750012499339\n",
      "Finished epoch 7, latest loss 0.0004999750012499339\n",
      "Finished epoch 8, latest loss 0.0004999750012499339\n",
      "Finished epoch 9, latest loss 0.0004999750012499339\n",
      "Finished epoch 10, latest loss 0.0004999750012499339\n",
      "Finished epoch 11, latest loss 0.0004999750012499339\n",
      "Finished epoch 12, latest loss 0.0004999750012499339\n",
      "Finished epoch 13, latest loss 0.0004999750012499339\n",
      "Finished epoch 14, latest loss 0.0004999750012499339\n",
      "Finished epoch 15, latest loss 0.0004999750012499339\n",
      "Finished epoch 16, latest loss 0.0004999750012499339\n",
      "Finished epoch 17, latest loss 0.0004999750012499339\n",
      "Finished epoch 18, latest loss 0.0004999750012499339\n",
      "Finished epoch 19, latest loss 0.0004999750012499339\n",
      "Finished epoch 20, latest loss 0.0004999750012499339\n",
      "Finished epoch 21, latest loss 0.0004999750012499339\n",
      "Finished epoch 22, latest loss 0.0004999750012499339\n",
      "Finished epoch 23, latest loss 0.0004999750012499339\n",
      "Finished epoch 24, latest loss 0.0004999750012499339\n",
      "Finished epoch 25, latest loss 0.0004999750012499339\n",
      "Finished epoch 26, latest loss 0.0004999750012499339\n",
      "Finished epoch 27, latest loss 0.0004999750012499339\n",
      "Finished epoch 28, latest loss 0.0004999750012499339\n",
      "Finished epoch 29, latest loss 0.0004999750012499339\n",
      "Finished epoch 30, latest loss 0.0004999750012499339\n",
      "Finished epoch 31, latest loss 0.0004999750012499339\n",
      "Finished epoch 32, latest loss 0.0004999750012499339\n",
      "Finished epoch 33, latest loss 0.0004999750012499339\n",
      "Finished epoch 34, latest loss 0.0004999750012499339\n",
      "Finished epoch 35, latest loss 0.0004999750012499339\n",
      "Finished epoch 36, latest loss 0.0004999750012499339\n",
      "Finished epoch 37, latest loss 0.0004999750012499339\n",
      "Finished epoch 38, latest loss 0.0004999750012499339\n",
      "Finished epoch 39, latest loss 0.0004999750012499339\n",
      "Finished epoch 40, latest loss 0.0004999750012499339\n",
      "Finished epoch 41, latest loss 0.0004999750012499339\n",
      "Finished epoch 42, latest loss 0.0004999750012499339\n",
      "Finished epoch 43, latest loss 0.0004999750012499339\n",
      "Finished epoch 44, latest loss 0.0004999750012499339\n",
      "Finished epoch 45, latest loss 0.0004999750012499339\n",
      "Finished epoch 46, latest loss 0.0004999750012499339\n",
      "Finished epoch 47, latest loss 0.0004999750012499339\n",
      "Finished epoch 48, latest loss 0.0004999750012499339\n",
      "Finished epoch 49, latest loss 0.0004999750012499339\n",
      "Finished epoch 50, latest loss 0.0004999750012499339\n",
      "Finished epoch 51, latest loss 0.0004999750012499339\n",
      "Finished epoch 52, latest loss 0.0004999750012499339\n",
      "Finished epoch 53, latest loss 0.0004999750012499339\n",
      "Finished epoch 54, latest loss 0.0004999750012499339\n",
      "Finished epoch 55, latest loss 0.0004999750012499339\n",
      "Finished epoch 56, latest loss 0.0004999750012499339\n",
      "Finished epoch 57, latest loss 0.0004999750012499339\n",
      "Finished epoch 58, latest loss 0.0004999750012499339\n",
      "Finished epoch 59, latest loss 0.0004999750012499339\n",
      "Finished epoch 60, latest loss 0.0004999750012499339\n",
      "Finished epoch 61, latest loss 0.0004999750012499339\n",
      "Finished epoch 62, latest loss 0.0004999750012499339\n",
      "Finished epoch 63, latest loss 0.0004999750012499339\n",
      "Finished epoch 64, latest loss 0.0004999750012499339\n",
      "Finished epoch 65, latest loss 0.0004999750012499339\n",
      "Finished epoch 66, latest loss 0.0004999750012499339\n",
      "Finished epoch 67, latest loss 0.0004999750012499339\n",
      "Finished epoch 68, latest loss 0.0004999750012499339\n",
      "Finished epoch 69, latest loss 0.0004999750012499339\n",
      "Finished epoch 70, latest loss 0.0004999750012499339\n",
      "Finished epoch 71, latest loss 0.0004999750012499339\n",
      "Finished epoch 72, latest loss 0.0004999750012499339\n",
      "Finished epoch 73, latest loss 0.0004999750012499339\n",
      "Finished epoch 74, latest loss 0.0004999750012499339\n",
      "Finished epoch 75, latest loss 0.0004999750012499339\n",
      "Finished epoch 76, latest loss 0.0004999750012499339\n",
      "Finished epoch 77, latest loss 0.0004999750012499339\n",
      "Finished epoch 78, latest loss 0.0004999750012499339\n",
      "Finished epoch 79, latest loss 0.0004999750012499339\n",
      "Finished epoch 80, latest loss 0.0004999750012499339\n",
      "Finished epoch 81, latest loss 0.0004999750012499339\n",
      "Finished epoch 82, latest loss 0.0004999750012499339\n",
      "Finished epoch 83, latest loss 0.0004999750012499339\n",
      "Finished epoch 84, latest loss 0.0004999750012499339\n",
      "Finished epoch 85, latest loss 0.0004999750012499339\n",
      "Finished epoch 86, latest loss 0.0004999750012499339\n",
      "Finished epoch 87, latest loss 0.0004999750012499339\n",
      "Finished epoch 88, latest loss 0.0004999750012499339\n",
      "Finished epoch 89, latest loss 0.0004999750012499339\n",
      "Finished epoch 90, latest loss 0.0004999750012499339\n",
      "Finished epoch 91, latest loss 0.0004999750012499339\n",
      "Finished epoch 92, latest loss 0.0004999750012499339\n",
      "Finished epoch 93, latest loss 0.0004999750012499339\n",
      "Finished epoch 94, latest loss 0.0004999750012499339\n",
      "Finished epoch 95, latest loss 0.0004999750012499339\n",
      "Finished epoch 96, latest loss 0.0004999750012499339\n",
      "Finished epoch 97, latest loss 0.0004999750012499339\n",
      "Finished epoch 98, latest loss 0.0004999750012499339\n",
      "Finished epoch 99, latest loss 0.0004999750012499339\n",
      "Finished epoch 100, latest loss 0.0004999750012499339\n",
      "Finished epoch 101, latest loss 0.0004999750012499339\n",
      "Finished epoch 102, latest loss 0.0004999750012499339\n",
      "Finished epoch 103, latest loss 0.0004999750012499339\n",
      "Finished epoch 104, latest loss 0.0004999750012499339\n",
      "Finished epoch 105, latest loss 0.0004999750012499339\n",
      "Finished epoch 106, latest loss 0.0004999750012499339\n",
      "Finished epoch 107, latest loss 0.0004999750012499339\n",
      "Finished epoch 108, latest loss 0.0004999750012499339\n",
      "Finished epoch 109, latest loss 0.0004999750012499339\n",
      "Finished epoch 110, latest loss 0.0004999750012499339\n",
      "Finished epoch 111, latest loss 0.0004999750012499339\n",
      "Finished epoch 112, latest loss 0.0004999750012499339\n",
      "Finished epoch 113, latest loss 0.0004999750012499339\n",
      "Finished epoch 114, latest loss 0.0004999750012499339\n",
      "Finished epoch 115, latest loss 0.0004999750012499339\n",
      "Finished epoch 116, latest loss 0.0004999750012499339\n",
      "Finished epoch 117, latest loss 0.0004999750012499339\n",
      "Finished epoch 118, latest loss 0.0004999750012499339\n",
      "Finished epoch 119, latest loss 0.0004999750012499339\n",
      "Finished epoch 120, latest loss 0.0004999750012499339\n",
      "Finished epoch 121, latest loss 0.0004999750012499339\n",
      "Finished epoch 122, latest loss 0.0004999750012499339\n",
      "Finished epoch 123, latest loss 0.0004999750012499339\n",
      "Finished epoch 124, latest loss 0.0004999750012499339\n",
      "Finished epoch 125, latest loss 0.0004999750012499339\n",
      "Finished epoch 126, latest loss 0.0004999750012499339\n",
      "Finished epoch 127, latest loss 0.0004999750012499339\n",
      "Finished epoch 128, latest loss 0.0004999750012499339\n",
      "Finished epoch 129, latest loss 0.0004999750012499339\n",
      "Finished epoch 130, latest loss 0.0004999750012499339\n",
      "Finished epoch 131, latest loss 0.0004999750012499339\n",
      "Finished epoch 132, latest loss 0.0004999750012499339\n",
      "Finished epoch 133, latest loss 0.0004999750012499339\n",
      "Finished epoch 134, latest loss 0.0004999750012499339\n",
      "Finished epoch 135, latest loss 0.0004999750012499339\n",
      "Finished epoch 136, latest loss 0.0004999750012499339\n",
      "Finished epoch 137, latest loss 0.0004999750012499339\n",
      "Finished epoch 138, latest loss 0.0004999750012499339\n",
      "Finished epoch 139, latest loss 0.0004999750012499339\n",
      "Finished epoch 140, latest loss 0.0004999750012499339\n",
      "Finished epoch 141, latest loss 0.0004999750012499339\n",
      "Finished epoch 142, latest loss 0.0004999750012499339\n",
      "Finished epoch 143, latest loss 0.0004999750012499339\n",
      "Finished epoch 144, latest loss 0.0004999750012499339\n",
      "Finished epoch 145, latest loss 0.0004999750012499339\n",
      "Finished epoch 146, latest loss 0.0004999750012499339\n",
      "Finished epoch 147, latest loss 0.0004999750012499339\n",
      "Finished epoch 148, latest loss 0.0004999750012499339\n",
      "Finished epoch 149, latest loss 0.0004999750012499339\n",
      "Finished epoch 150, latest loss 0.0004999750012499339\n",
      "Finished epoch 151, latest loss 0.0004999750012499339\n",
      "Finished epoch 152, latest loss 0.0004999750012499339\n",
      "Finished epoch 153, latest loss 0.0004999750012499339\n",
      "Finished epoch 154, latest loss 0.0004999750012499339\n",
      "Finished epoch 155, latest loss 0.0004999750012499339\n",
      "Finished epoch 156, latest loss 0.0004999750012499339\n",
      "Finished epoch 157, latest loss 0.0004999750012499339\n",
      "Finished epoch 158, latest loss 0.0004999750012499339\n",
      "Finished epoch 159, latest loss 0.0004999750012499339\n",
      "Finished epoch 160, latest loss 0.0004999750012499339\n",
      "Finished epoch 161, latest loss 0.0004999750012499339\n",
      "Finished epoch 162, latest loss 0.0004999750012499339\n",
      "Finished epoch 163, latest loss 0.0004999750012499339\n",
      "Finished epoch 164, latest loss 0.0004999750012499339\n",
      "Finished epoch 165, latest loss 0.0004999750012499339\n",
      "Finished epoch 166, latest loss 0.0004999750012499339\n",
      "Finished epoch 167, latest loss 0.0004999750012499339\n",
      "Finished epoch 168, latest loss 0.0004999750012499339\n",
      "Finished epoch 169, latest loss 0.0004999750012499339\n",
      "Finished epoch 170, latest loss 0.0004999750012499339\n",
      "Finished epoch 171, latest loss 0.0004999750012499339\n",
      "Finished epoch 172, latest loss 0.0004999750012499339\n",
      "Finished epoch 173, latest loss 0.0004999750012499339\n",
      "Finished epoch 174, latest loss 0.0004999750012499339\n",
      "Finished epoch 175, latest loss 0.0004999750012499339\n",
      "Finished epoch 176, latest loss 0.0004999750012499339\n",
      "Finished epoch 177, latest loss 0.0004999750012499339\n",
      "Finished epoch 178, latest loss 0.0004999750012499339\n",
      "Finished epoch 179, latest loss 0.0004999750012499339\n",
      "Finished epoch 180, latest loss 0.0004999750012499339\n",
      "Finished epoch 181, latest loss 0.0004999750012499339\n",
      "Finished epoch 182, latest loss 0.0004999750012499339\n",
      "Finished epoch 183, latest loss 0.0004999750012499339\n",
      "Finished epoch 184, latest loss 0.0004999750012499339\n",
      "Finished epoch 185, latest loss 0.0004999750012499339\n",
      "Finished epoch 186, latest loss 0.0004999750012499339\n",
      "Finished epoch 187, latest loss 0.0004999750012499339\n",
      "Finished epoch 188, latest loss 0.0004999750012499339\n",
      "Finished epoch 189, latest loss 0.0004999750012499339\n",
      "Finished epoch 190, latest loss 0.0004999750012499339\n",
      "Finished epoch 191, latest loss 0.0004999750012499339\n",
      "Finished epoch 192, latest loss 0.0004999750012499339\n",
      "Finished epoch 193, latest loss 0.0004999750012499339\n",
      "Finished epoch 194, latest loss 0.0004999750012499339\n",
      "Finished epoch 195, latest loss 0.0004999750012499339\n",
      "Finished epoch 196, latest loss 0.0004999750012499339\n",
      "Finished epoch 197, latest loss 0.0004999750012499339\n",
      "Finished epoch 198, latest loss 0.0004999750012499339\n",
      "Finished epoch 199, latest loss 0.0004999750012499339\n"
     ]
    }
   ],
   "source": [
    "for epoch in range(num_epochs):\n",
    "    total_loss = 0.0\n",
    "    for i in range(num_batches):\n",
    "        optimizer.zero_grad()\n",
    "        X_batch = X[i:i+num_batches]\n",
    "        # print(X_batch)\n",
    "        y_pred = model(torch.Tensor(X_batch))\n",
    "        Y_batch = Y[i:i+num_batches]\n",
    "        # print(Y_batch)\n",
    "        loss = loss_function(y_pred, torch.Tensor(Y_batch))\n",
    "        \n",
    "        loss.backward()\n",
    "        optimizer.step()\n",
    "        total_loss += loss.item()\n",
    "        \n",
    "    print(f'Finished epoch {epoch}, latest loss {-total_loss / len(data)}')"
   ],
   "metadata": {
    "collapsed": false,
    "ExecuteTime": {
     "end_time": "2023-09-26T15:00:35.317636Z",
     "start_time": "2023-09-26T15:00:33.351656Z"
    }
   },
   "id": "662530c2c251ea82"
  },
  {
   "cell_type": "code",
   "execution_count": 48,
   "outputs": [],
   "source": [
    "def euclidean_algorithm(pair): \n",
    "    a = pair[0]\n",
    "    b = pair[1]\n",
    "    plt.plot(a.detach(), b.detach(), \"bo\", markersize = 3)\n",
    "    index = 1\n",
    "    old_matrix = matrix_U\n",
    "\n",
    "    \n",
    "    while index < 500: \n",
    "        \n",
    "        index += 1\n",
    "        if a==0 or b==0: \n",
    "            return\n",
    "        pred = model(torch.tensor([[a,b]]))\n",
    "        if abs(1-pred) < abs(pred): # if prediciton is closer to 1 \n",
    "            pair = pair @ matrix_U\n",
    "            old_matrix = matrix_U\n",
    "        else: \n",
    "            # if we ever hit 'pair' with matrix_T twice, then we've hit a loop, so break\n",
    "            if bool(np.ndarray.all(old_matrix == matrix_T)):\n",
    "                return\n",
    "            pair = pair @ matrix_T\n",
    "            old_matrix = matrix_T\n",
    "        print(pair)\n",
    "        a = float(pair[0])\n",
    "        b = float(pair[1])\n",
    "        plt.plot(a, b, \"ro\", markersize = 3+(index*.01)) #from cs544 notes "
   ],
   "metadata": {
    "collapsed": false,
    "ExecuteTime": {
     "end_time": "2023-09-26T15:07:48.373502Z",
     "start_time": "2023-09-26T15:07:48.365906Z"
    }
   },
   "id": "eb06504b5439d46d"
  },
  {
   "cell_type": "code",
   "execution_count": 49,
   "outputs": [
    {
     "name": "stdout",
     "output_type": "stream",
     "text": [
      "tensor([10353., 57970.], dtype=torch.float64)\n",
      "tensor([10353., 47617.], dtype=torch.float64)\n",
      "tensor([10353., 37264.], dtype=torch.float64)\n",
      "tensor([10353., 26911.], dtype=torch.float64)\n",
      "tensor([10353., 16558.], dtype=torch.float64)\n",
      "tensor([10353.,  6205.], dtype=torch.float64)\n",
      "tensor([ 6205., 10353.], dtype=torch.float64)\n",
      "tensor([6205., 4148.], dtype=torch.float64)\n",
      "tensor([4148., 6205.], dtype=torch.float64)\n",
      "tensor([4148., 2057.], dtype=torch.float64)\n",
      "tensor([2057., 4148.], dtype=torch.float64)\n",
      "tensor([2057., 2091.], dtype=torch.float64)\n",
      "tensor([2057.,   34.], dtype=torch.float64)\n",
      "tensor([  34., 2057.], dtype=torch.float64)\n",
      "tensor([  34., 2023.], dtype=torch.float64)\n",
      "tensor([  34., 1989.], dtype=torch.float64)\n",
      "tensor([  34., 1955.], dtype=torch.float64)\n",
      "tensor([  34., 1921.], dtype=torch.float64)\n",
      "tensor([  34., 1887.], dtype=torch.float64)\n",
      "tensor([  34., 1853.], dtype=torch.float64)\n",
      "tensor([  34., 1819.], dtype=torch.float64)\n",
      "tensor([  34., 1785.], dtype=torch.float64)\n",
      "tensor([  34., 1751.], dtype=torch.float64)\n",
      "tensor([  34., 1717.], dtype=torch.float64)\n",
      "tensor([  34., 1683.], dtype=torch.float64)\n",
      "tensor([  34., 1649.], dtype=torch.float64)\n",
      "tensor([  34., 1615.], dtype=torch.float64)\n",
      "tensor([  34., 1581.], dtype=torch.float64)\n",
      "tensor([  34., 1547.], dtype=torch.float64)\n",
      "tensor([  34., 1513.], dtype=torch.float64)\n",
      "tensor([  34., 1479.], dtype=torch.float64)\n",
      "tensor([  34., 1445.], dtype=torch.float64)\n",
      "tensor([  34., 1411.], dtype=torch.float64)\n",
      "tensor([  34., 1377.], dtype=torch.float64)\n",
      "tensor([  34., 1343.], dtype=torch.float64)\n",
      "tensor([  34., 1309.], dtype=torch.float64)\n",
      "tensor([  34., 1275.], dtype=torch.float64)\n",
      "tensor([  34., 1241.], dtype=torch.float64)\n",
      "tensor([  34., 1207.], dtype=torch.float64)\n",
      "tensor([  34., 1173.], dtype=torch.float64)\n",
      "tensor([  34., 1139.], dtype=torch.float64)\n",
      "tensor([  34., 1105.], dtype=torch.float64)\n",
      "tensor([  34., 1071.], dtype=torch.float64)\n",
      "tensor([  34., 1037.], dtype=torch.float64)\n",
      "tensor([  34., 1003.], dtype=torch.float64)\n",
      "tensor([ 34., 969.], dtype=torch.float64)\n",
      "tensor([ 34., 935.], dtype=torch.float64)\n",
      "tensor([ 34., 901.], dtype=torch.float64)\n",
      "tensor([ 34., 867.], dtype=torch.float64)\n",
      "tensor([ 34., 833.], dtype=torch.float64)\n",
      "tensor([ 34., 799.], dtype=torch.float64)\n",
      "tensor([ 34., 765.], dtype=torch.float64)\n",
      "tensor([ 34., 731.], dtype=torch.float64)\n",
      "tensor([ 34., 697.], dtype=torch.float64)\n",
      "tensor([ 34., 663.], dtype=torch.float64)\n",
      "tensor([ 34., 629.], dtype=torch.float64)\n",
      "tensor([ 34., 595.], dtype=torch.float64)\n",
      "tensor([ 34., 561.], dtype=torch.float64)\n",
      "tensor([ 34., 527.], dtype=torch.float64)\n",
      "tensor([ 34., 493.], dtype=torch.float64)\n",
      "tensor([ 34., 459.], dtype=torch.float64)\n",
      "tensor([ 34., 425.], dtype=torch.float64)\n",
      "tensor([ 34., 391.], dtype=torch.float64)\n",
      "tensor([ 34., 357.], dtype=torch.float64)\n",
      "tensor([ 34., 323.], dtype=torch.float64)\n",
      "tensor([ 34., 289.], dtype=torch.float64)\n",
      "tensor([ 34., 255.], dtype=torch.float64)\n",
      "tensor([ 34., 221.], dtype=torch.float64)\n",
      "tensor([ 34., 187.], dtype=torch.float64)\n",
      "tensor([ 34., 153.], dtype=torch.float64)\n",
      "tensor([ 34., 119.], dtype=torch.float64)\n",
      "tensor([34., 85.], dtype=torch.float64)\n",
      "tensor([34., 51.], dtype=torch.float64)\n",
      "tensor([34., 17.], dtype=torch.float64)\n",
      "tensor([17., 34.], dtype=torch.float64)\n",
      "tensor([17., 17.], dtype=torch.float64)\n",
      "tensor([17.,  0.], dtype=torch.float64)\n",
      "None\n"
     ]
    },
    {
     "data": {
      "text/plain": "<Figure size 640x480 with 1 Axes>",
      "image/png": "[encoded data removed]"
     },
     "metadata": {},
     "output_type": "display_data"
    }
   ],
   "source": [
    "pair = torch.tensor([57970, 10353], dtype=torch.float32)\n",
    "print(euclidean_algorithm(pair))"
   ],
   "metadata": {
    "collapsed": false,
    "ExecuteTime": {
     "end_time": "2023-09-26T15:07:49.173241Z",
     "start_time": "2023-09-26T15:07:48.904823Z"
    }
   },
   "id": "ac95a1a036d81543"
  },
  {
   "cell_type": "code",
   "execution_count": 59,
   "outputs": [
    {
     "name": "stdout",
     "output_type": "stream",
     "text": [
      "tensor([3., 4.], dtype=torch.float64)\n",
      "tensor([3., 1.], dtype=torch.float64)\n",
      "tensor([1., 3.], dtype=torch.float64)\n",
      "tensor([1., 2.], dtype=torch.float64)\n",
      "tensor([1., 1.], dtype=torch.float64)\n",
      "tensor([1., 0.], dtype=torch.float64)\n",
      "None\n"
     ]
    },
    {
     "data": {
      "text/plain": "<Figure size 640x480 with 1 Axes>",
      "image/png": "[encoded data removed]"
     },
     "metadata": {},
     "output_type": "display_data"
    }
   ],
   "source": [
    "pair = torch.tensor([3, 7], dtype=torch.float32)\n",
    "print(euclidean_algorithm(pair))"
   ],
   "metadata": {
    "collapsed": false,
    "ExecuteTime": {
     "end_time": "2023-09-26T17:26:41.727079Z",
     "start_time": "2023-09-26T17:26:41.417678Z"
    }
   },
   "id": "8606823b77f02140"
  },
  {
   "cell_type": "code",
   "execution_count": null,
   "outputs": [],
   "source": [],
   "metadata": {
    "collapsed": false
   },
   "id": "7dcbc43739df7376"
  }
 ],
 "metadata": {
  "kernelspec": {
   "display_name": "Python 3",
   "language": "python",
   "name": "python3"
  },
  "language_info": {
   "codemirror_mode": {
    "name": "ipython",
    "version": 2
   },
   "file_extension": ".py",
   "mimetype": "text/x-python",
   "name": "python",
   "nbconvert_exporter": "python",
   "pygments_lexer": "ipython2",
   "version": "2.7.6"
  }
 },
 "nbformat": 4,
 "nbformat_minor": 5
}
