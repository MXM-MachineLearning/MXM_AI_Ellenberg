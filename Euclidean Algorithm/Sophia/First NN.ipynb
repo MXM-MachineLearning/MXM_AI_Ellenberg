{
 "cells": [
  {
   "cell_type": "code",
   "execution_count": 1,
   "id": "initial_id",
   "metadata": {
    "collapsed": true,
    "ExecuteTime": {
     "end_time": "2023-09-20T01:15:57.677913Z",
     "start_time": "2023-09-20T01:15:47.366238Z"
    }
   },
   "outputs": [],
   "source": [
    "import numpy\n",
    "import numpy as np\n",
    "import pandas as pd\n",
    "import torch\n",
    "import torch.nn as nn \n",
    "import torch.optim as optim\n",
    "import random\n",
    "import pandas"
   ]
  },
  {
   "cell_type": "code",
   "execution_count": 105,
   "outputs": [],
   "source": [
    "#data_generator\n",
    "matrix_T = torch.tensor([[0, 1], [1, 0]], dtype=torch.float64)\n",
    "matrix_U = torch.tensor([[1, -1], [0, 1]], dtype=torch.float64)\n",
    "\n",
    "inverse_T = torch.inverse(matrix_T)\n",
    "inverse_U = torch.inverse(matrix_U)\n",
    "\n",
    "max_moves = 30  #how many inverse operations on the final destination\n",
    "goal_position = torch.tensor([[1], [0]], dtype=torch.float64)\n",
    "\n",
    "\n",
    "def data_generator(num_of_datapoints):\n",
    "    data = torch.empty((num_of_datapoints, 3), dtype=torch.float64)\n",
    "    for i in range(num_of_datapoints):\n",
    "        start = goal_position\n",
    "        moves = random.randint(1, max_moves)\n",
    "        coin = 3\n",
    "        for q in range(moves):\n",
    "            coin = random.randint(0, 1)\n",
    "            if coin == 1:\n",
    "                #  print(start, inverse_U, \"=\")\n",
    "                start = torch.matmul(inverse_U, start)\n",
    "            #  print(start)\n",
    "            else:\n",
    "                #  print(start, inverse_T, \"=\")\n",
    "                start = torch.matmul(inverse_T, start)\n",
    "                if q != moves - 1:\n",
    "                    start = torch.matmul(inverse_U, start)\n",
    "            # print(start)\n",
    "        # print(\"done\")\n",
    "        data[i, 0] = start[0]\n",
    "        data[i, 1] = start[1]\n",
    "        data[i, 2] = coin\n",
    "    return data\n",
    "\n",
    "#https://stackoverflow.com/questions/36158058/torch-save-tensor-to-csv-file#:~:text=For%20simple%20tables%2C%20you%20can,then%20to%20a%20Pandas%20dataframe.&text=You%20can%20first%20convert%20the,table%20as%20a%20csv%20file.\n",
    "data = data_generator(20000)\n",
    "data_table = data.numpy()\n",
    "df = pandas.DataFrame(data_table)\n",
    "df.to_csv(\"generated_pairs.csv\", index = False) \n"
   ],
   "metadata": {
    "collapsed": false,
    "ExecuteTime": {
     "end_time": "2023-09-20T17:59:30.611631Z",
     "start_time": "2023-09-20T17:59:28.781573Z"
    }
   },
   "id": "aa5747831462be81"
  },
  {
   "cell_type": "code",
   "execution_count": 116,
   "outputs": [],
   "source": [
    "#https://machinelearningmastery.com/develop-your-first-neural-network-with-pytorch-step-by-step/\n",
    "#https://stackoverflow.com/questions/12336234/read-csv-file-to-numpy-array-first-row-as-strings-rest-as-float\n",
    "#https://www.w3schools.com/python/numpy/numpy_array_join.asp#:~:text=Joining%20Arrays%20Using%20Stack%20Functions&text=We%20can%20concatenate%20two%201,it%20is%20taken%20as%200.\n",
    "\n",
    "#make tensors from csv file\n",
    "\n",
    "#from cs544 notes \n",
    "data = pd.read_csv(\"generated_pairs.csv\", names=[\"0\",\"1\",\"2\"], delimiter=\",\")\n",
    "dataset = torch.utils.data.TensorDataset(\n",
    "    torch.tensor(data.loc[:, \"0\":\"1\"].values), # input \n",
    "    torch.tensor(data.loc[:, [\"2\"]].values) #output \n",
    ")\n",
    "X, Y = dataset[:] #label input and output \n"
   ],
   "metadata": {
    "collapsed": false,
    "ExecuteTime": {
     "end_time": "2023-09-20T18:00:48.704288Z",
     "start_time": "2023-09-20T18:00:48.684589Z"
    }
   },
   "id": "8f208516537858f3"
  },
  {
   "cell_type": "code",
   "execution_count": 121,
   "outputs": [],
   "source": [
    "#https://machinelearningmastery.com/develop-your-first-neural-network-with-pytorch-step-by-step/\n",
    "#making the model \n",
    "model = nn.Sequential(\n",
    "    nn.Linear(2, 128), #first layer 128\n",
    "    nn.ReLU(),\n",
    "    nn.Linear(128,64), #second layer 64\n",
    "    nn.ReLU(),\n",
    "    nn.Linear(64, 16), #third layer 16\n",
    "    nn.ReLU(),\n",
    "    nn.Linear(16,1), #singular output \n",
    "    nn.Softmax(dim=1)\n",
    ")\n",
    "#print(model)"
   ],
   "metadata": {
    "collapsed": false,
    "ExecuteTime": {
     "end_time": "2023-09-20T18:01:17.605171Z",
     "start_time": "2023-09-20T18:01:17.594404Z"
    }
   },
   "id": "b677c06c3dfca538"
  },
  {
   "cell_type": "code",
   "execution_count": 122,
   "outputs": [],
   "source": [
    "#https://machinelearningmastery.com/develop-your-first-neural-network-with-pytorch-step-by-step/\n",
    "#prep for training \n",
    "loss_function = nn.BCELoss() #should this be our loss function too? \n",
    "optimizer = optim.Adam(model.parameters(), lr = 0.001) #chose Adam and lr from site \n",
    "\n",
    "#split training and testing data \n",
    "train, test = torch.utils.data.random_split(dataset, [0.75, 0.25]) #from cs544 class notes \n",
    "X_train, Y_train = train[:]\n",
    "X_train = torch.Tensor.numpy(X_train)\n",
    "Y_train = torch.Tensor.numpy(Y_train)\n"
   ],
   "metadata": {
    "collapsed": false,
    "ExecuteTime": {
     "end_time": "2023-09-20T18:01:18.280377Z",
     "start_time": "2023-09-20T18:01:18.272436Z"
    }
   },
   "id": "c1c3c4eff075ec70"
  },
  {
   "cell_type": "code",
   "execution_count": 123,
   "outputs": [],
   "source": [
    "batch_s = 100 #batch size \n",
    "epoch_s = int(20000*0.75) #epoch size \n",
    "dl = torch.utils.data.DataLoader(train, batch_size = batch_s, shuffle = True) #from cs544 notes \n",
    "dl_test = torch.utils.data.DataLoader(test, batch_size = batch_s, shuffle = False)"
   ],
   "metadata": {
    "collapsed": false,
    "ExecuteTime": {
     "end_time": "2023-09-20T18:01:18.659564Z",
     "start_time": "2023-09-20T18:01:18.650559Z"
    }
   },
   "id": "a6caa7a2eeb42a03"
  },
  {
   "cell_type": "code",
   "execution_count": 124,
   "outputs": [
    {
     "name": "stdout",
     "output_type": "stream",
     "text": [
      "Finished epoch 0, latest loss 0.0\n",
      "Finished epoch 1, latest loss 0.0\n",
      "Finished epoch 2, latest loss 0.0\n",
      "Finished epoch 3, latest loss 0.0\n",
      "Finished epoch 4, latest loss 0.0\n",
      "Finished epoch 5, latest loss 0.0\n",
      "Finished epoch 6, latest loss 0.0\n",
      "Finished epoch 7, latest loss 0.0\n",
      "Finished epoch 8, latest loss 0.0\n",
      "Finished epoch 9, latest loss 0.0\n",
      "Finished epoch 10, latest loss 0.0\n",
      "Finished epoch 11, latest loss 0.0\n",
      "Finished epoch 12, latest loss 0.0\n",
      "Finished epoch 13, latest loss 0.0\n",
      "Finished epoch 14, latest loss 0.0\n",
      "Finished epoch 15, latest loss 0.0\n",
      "Finished epoch 16, latest loss 0.0\n",
      "Finished epoch 17, latest loss 0.0\n",
      "Finished epoch 18, latest loss 0.0\n",
      "Finished epoch 19, latest loss 0.0\n",
      "Finished epoch 20, latest loss 0.0\n",
      "Finished epoch 21, latest loss 0.0\n",
      "Finished epoch 22, latest loss 0.0\n",
      "Finished epoch 23, latest loss 0.0\n",
      "Finished epoch 24, latest loss 0.0\n",
      "Finished epoch 25, latest loss 0.0\n",
      "Finished epoch 26, latest loss 0.0\n",
      "Finished epoch 27, latest loss 0.0\n",
      "Finished epoch 28, latest loss 0.0\n",
      "Finished epoch 29, latest loss 0.0\n",
      "Finished epoch 30, latest loss 0.0\n",
      "Finished epoch 31, latest loss 0.0\n",
      "Finished epoch 32, latest loss 0.0\n",
      "Finished epoch 33, latest loss 0.0\n"
     ]
    },
    {
     "ename": "KeyboardInterrupt",
     "evalue": "",
     "output_type": "error",
     "traceback": [
      "\u001B[0;31m---------------------------------------------------------------------------\u001B[0m",
      "\u001B[0;31mKeyboardInterrupt\u001B[0m                         Traceback (most recent call last)",
      "Cell \u001B[0;32mIn[124], line 7\u001B[0m\n\u001B[1;32m      5\u001B[0m y_pred \u001B[38;5;241m=\u001B[39m model(torch\u001B[38;5;241m.\u001B[39mTensor(X_batch))\n\u001B[1;32m      6\u001B[0m Y_batch \u001B[38;5;241m=\u001B[39m Y_train[i:i\u001B[38;5;241m+\u001B[39mbatch_s]\n\u001B[0;32m----> 7\u001B[0m loss \u001B[38;5;241m=\u001B[39m loss_function(y_pred, \u001B[43mtorch\u001B[49m\u001B[38;5;241;43m.\u001B[39;49m\u001B[43mTensor\u001B[49m\u001B[43m(\u001B[49m\u001B[43mY_batch\u001B[49m\u001B[43m)\u001B[49m)\n\u001B[1;32m      8\u001B[0m optimizer\u001B[38;5;241m.\u001B[39mzero_grad()\n\u001B[1;32m      9\u001B[0m loss\u001B[38;5;241m.\u001B[39mbackward()\n",
      "\u001B[0;31mKeyboardInterrupt\u001B[0m: "
     ]
    }
   ],
   "source": [
    "#https://machinelearningmastery.com/develop-your-first-neural-network-with-pytorch-step-by-step/\n",
    "for epoch in range(epoch_s):\n",
    "    for i in range(0, len(X_train), batch_s):\n",
    "        X_batch = X_train[i:i+batch_s]\n",
    "        y_pred = model(torch.Tensor(X_batch))\n",
    "        Y_batch = Y_train[i:i+batch_s]\n",
    "        loss = loss_function(y_pred, torch.Tensor(Y_batch))\n",
    "        optimizer.zero_grad()\n",
    "        loss.backward()\n",
    "        optimizer.step()\n",
    "        \n",
    "        \n",
    "    print(f'Finished epoch {epoch}, latest loss {loss}')"
   ],
   "metadata": {
    "collapsed": false,
    "ExecuteTime": {
     "end_time": "2023-09-20T18:01:24.823743Z",
     "start_time": "2023-09-20T18:01:19.118054Z"
    }
   },
   "id": "49db5277992e3403"
  },
  {
   "cell_type": "code",
   "execution_count": null,
   "outputs": [],
   "source": [],
   "metadata": {
    "collapsed": false
   },
   "id": "c734295ca63c2082"
  }
 ],
 "metadata": {
  "kernelspec": {
   "display_name": "Python 3",
   "language": "python",
   "name": "python3"
  },
  "language_info": {
   "codemirror_mode": {
    "name": "ipython",
    "version": 2
   },
   "file_extension": ".py",
   "mimetype": "text/x-python",
   "name": "python",
   "nbconvert_exporter": "python",
   "pygments_lexer": "ipython2",
   "version": "2.7.6"
  }
 },
 "nbformat": 4,
 "nbformat_minor": 5
}
