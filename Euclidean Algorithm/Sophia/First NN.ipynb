{
 "cells": [
  {
   "cell_type": "code",
   "execution_count": 140,
   "id": "initial_id",
   "metadata": {
    "collapsed": true,
    "ExecuteTime": {
     "end_time": "2023-09-21T01:01:54.023881Z",
     "start_time": "2023-09-21T01:01:53.987264Z"
    }
   },
   "outputs": [],
   "source": [
    "import numpy\n",
    "import numpy as np\n",
    "import pandas as pd\n",
    "import torch\n",
    "import torch.nn as nn \n",
    "import torch.optim as optim\n",
    "import random\n",
    "import pandas"
   ]
  },
  {
   "cell_type": "code",
   "execution_count": 141,
   "outputs": [],
   "source": [
    "#data_generator\n",
    "matrix_T = torch.tensor([[0, 1], [1, 0]], dtype=torch.float64)\n",
    "matrix_U = torch.tensor([[1, -1], [0, 1]], dtype=torch.float64)\n",
    "\n",
    "inverse_T = torch.inverse(matrix_T)\n",
    "inverse_U = torch.inverse(matrix_U)\n",
    "\n",
    "max_moves = 30  #how many inverse operations on the final destination\n",
    "goal_position = torch.tensor([[1], [0]], dtype=torch.float64)\n",
    "\n",
    "\n",
    "def data_generator(num_of_datapoints):\n",
    "    data = torch.empty((num_of_datapoints, 3), dtype=torch.float64)\n",
    "    for i in range(num_of_datapoints):\n",
    "        start = goal_position\n",
    "        moves = random.randint(1, max_moves)\n",
    "        coin = 3\n",
    "        for q in range(moves):\n",
    "            coin = random.randint(0, 1)\n",
    "            if coin == 1:\n",
    "                #  print(start, inverse_U, \"=\")\n",
    "                start = torch.matmul(inverse_U, start)\n",
    "            #  print(start)\n",
    "            else:\n",
    "                #  print(start, inverse_T, \"=\")\n",
    "                start = torch.matmul(inverse_T, start)\n",
    "                if q != moves - 1:\n",
    "                    start = torch.matmul(inverse_U, start)\n",
    "            # print(start)\n",
    "        # print(\"done\")\n",
    "        data[i, 0] = start[0]\n",
    "        data[i, 1] = start[1]\n",
    "        data[i, 2] = coin\n",
    "    return data\n",
    "\n",
    "#https://stackoverflow.com/questions/36158058/torch-save-tensor-to-csv-file#:~:text=For%20simple%20tables%2C%20you%20can,then%20to%20a%20Pandas%20dataframe.&text=You%20can%20first%20convert%20the,table%20as%20a%20csv%20file.\n",
    "data = data_generator(20000)\n",
    "data_table = data.numpy()\n",
    "df = pandas.DataFrame(data_table)\n",
    "df.to_csv(\"generated_pairs.csv\", index = False) \n"
   ],
   "metadata": {
    "collapsed": false,
    "ExecuteTime": {
     "end_time": "2023-09-21T01:01:55.802318Z",
     "start_time": "2023-09-21T01:01:54.000326Z"
    }
   },
   "id": "aa5747831462be81"
  },
  {
   "cell_type": "code",
   "execution_count": 142,
   "outputs": [],
   "source": [
    "#https://machinelearningmastery.com/develop-your-first-neural-network-with-pytorch-step-by-step/\n",
    "#https://stackoverflow.com/questions/12336234/read-csv-file-to-numpy-array-first-row-as-strings-rest-as-float\n",
    "#https://www.w3schools.com/python/numpy/numpy_array_join.asp#:~:text=Joining%20Arrays%20Using%20Stack%20Functions&text=We%20can%20concatenate%20two%201,it%20is%20taken%20as%200.\n",
    "\n",
    "#make tensors from csv file\n",
    "\n",
    "#from cs544 notes \n",
    "data = pd.read_csv(\"generated_pairs.csv\", names=[\"0\",\"1\",\"2\"], delimiter=\",\")\n",
    "dataset = torch.utils.data.TensorDataset(\n",
    "    torch.tensor(data.loc[:, \"0\":\"1\"].values), # input \n",
    "    torch.tensor(data.loc[:, [\"2\"]].values) #output \n",
    ")\n",
    "X, Y = dataset[:] #label input and output \n"
   ],
   "metadata": {
    "collapsed": false,
    "ExecuteTime": {
     "end_time": "2023-09-21T01:01:55.822324Z",
     "start_time": "2023-09-21T01:01:55.806504Z"
    }
   },
   "id": "8f208516537858f3"
  },
  {
   "cell_type": "code",
   "execution_count": 163,
   "outputs": [],
   "source": [
    "#https://machinelearningmastery.com/develop-your-first-neural-network-with-pytorch-step-by-step/\n",
    "#making the model \n",
    "model = nn.Sequential(\n",
    "    nn.Linear(2, 128), #first layer 128\n",
    "    nn.ReLU(),\n",
    "    nn.Linear(128,64), #second layer 64\n",
    "    nn.ReLU(),\n",
    "    nn.Linear(64, 16), #third layer 16\n",
    "    nn.ReLU(),\n",
    "    nn.Linear(16,1), #singular output \n",
    "    nn.Sigmoid()\n",
    ")"
   ],
   "metadata": {
    "collapsed": false,
    "ExecuteTime": {
     "end_time": "2023-09-21T02:08:29.222404Z",
     "start_time": "2023-09-21T02:08:29.173901Z"
    }
   },
   "id": "b677c06c3dfca538"
  },
  {
   "cell_type": "code",
   "execution_count": 165,
   "outputs": [
    {
     "ename": "ValueError",
     "evalue": "optimizer got an empty parameter list",
     "output_type": "error",
     "traceback": [
      "\u001B[0;31m---------------------------------------------------------------------------\u001B[0m",
      "\u001B[0;31mValueError\u001B[0m                                Traceback (most recent call last)",
      "Cell \u001B[0;32mIn[165], line 5\u001B[0m\n\u001B[1;32m      3\u001B[0m model \u001B[38;5;241m=\u001B[39m Model()\n\u001B[1;32m      4\u001B[0m loss_function \u001B[38;5;241m=\u001B[39m nn\u001B[38;5;241m.\u001B[39mBCELoss() \u001B[38;5;66;03m#should this be our loss function too? \u001B[39;00m\n\u001B[0;32m----> 5\u001B[0m optimizer \u001B[38;5;241m=\u001B[39m \u001B[43moptim\u001B[49m\u001B[38;5;241;43m.\u001B[39;49m\u001B[43mAdam\u001B[49m\u001B[43m(\u001B[49m\u001B[43mmodel\u001B[49m\u001B[38;5;241;43m.\u001B[39;49m\u001B[43mparameters\u001B[49m\u001B[43m(\u001B[49m\u001B[43m)\u001B[49m\u001B[43m,\u001B[49m\u001B[43m \u001B[49m\u001B[43mlr\u001B[49m\u001B[43m \u001B[49m\u001B[38;5;241;43m=\u001B[39;49m\u001B[43m \u001B[49m\u001B[38;5;241;43m0.001\u001B[39;49m\u001B[43m)\u001B[49m \u001B[38;5;66;03m#chose Adam and lr from site \u001B[39;00m\n\u001B[1;32m      7\u001B[0m \u001B[38;5;66;03m#split training and testing data \u001B[39;00m\n\u001B[1;32m      8\u001B[0m train, test \u001B[38;5;241m=\u001B[39m torch\u001B[38;5;241m.\u001B[39mutils\u001B[38;5;241m.\u001B[39mdata\u001B[38;5;241m.\u001B[39mrandom_split(dataset, [\u001B[38;5;241m0.75\u001B[39m, \u001B[38;5;241m0.25\u001B[39m]) \u001B[38;5;66;03m#from cs544 class notes \u001B[39;00m\n",
      "File \u001B[0;32m~/PycharmProjects/MXM_practice/venv/lib/python3.11/site-packages/torch/optim/adam.py:33\u001B[0m, in \u001B[0;36mAdam.__init__\u001B[0;34m(self, params, lr, betas, eps, weight_decay, amsgrad, foreach, maximize, capturable, differentiable, fused)\u001B[0m\n\u001B[1;32m     27\u001B[0m     \u001B[38;5;28;01mraise\u001B[39;00m \u001B[38;5;167;01mValueError\u001B[39;00m(\u001B[38;5;124m\"\u001B[39m\u001B[38;5;124mInvalid weight_decay value: \u001B[39m\u001B[38;5;132;01m{}\u001B[39;00m\u001B[38;5;124m\"\u001B[39m\u001B[38;5;241m.\u001B[39mformat(weight_decay))\n\u001B[1;32m     29\u001B[0m defaults \u001B[38;5;241m=\u001B[39m \u001B[38;5;28mdict\u001B[39m(lr\u001B[38;5;241m=\u001B[39mlr, betas\u001B[38;5;241m=\u001B[39mbetas, eps\u001B[38;5;241m=\u001B[39meps,\n\u001B[1;32m     30\u001B[0m                 weight_decay\u001B[38;5;241m=\u001B[39mweight_decay, amsgrad\u001B[38;5;241m=\u001B[39mamsgrad,\n\u001B[1;32m     31\u001B[0m                 maximize\u001B[38;5;241m=\u001B[39mmaximize, foreach\u001B[38;5;241m=\u001B[39mforeach, capturable\u001B[38;5;241m=\u001B[39mcapturable,\n\u001B[1;32m     32\u001B[0m                 differentiable\u001B[38;5;241m=\u001B[39mdifferentiable, fused\u001B[38;5;241m=\u001B[39mfused)\n\u001B[0;32m---> 33\u001B[0m \u001B[38;5;28;43msuper\u001B[39;49m\u001B[43m(\u001B[49m\u001B[43m)\u001B[49m\u001B[38;5;241;43m.\u001B[39;49m\u001B[38;5;21;43m__init__\u001B[39;49m\u001B[43m(\u001B[49m\u001B[43mparams\u001B[49m\u001B[43m,\u001B[49m\u001B[43m \u001B[49m\u001B[43mdefaults\u001B[49m\u001B[43m)\u001B[49m\n\u001B[1;32m     35\u001B[0m \u001B[38;5;28;01mif\u001B[39;00m fused:\n\u001B[1;32m     36\u001B[0m     \u001B[38;5;28;01mif\u001B[39;00m differentiable:\n",
      "File \u001B[0;32m~/PycharmProjects/MXM_practice/venv/lib/python3.11/site-packages/torch/optim/optimizer.py:187\u001B[0m, in \u001B[0;36mOptimizer.__init__\u001B[0;34m(self, params, defaults)\u001B[0m\n\u001B[1;32m    185\u001B[0m param_groups \u001B[38;5;241m=\u001B[39m \u001B[38;5;28mlist\u001B[39m(params)\n\u001B[1;32m    186\u001B[0m \u001B[38;5;28;01mif\u001B[39;00m \u001B[38;5;28mlen\u001B[39m(param_groups) \u001B[38;5;241m==\u001B[39m \u001B[38;5;241m0\u001B[39m:\n\u001B[0;32m--> 187\u001B[0m     \u001B[38;5;28;01mraise\u001B[39;00m \u001B[38;5;167;01mValueError\u001B[39;00m(\u001B[38;5;124m\"\u001B[39m\u001B[38;5;124moptimizer got an empty parameter list\u001B[39m\u001B[38;5;124m\"\u001B[39m)\n\u001B[1;32m    188\u001B[0m \u001B[38;5;28;01mif\u001B[39;00m \u001B[38;5;129;01mnot\u001B[39;00m \u001B[38;5;28misinstance\u001B[39m(param_groups[\u001B[38;5;241m0\u001B[39m], \u001B[38;5;28mdict\u001B[39m):\n\u001B[1;32m    189\u001B[0m     param_groups \u001B[38;5;241m=\u001B[39m [{\u001B[38;5;124m'\u001B[39m\u001B[38;5;124mparams\u001B[39m\u001B[38;5;124m'\u001B[39m: param_groups}]\n",
      "\u001B[0;31mValueError\u001B[0m: optimizer got an empty parameter list"
     ]
    }
   ],
   "source": [
    "#https://machinelearningmastery.com/develop-your-first-neural-network-with-pytorch-step-by-step/\n",
    "#prep for training \n",
    "loss_function = nn.BCELoss() #should this be our loss function too? \n",
    "optimizer = optim.Adam(model.parameters(), lr = 0.001) #chose Adam and lr from site \n",
    "\n",
    "#split training and testing data \n",
    "train, test = torch.utils.data.random_split(dataset, [0.75, 0.25]) #from cs544 class notes \n",
    "X_train, Y_train = train[:]\n",
    "X_train = torch.Tensor.numpy(X_train)\n",
    "Y_train = torch.Tensor.numpy(Y_train)\n"
   ],
   "metadata": {
    "collapsed": false,
    "ExecuteTime": {
     "end_time": "2023-09-21T02:09:05.456280Z",
     "start_time": "2023-09-21T02:09:05.408562Z"
    }
   },
   "id": "c1c3c4eff075ec70"
  },
  {
   "cell_type": "code",
   "execution_count": 166,
   "outputs": [],
   "source": [
    "batch_s = 1000 #batch size \n",
    "\n",
    "dl = torch.utils.data.DataLoader(train, batch_size = batch_s, shuffle = True) #from cs544 notes \n",
    "dl_test = torch.utils.data.DataLoader(test, batch_size = batch_s, shuffle = False)\n",
    "epoch_s = len(dl) #epoch size "
   ],
   "metadata": {
    "collapsed": false,
    "ExecuteTime": {
     "end_time": "2023-09-21T02:18:56.746366Z",
     "start_time": "2023-09-21T02:18:56.744919Z"
    }
   },
   "id": "a6caa7a2eeb42a03"
  },
  {
   "cell_type": "code",
   "execution_count": 168,
   "outputs": [
    {
     "ename": "NotImplementedError",
     "evalue": "Module [Model] is missing the required \"forward\" function",
     "output_type": "error",
     "traceback": [
      "\u001B[0;31m---------------------------------------------------------------------------\u001B[0m",
      "\u001B[0;31mNotImplementedError\u001B[0m                       Traceback (most recent call last)",
      "Cell \u001B[0;32mIn[168], line 6\u001B[0m\n\u001B[1;32m      4\u001B[0m optimizer\u001B[38;5;241m.\u001B[39mzero_grad()\n\u001B[1;32m      5\u001B[0m X_batch \u001B[38;5;241m=\u001B[39m X_train[i:i\u001B[38;5;241m+\u001B[39mbatch_s]\n\u001B[0;32m----> 6\u001B[0m y_pred \u001B[38;5;241m=\u001B[39m \u001B[43mmodel\u001B[49m\u001B[38;5;241;43m.\u001B[39;49m\u001B[43mforward\u001B[49m\u001B[43m(\u001B[49m\u001B[43mtorch\u001B[49m\u001B[38;5;241;43m.\u001B[39;49m\u001B[43mTensor\u001B[49m\u001B[43m(\u001B[49m\u001B[43mX_batch\u001B[49m\u001B[43m)\u001B[49m\u001B[43m)\u001B[49m\n\u001B[1;32m      7\u001B[0m Y_batch \u001B[38;5;241m=\u001B[39m Y_train[i:i\u001B[38;5;241m+\u001B[39mbatch_s]\n\u001B[1;32m      8\u001B[0m loss \u001B[38;5;241m=\u001B[39m loss_function(y_pred, torch\u001B[38;5;241m.\u001B[39mTensor(Y_batch))\n",
      "File \u001B[0;32m~/PycharmProjects/MXM_practice/venv/lib/python3.11/site-packages/torch/nn/modules/module.py:363\u001B[0m, in \u001B[0;36m_forward_unimplemented\u001B[0;34m(self, *input)\u001B[0m\n\u001B[1;32m    352\u001B[0m \u001B[38;5;28;01mdef\u001B[39;00m \u001B[38;5;21m_forward_unimplemented\u001B[39m(\u001B[38;5;28mself\u001B[39m, \u001B[38;5;241m*\u001B[39m\u001B[38;5;28minput\u001B[39m: Any) \u001B[38;5;241m-\u001B[39m\u001B[38;5;241m>\u001B[39m \u001B[38;5;28;01mNone\u001B[39;00m:\n\u001B[1;32m    353\u001B[0m \u001B[38;5;250m    \u001B[39m\u001B[38;5;124mr\u001B[39m\u001B[38;5;124;03m\"\"\"Defines the computation performed at every call.\u001B[39;00m\n\u001B[1;32m    354\u001B[0m \n\u001B[1;32m    355\u001B[0m \u001B[38;5;124;03m    Should be overridden by all subclasses.\u001B[39;00m\n\u001B[0;32m   (...)\u001B[0m\n\u001B[1;32m    361\u001B[0m \u001B[38;5;124;03m        registered hooks while the latter silently ignores them.\u001B[39;00m\n\u001B[1;32m    362\u001B[0m \u001B[38;5;124;03m    \"\"\"\u001B[39;00m\n\u001B[0;32m--> 363\u001B[0m     \u001B[38;5;28;01mraise\u001B[39;00m \u001B[38;5;167;01mNotImplementedError\u001B[39;00m(\u001B[38;5;124mf\u001B[39m\u001B[38;5;124m\"\u001B[39m\u001B[38;5;124mModule [\u001B[39m\u001B[38;5;132;01m{\u001B[39;00m\u001B[38;5;28mtype\u001B[39m(\u001B[38;5;28mself\u001B[39m)\u001B[38;5;241m.\u001B[39m\u001B[38;5;18m__name__\u001B[39m\u001B[38;5;132;01m}\u001B[39;00m\u001B[38;5;124m] is missing the required \u001B[39m\u001B[38;5;130;01m\\\"\u001B[39;00m\u001B[38;5;124mforward\u001B[39m\u001B[38;5;130;01m\\\"\u001B[39;00m\u001B[38;5;124m function\u001B[39m\u001B[38;5;124m\"\u001B[39m)\n",
      "\u001B[0;31mNotImplementedError\u001B[0m: Module [Model] is missing the required \"forward\" function"
     ]
    }
   ],
   "source": [
    "#https://machinelearningmastery.com/develop-your-first-neural-network-with-pytorch-step-by-step/\n",
    "for epoch in range(epoch_s):\n",
    "    for i in range(0, len(X_train), batch_s):\n",
    "        optimizer.zero_grad()\n",
    "        X_batch = X_train[i:i+batch_s]\n",
    "        y_pred = model(torch.Tensor(X_batch))\n",
    "        Y_batch = Y_train[i:i+batch_s]\n",
    "        loss = loss_function(y_pred, torch.Tensor(Y_batch))\n",
    "        \n",
    "        loss.backward() # computes gradient, and adds it to grad \n",
    "        optimizer.step()\n",
    "        \n",
    "    print(f'Finished epoch {epoch}, latest loss {loss.item()}')"
   ],
   "metadata": {
    "collapsed": false,
    "ExecuteTime": {
     "end_time": "2023-09-21T02:19:11.283530Z",
     "start_time": "2023-09-21T02:19:11.205418Z"
    }
   },
   "id": "49db5277992e3403"
  },
  {
   "cell_type": "code",
   "execution_count": 159,
   "outputs": [
    {
     "name": "stdout",
     "output_type": "stream",
     "text": [
      "tensor([1.5992e-14], grad_fn=<SigmoidBackward0>)\n"
     ]
    }
   ],
   "source": [
    "#make a singular prediction\n",
    "input_data = np.array([7,8])\n",
    "prediction = model.forward(torch.Tensor(input_data))\n",
    "print(prediction)"
   ],
   "metadata": {
    "collapsed": false,
    "ExecuteTime": {
     "end_time": "2023-09-21T02:03:50.987489Z",
     "start_time": "2023-09-21T02:03:50.939531Z"
    }
   },
   "id": "349a65b805fb93d9"
  },
  {
   "cell_type": "markdown",
   "source": [
    "Euclidean Algorithm: "
   ],
   "metadata": {
    "collapsed": false
   },
   "id": "c2206cdb4b7c38b1"
  },
  {
   "cell_type": "code",
   "execution_count": 169,
   "outputs": [],
   "source": [
    "def euclidean_algorithm(pair): \n",
    "    a = pair[0,0]\n",
    "    b = pair[0,1]\n",
    "    one_by_two = torch.tensor([a,b])\n",
    "    while a != 0 or b != 0: \n",
    "        pred = model(one_by_two)\n",
    "        if abs(1-pred) > abs(pred):\n",
    "            one_by_two = torch.matmul(one_by_two, matrix_U)\n",
    "        else: \n",
    "            one_by_two = torch.matmul(one_by_two, matrix_T)\n",
    "        a = one_by_two[0,0]\n",
    "        b = one_by_two[0,1]\n",
    "    if a == 0: \n",
    "        return b\n",
    "    else: \n",
    "        return a "
   ],
   "metadata": {
    "collapsed": false,
    "ExecuteTime": {
     "end_time": "2023-09-21T02:22:56.926126Z",
     "start_time": "2023-09-21T02:22:56.904540Z"
    }
   },
   "id": "f01d45af68dd5e4a"
  },
  {
   "cell_type": "code",
   "execution_count": 170,
   "outputs": [
    {
     "ename": "NotImplementedError",
     "evalue": "Module [Model] is missing the required \"forward\" function",
     "output_type": "error",
     "traceback": [
      "\u001B[0;31m---------------------------------------------------------------------------\u001B[0m",
      "\u001B[0;31mNotImplementedError\u001B[0m                       Traceback (most recent call last)",
      "Cell \u001B[0;32mIn[170], line 2\u001B[0m\n\u001B[1;32m      1\u001B[0m pair \u001B[38;5;241m=\u001B[39m torch\u001B[38;5;241m.\u001B[39mtensor([[\u001B[38;5;241m4\u001B[39m,\u001B[38;5;241m7\u001B[39m]])\n\u001B[0;32m----> 2\u001B[0m \u001B[38;5;28mprint\u001B[39m(\u001B[43meuclidean_algorithm\u001B[49m\u001B[43m(\u001B[49m\u001B[43mpair\u001B[49m\u001B[43m)\u001B[49m)\n",
      "Cell \u001B[0;32mIn[169], line 6\u001B[0m, in \u001B[0;36meuclidean_algorithm\u001B[0;34m(pair)\u001B[0m\n\u001B[1;32m      4\u001B[0m one_by_two \u001B[38;5;241m=\u001B[39m torch\u001B[38;5;241m.\u001B[39mtensor([a,b])\n\u001B[1;32m      5\u001B[0m \u001B[38;5;28;01mwhile\u001B[39;00m a \u001B[38;5;241m!=\u001B[39m \u001B[38;5;241m0\u001B[39m \u001B[38;5;129;01mor\u001B[39;00m b \u001B[38;5;241m!=\u001B[39m \u001B[38;5;241m0\u001B[39m: \n\u001B[0;32m----> 6\u001B[0m     pred \u001B[38;5;241m=\u001B[39m \u001B[43mmodel\u001B[49m\u001B[43m(\u001B[49m\u001B[43mone_by_two\u001B[49m\u001B[43m)\u001B[49m\n\u001B[1;32m      7\u001B[0m     \u001B[38;5;28;01mif\u001B[39;00m \u001B[38;5;28mabs\u001B[39m(\u001B[38;5;241m1\u001B[39m\u001B[38;5;241m-\u001B[39mpred) \u001B[38;5;241m>\u001B[39m \u001B[38;5;28mabs\u001B[39m(pred):\n\u001B[1;32m      8\u001B[0m         one_by_two \u001B[38;5;241m=\u001B[39m torch\u001B[38;5;241m.\u001B[39mmatmul(one_by_two, matrix_U)\n",
      "File \u001B[0;32m~/PycharmProjects/MXM_practice/venv/lib/python3.11/site-packages/torch/nn/modules/module.py:1501\u001B[0m, in \u001B[0;36mModule._call_impl\u001B[0;34m(self, *args, **kwargs)\u001B[0m\n\u001B[1;32m   1496\u001B[0m \u001B[38;5;66;03m# If we don't have any hooks, we want to skip the rest of the logic in\u001B[39;00m\n\u001B[1;32m   1497\u001B[0m \u001B[38;5;66;03m# this function, and just call forward.\u001B[39;00m\n\u001B[1;32m   1498\u001B[0m \u001B[38;5;28;01mif\u001B[39;00m \u001B[38;5;129;01mnot\u001B[39;00m (\u001B[38;5;28mself\u001B[39m\u001B[38;5;241m.\u001B[39m_backward_hooks \u001B[38;5;129;01mor\u001B[39;00m \u001B[38;5;28mself\u001B[39m\u001B[38;5;241m.\u001B[39m_backward_pre_hooks \u001B[38;5;129;01mor\u001B[39;00m \u001B[38;5;28mself\u001B[39m\u001B[38;5;241m.\u001B[39m_forward_hooks \u001B[38;5;129;01mor\u001B[39;00m \u001B[38;5;28mself\u001B[39m\u001B[38;5;241m.\u001B[39m_forward_pre_hooks\n\u001B[1;32m   1499\u001B[0m         \u001B[38;5;129;01mor\u001B[39;00m _global_backward_pre_hooks \u001B[38;5;129;01mor\u001B[39;00m _global_backward_hooks\n\u001B[1;32m   1500\u001B[0m         \u001B[38;5;129;01mor\u001B[39;00m _global_forward_hooks \u001B[38;5;129;01mor\u001B[39;00m _global_forward_pre_hooks):\n\u001B[0;32m-> 1501\u001B[0m     \u001B[38;5;28;01mreturn\u001B[39;00m \u001B[43mforward_call\u001B[49m\u001B[43m(\u001B[49m\u001B[38;5;241;43m*\u001B[39;49m\u001B[43margs\u001B[49m\u001B[43m,\u001B[49m\u001B[43m \u001B[49m\u001B[38;5;241;43m*\u001B[39;49m\u001B[38;5;241;43m*\u001B[39;49m\u001B[43mkwargs\u001B[49m\u001B[43m)\u001B[49m\n\u001B[1;32m   1502\u001B[0m \u001B[38;5;66;03m# Do not call functions when jit is used\u001B[39;00m\n\u001B[1;32m   1503\u001B[0m full_backward_hooks, non_full_backward_hooks \u001B[38;5;241m=\u001B[39m [], []\n",
      "File \u001B[0;32m~/PycharmProjects/MXM_practice/venv/lib/python3.11/site-packages/torch/nn/modules/module.py:363\u001B[0m, in \u001B[0;36m_forward_unimplemented\u001B[0;34m(self, *input)\u001B[0m\n\u001B[1;32m    352\u001B[0m \u001B[38;5;28;01mdef\u001B[39;00m \u001B[38;5;21m_forward_unimplemented\u001B[39m(\u001B[38;5;28mself\u001B[39m, \u001B[38;5;241m*\u001B[39m\u001B[38;5;28minput\u001B[39m: Any) \u001B[38;5;241m-\u001B[39m\u001B[38;5;241m>\u001B[39m \u001B[38;5;28;01mNone\u001B[39;00m:\n\u001B[1;32m    353\u001B[0m \u001B[38;5;250m    \u001B[39m\u001B[38;5;124mr\u001B[39m\u001B[38;5;124;03m\"\"\"Defines the computation performed at every call.\u001B[39;00m\n\u001B[1;32m    354\u001B[0m \n\u001B[1;32m    355\u001B[0m \u001B[38;5;124;03m    Should be overridden by all subclasses.\u001B[39;00m\n\u001B[0;32m   (...)\u001B[0m\n\u001B[1;32m    361\u001B[0m \u001B[38;5;124;03m        registered hooks while the latter silently ignores them.\u001B[39;00m\n\u001B[1;32m    362\u001B[0m \u001B[38;5;124;03m    \"\"\"\u001B[39;00m\n\u001B[0;32m--> 363\u001B[0m     \u001B[38;5;28;01mraise\u001B[39;00m \u001B[38;5;167;01mNotImplementedError\u001B[39;00m(\u001B[38;5;124mf\u001B[39m\u001B[38;5;124m\"\u001B[39m\u001B[38;5;124mModule [\u001B[39m\u001B[38;5;132;01m{\u001B[39;00m\u001B[38;5;28mtype\u001B[39m(\u001B[38;5;28mself\u001B[39m)\u001B[38;5;241m.\u001B[39m\u001B[38;5;18m__name__\u001B[39m\u001B[38;5;132;01m}\u001B[39;00m\u001B[38;5;124m] is missing the required \u001B[39m\u001B[38;5;130;01m\\\"\u001B[39;00m\u001B[38;5;124mforward\u001B[39m\u001B[38;5;130;01m\\\"\u001B[39;00m\u001B[38;5;124m function\u001B[39m\u001B[38;5;124m\"\u001B[39m)\n",
      "\u001B[0;31mNotImplementedError\u001B[0m: Module [Model] is missing the required \"forward\" function"
     ]
    }
   ],
   "source": [
    "pair = torch.tensor([[4,7]])\n",
    "print(euclidean_algorithm(pair))"
   ],
   "metadata": {
    "collapsed": false,
    "ExecuteTime": {
     "end_time": "2023-09-21T02:22:59.275101Z",
     "start_time": "2023-09-21T02:22:59.044823Z"
    }
   },
   "id": "3cbcd872ff461543"
  },
  {
   "cell_type": "code",
   "execution_count": null,
   "outputs": [],
   "source": [],
   "metadata": {
    "collapsed": false
   },
   "id": "a13a40e44f903399"
  }
 ],
 "metadata": {
  "kernelspec": {
   "display_name": "Python 3",
   "language": "python",
   "name": "python3"
  },
  "language_info": {
   "codemirror_mode": {
    "name": "ipython",
    "version": 2
   },
   "file_extension": ".py",
   "mimetype": "text/x-python",
   "name": "python",
   "nbconvert_exporter": "python",
   "pygments_lexer": "ipython2",
   "version": "2.7.6"
  }
 },
 "nbformat": 4,
 "nbformat_minor": 5
}
