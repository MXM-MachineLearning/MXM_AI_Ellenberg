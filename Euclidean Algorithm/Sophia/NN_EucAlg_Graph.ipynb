{
 "cells": [
  {
   "cell_type": "code",
   "execution_count": 3,
   "id": "initial_id",
   "metadata": {
    "ExecuteTime": {
     "end_time": "2023-09-21T03:18:51.688079Z",
     "start_time": "2023-09-21T03:18:46.209580Z"
    },
    "collapsed": true
   },
   "outputs": [],
   "source": [
    "import numpy\n",
    "import numpy as np\n",
    "import torch\n",
    "import torch.nn as nn \n",
    "import torch.optim as optim\n",
    "import random\n",
    "import pandas as pd\n",
    "import matplotlib.pyplot as plt\n",
    "import pandas"
   ]
  },
  {
   "cell_type": "code",
   "execution_count": 36,
   "id": "1346d52537c24612",
   "metadata": {
    "ExecuteTime": {
     "end_time": "2023-09-21T00:32:15.116402Z",
     "start_time": "2023-09-21T00:32:13.174966Z"
    },
    "collapsed": false
   },
   "outputs": [],
   "source": [
    "#data_generator\n",
    "matrix_T = torch.tensor([[0, 1], [1, 0]], dtype=torch.float64)\n",
    "matrix_U = torch.tensor([[1, 0], [-1, 1]], dtype=torch.float64)\n",
    "\n",
    "inverse_T = torch.inverse(matrix_T)\n",
    "inverse_U = torch.inverse(matrix_U)\n",
    "\n",
    "max_moves = 30  #how many inverse operations on the final destination\n",
    "goal_position = torch.tensor([[1], [0]], dtype=torch.float64)\n",
    "\n",
    "\n",
    "def data_generator(num_of_datapoints):\n",
    "    data = torch.empty((num_of_datapoints, 3), dtype=torch.float64)\n",
    "    for i in range(num_of_datapoints):\n",
    "        start = goal_position\n",
    "        moves = random.randint(1, max_moves)\n",
    "        coin = 3\n",
    "        for q in range(moves):\n",
    "            coin = random.randint(0, 1)\n",
    "            if coin == 1:\n",
    "                #  print(start, inverse_U, \"=\")\n",
    "                start = torch.matmul(inverse_U, start)\n",
    "            #  print(start)\n",
    "            else:\n",
    "                #  print(start, inverse_T, \"=\")\n",
    "                start = torch.matmul(inverse_T, start)\n",
    "                if q != moves - 1:\n",
    "                    start = torch.matmul(inverse_U, start)\n",
    "            # print(start)\n",
    "        # print(\"done\")\n",
    "        data[i, 0] = start[0]\n",
    "        data[i, 1] = start[1]\n",
    "        data[i, 2] = coin\n",
    "    return data\n",
    "\n",
    "#https://stackoverflow.com/questions/36158058/torch-save-tensor-to-csv-file#:~:text=For%20simple%20tables%2C%20you%20can,then%20to%20a%20Pandas%20dataframe.&text=You%20can%20first%20convert%20the,table%20as%20a%20csv%20file.\n",
    "data = data_generator(20000)\n",
    "data_table = data.numpy()\n",
    "df = pandas.DataFrame(data_table)\n",
    "df.to_csv(\"generated_pairs.csv\", index = False) \n"
   ]
  },
  {
   "cell_type": "code",
   "execution_count": 6,
   "id": "d43704376b86b083",
   "metadata": {
    "ExecuteTime": {
     "end_time": "2023-09-21T00:32:15.132637Z",
     "start_time": "2023-09-21T00:32:15.121969Z"
    },
    "collapsed": false
   },
   "outputs": [],
   "source": [
    "#https://machinelearningmastery.com/develop-your-first-neural-network-with-pytorch-step-by-step/\n",
    "#https://stackoverflow.com/questions/12336234/read-csv-file-to-numpy-array-first-row-as-strings-rest-as-float\n",
    "#https://www.w3schools.com/python/numpy/numpy_array_join.asp#:~:text=Joining%20Arrays%20Using%20Stack%20Functions&text=We%20can%20concatenate%20two%201,it%20is%20taken%20as%200.\n",
    "\n",
    "#make tensors from csv file\n",
    "\n",
    "#from cs544 notes \n",
    "data = pd.read_csv(\"generated_pairs.csv\", names=[\"0\",\"1\",\"2\"], delimiter=\",\")\n",
    "dataset = torch.utils.data.TensorDataset(\n",
    "    torch.tensor(data.loc[:, \"0\":\"1\"].values), # input \n",
    "    torch.tensor(data.loc[:, [\"2\"]].values) #output \n",
    ")\n",
    "X, Y = dataset[:] #label input and output \n"
   ]
  },
  {
   "cell_type": "code",
   "execution_count": 7,
   "id": "440f35f13e70e8dd",
   "metadata": {
    "ExecuteTime": {
     "end_time": "2023-09-21T02:28:08.545803Z",
     "start_time": "2023-09-21T02:28:08.506385Z"
    },
    "collapsed": false
   },
   "outputs": [],
   "source": [
    "#https://machinelearningmastery.com/develop-your-first-neural-network-with-pytorch-step-by-step/\n",
    "#making the model \n",
    "model = nn.Sequential(\n",
    "    nn.Linear(2, 128), #first layer 128\n",
    "    nn.ReLU(),\n",
    "    nn.Linear(128,64), #second layer 64\n",
    "    nn.ReLU(),\n",
    "    nn.Linear(64, 16), #third layer 16\n",
    "    nn.ReLU(),\n",
    "    nn.Linear(16,1), #singular output \n",
    "    nn.Sigmoid()\n",
    ")\n",
    "#print(model)"
   ]
  },
  {
   "cell_type": "code",
   "execution_count": 8,
   "id": "498991db8aae3dd7",
   "metadata": {
    "ExecuteTime": {
     "end_time": "2023-09-21T02:28:09.273604Z",
     "start_time": "2023-09-21T02:28:09.197031Z"
    },
    "collapsed": false
   },
   "outputs": [],
   "source": [
    "#https://machinelearningmastery.com/develop-your-first-neural-network-with-pytorch-step-by-step/\n",
    "#prep for training \n",
    "#https://machinelearningmastery.com/develop-your-first-neural-network-with-pytorch-step-by-step/\n",
    "#prep for training \n",
    "loss_function = nn.BCELoss() #should this be our loss function too? \n",
    "optimizer = optim.Adam(model.parameters(), lr = 0.001) #chose Adam and lr from site \n",
    "\n",
    "#split training and testing data \n",
    "train, test = torch.utils.data.random_split(dataset, [0.75, 0.25]) #from cs544 class notes \n",
    "X_train, Y_train = train[:]\n",
    "X_train = torch.Tensor.numpy(X_train)\n",
    "Y_train = torch.Tensor.numpy(Y_train)\n"
   ]
  },
  {
   "cell_type": "code",
   "execution_count": null,
   "id": "15b336371d8bc763",
   "metadata": {
    "ExecuteTime": {
     "end_time": "2023-09-21T00:32:15.163316Z",
     "start_time": "2023-09-21T00:32:15.157361Z"
    },
    "collapsed": false
   },
   "outputs": [],
   "source": []
  },
  {
   "cell_type": "code",
   "execution_count": 9,
   "id": "aa6b1da1a02ead25",
   "metadata": {
    "ExecuteTime": {
     "end_time": "2023-09-21T02:45:23.827846Z",
     "start_time": "2023-09-21T02:45:23.819149Z"
    },
    "collapsed": false
   },
   "outputs": [],
   "source": [
    "batch_s = 100 #batch size \n",
    "epoch_s = int(20000*0.75) #epoch size \n",
    "dl = torch.utils.data.DataLoader(train, batch_size = batch_s, shuffle = True) #from cs544 notes \n",
    "dl_test = torch.utils.data.DataLoader(test, batch_size = batch_s, shuffle = False)"
   ]
  },
  {
   "cell_type": "code",
   "execution_count": 48,
   "id": "f38a7082",
   "metadata": {},
   "outputs": [
    {
     "name": "stdout",
     "output_type": "stream",
     "text": [
      "tensor([[1., 0.],\n",
      "        [1., 1.]])\n"
     ]
    }
   ],
   "source": [
    "# we can use a smaller number of epochs without changing results\n",
    "epoch_s = 200\n",
    "\n",
    "# I have no idea why but we need to change dtype to float32\n",
    "matrix_T = torch.tensor([[0, 1], [1, 0]], dtype=torch.float32)\n",
    "matrix_U = torch.tensor([[1, 0], [-1, 1]], dtype=torch.float32)\n",
    "\n",
    "inverse_T = torch.inverse(matrix_T)\n",
    "inverse_U = torch.inverse(matrix_U)\n",
    "\n",
    "print(inverse_U)"
   ]
  },
  {
   "cell_type": "code",
   "execution_count": 38,
   "id": "28b6554053a36fd1",
   "metadata": {
    "collapsed": false
   },
   "outputs": [
    {
     "name": "stdout",
     "output_type": "stream",
     "text": [
      "Finished epoch 0, latest loss 0.0008824534593660074\n",
      "Finished epoch 1, latest loss 0.0008852797333845588\n",
      "Finished epoch 2, latest loss 0.0008883694512094179\n",
      "Finished epoch 3, latest loss 0.0008911306728997298\n",
      "Finished epoch 4, latest loss 0.0008935469115012822\n",
      "Finished epoch 5, latest loss 0.0008957120193649312\n",
      "Finished epoch 6, latest loss 0.0008977172664350152\n",
      "Finished epoch 7, latest loss 0.0008996262432875648\n",
      "Finished epoch 8, latest loss 0.0009014788218609608\n",
      "Finished epoch 9, latest loss 0.0009032950348806216\n",
      "Finished epoch 10, latest loss 0.0009050821146370045\n",
      "Finished epoch 11, latest loss 0.0009068395410874926\n",
      "Finished epoch 12, latest loss 0.0009085625075015553\n",
      "Finished epoch 13, latest loss 0.0009102435186059162\n",
      "Finished epoch 14, latest loss 0.0009118722720798128\n",
      "Finished epoch 15, latest loss 0.0009134408486708479\n",
      "Finished epoch 16, latest loss 0.0009149402878370558\n",
      "Finished epoch 17, latest loss 0.0009163615948112391\n",
      "Finished epoch 18, latest loss 0.0009176980206870575\n",
      "Finished epoch 19, latest loss 0.0009189431152817832\n",
      "Finished epoch 20, latest loss 0.000920092233006896\n",
      "Finished epoch 21, latest loss 0.0009211705024719466\n",
      "Finished epoch 22, latest loss 0.0009219625308384941\n",
      "Finished epoch 23, latest loss 0.0009228191113394462\n",
      "Finished epoch 24, latest loss 0.0009235669663532358\n",
      "Finished epoch 25, latest loss 0.000924214160481306\n",
      "Finished epoch 26, latest loss 0.0009247664504899404\n",
      "Finished epoch 27, latest loss 0.0009252272228838374\n",
      "Finished epoch 28, latest loss 0.000916489689350312\n",
      "Finished epoch 29, latest loss 0.0009133115018275425\n",
      "Finished epoch 30, latest loss 0.0009123707588575376\n",
      "Finished epoch 31, latest loss 0.0009122700995050258\n",
      "Finished epoch 32, latest loss 0.000912503313205186\n",
      "Finished epoch 33, latest loss 0.0009128602423873198\n",
      "Finished epoch 34, latest loss 0.0009132547036575019\n",
      "Finished epoch 35, latest loss 0.0009136498669527416\n",
      "Finished epoch 36, latest loss 0.0009140312481983958\n",
      "Finished epoch 37, latest loss 0.0009143930664860562\n",
      "Finished epoch 38, latest loss 0.0009147334289021708\n",
      "Finished epoch 39, latest loss 0.0009150518285302114\n",
      "Finished epoch 40, latest loss 0.0009153491065681357\n",
      "Finished epoch 41, latest loss 0.0009156261192564555\n",
      "Finished epoch 42, latest loss 0.0009158832015838376\n",
      "Finished epoch 43, latest loss 0.0009161216190951957\n",
      "Finished epoch 44, latest loss 0.0009163418682230822\n",
      "Finished epoch 45, latest loss 0.0009165451642217958\n",
      "Finished epoch 46, latest loss 0.0009167320266018995\n",
      "Finished epoch 47, latest loss 0.0009169032996611989\n",
      "Finished epoch 48, latest loss 0.0009170477301786991\n",
      "Finished epoch 49, latest loss 0.0009176372952866496\n",
      "Finished epoch 50, latest loss 0.000917314250578868\n",
      "Finished epoch 51, latest loss 0.0009174394801289473\n",
      "Finished epoch 52, latest loss 0.000917546372503987\n",
      "Finished epoch 53, latest loss 0.0009176390547068206\n",
      "Finished epoch 54, latest loss 0.0009177201529682073\n",
      "Finished epoch 55, latest loss 0.0009177903373298998\n",
      "Finished epoch 56, latest loss 0.0009178502678305267\n",
      "Finished epoch 57, latest loss 0.0009179003918546163\n",
      "Finished epoch 58, latest loss 0.000917941242802271\n",
      "Finished epoch 59, latest loss 0.0009179735670439443\n",
      "Finished epoch 60, latest loss 0.0009179973840952778\n",
      "Finished epoch 61, latest loss 0.0009180129356754691\n",
      "Finished epoch 62, latest loss 0.0009180216303004685\n",
      "Finished epoch 63, latest loss 0.0009180231926761572\n",
      "Finished epoch 64, latest loss 0.0009180178789704198\n",
      "Finished epoch 65, latest loss 0.000918006274974213\n",
      "Finished epoch 66, latest loss 0.0009179886783957493\n",
      "Finished epoch 67, latest loss 0.0009143556336147136\n",
      "Finished epoch 68, latest loss 0.0009241252611575479\n",
      "Finished epoch 69, latest loss 0.0009187169775501494\n",
      "Finished epoch 70, latest loss 0.0009238705809508727\n",
      "Finished epoch 71, latest loss 0.0009209171658503527\n",
      "Finished epoch 72, latest loss 0.0009197626565329253\n",
      "Finished epoch 73, latest loss 0.0009192635759366345\n",
      "Finished epoch 74, latest loss 0.0009190102430116245\n",
      "Finished epoch 75, latest loss 0.0009188552594751035\n",
      "Finished epoch 76, latest loss 0.0009187407981801272\n",
      "Finished epoch 77, latest loss 0.0009186439338370611\n",
      "Finished epoch 78, latest loss 0.0009185550066848378\n",
      "Finished epoch 79, latest loss 0.0009184702304544519\n",
      "Finished epoch 80, latest loss 0.0009183884132510143\n",
      "Finished epoch 81, latest loss 0.0009183034334225333\n",
      "Finished epoch 82, latest loss 0.0009182239656903711\n",
      "Finished epoch 83, latest loss 0.0009181436589632927\n",
      "Finished epoch 84, latest loss 0.0009180626739573802\n",
      "Finished epoch 85, latest loss 0.0009179803884353696\n",
      "Finished epoch 86, latest loss 0.0009178969260387112\n",
      "Finished epoch 87, latest loss 0.0009178120922246773\n",
      "Finished epoch 88, latest loss 0.0009177261174143158\n",
      "Finished epoch 89, latest loss 0.0008071566327597212\n",
      "Finished epoch 90, latest loss 0.0014658035495988295\n",
      "Finished epoch 91, latest loss 0.0010755418099104032\n",
      "Finished epoch 92, latest loss 0.001583388086891949\n",
      "Finished epoch 93, latest loss 0.001185095744154697\n",
      "Finished epoch 94, latest loss 0.0010160400422357457\n",
      "Finished epoch 95, latest loss 0.0009525001480401136\n",
      "Finished epoch 96, latest loss 0.0009378643225023822\n",
      "Finished epoch 97, latest loss 0.0009265443619827782\n",
      "Finished epoch 98, latest loss 0.0009250755530648427\n",
      "Finished epoch 99, latest loss 0.0009249331826588616\n",
      "Finished epoch 100, latest loss 0.000925206982291949\n",
      "Finished epoch 101, latest loss 0.0009255975260179995\n",
      "Finished epoch 102, latest loss 0.0009260028895210073\n",
      "Finished epoch 103, latest loss 0.0009263876837072907\n",
      "Finished epoch 104, latest loss 0.0009267375419012381\n",
      "Finished epoch 105, latest loss 0.0009270473162303283\n",
      "Finished epoch 106, latest loss 0.0009273152466548698\n",
      "Finished epoch 107, latest loss 0.000927540928935186\n",
      "Finished epoch 108, latest loss 0.0009277253400237372\n",
      "Finished epoch 109, latest loss 0.0009279498550515719\n",
      "Finished epoch 110, latest loss 0.0009281725012145129\n",
      "Finished epoch 111, latest loss 0.0009272006782129692\n",
      "Finished epoch 112, latest loss 0.0009274276979684875\n",
      "Finished epoch 113, latest loss 0.0009274721848357283\n",
      "Finished epoch 114, latest loss 0.0009275098921126289\n",
      "Finished epoch 115, latest loss 0.0009275166256379659\n",
      "Finished epoch 116, latest loss 0.0009274988656638828\n",
      "Finished epoch 117, latest loss 0.0009274602438925896\n",
      "Finished epoch 118, latest loss 0.0009274024491422707\n",
      "Finished epoch 119, latest loss 0.0009273280427181729\n",
      "Finished epoch 120, latest loss 0.0009272388835913276\n",
      "Finished epoch 121, latest loss 0.0009271366191517739\n",
      "Finished epoch 122, latest loss 0.000927021558073581\n",
      "Finished epoch 123, latest loss 0.0009268971150094333\n",
      "Finished epoch 124, latest loss 0.0009267646660549302\n",
      "Finished epoch 125, latest loss 0.000904290160819892\n",
      "Finished epoch 126, latest loss 0.0009908890844471535\n",
      "Finished epoch 127, latest loss 0.001094835377187831\n",
      "Finished epoch 128, latest loss 0.0009767304240904798\n",
      "Finished epoch 129, latest loss 0.0009436134197245181\n",
      "Finished epoch 130, latest loss 0.0009344277873755562\n",
      "Finished epoch 131, latest loss 0.000931597672381079\n",
      "Finished epoch 132, latest loss 0.000930591655439957\n",
      "Finished epoch 133, latest loss 0.0009301569304763978\n",
      "Finished epoch 134, latest loss 0.0009299262246653393\n",
      "Finished epoch 135, latest loss 0.0009297806430771478\n",
      "Finished epoch 136, latest loss 0.0009296762856192438\n",
      "Finished epoch 137, latest loss 0.0009295928267835692\n",
      "Finished epoch 138, latest loss 0.0009295198495671522\n",
      "Finished epoch 139, latest loss 0.0009294504831892566\n",
      "Finished epoch 140, latest loss 0.0009293803324294007\n",
      "Finished epoch 141, latest loss 0.000929306985428098\n",
      "Finished epoch 142, latest loss 0.0009292292494101517\n",
      "Finished epoch 143, latest loss 0.0009281921232208249\n",
      "Finished epoch 144, latest loss 0.0009350818010764652\n",
      "Finished epoch 145, latest loss 0.0009313626127767212\n",
      "Finished epoch 146, latest loss 0.0009301118766385923\n",
      "Finished epoch 147, latest loss 0.0009296089907450292\n",
      "Finished epoch 148, latest loss 0.0009293395228480029\n",
      "Finished epoch 149, latest loss 0.0009291484337708672\n",
      "Finished epoch 150, latest loss 0.0009289855258267555\n",
      "Finished epoch 151, latest loss 0.000928833355967361\n",
      "Finished epoch 152, latest loss 0.0009289426836150464\n",
      "Finished epoch 153, latest loss 0.0009278126869099916\n",
      "Finished epoch 154, latest loss 0.0009277700469072635\n",
      "Finished epoch 155, latest loss 0.0009276660336358843\n",
      "Finished epoch 156, latest loss 0.0009275438208816248\n",
      "Finished epoch 157, latest loss 0.0009274158012626897\n",
      "Finished epoch 158, latest loss 0.0009272852588259146\n",
      "Finished epoch 159, latest loss 0.0009271542413919796\n",
      "Finished epoch 160, latest loss 0.0009270230719098044\n",
      "Finished epoch 161, latest loss 0.0009268916490339729\n",
      "Finished epoch 162, latest loss 0.0009267607824677417\n",
      "Finished epoch 163, latest loss 0.0009266305628353313\n",
      "Finished epoch 164, latest loss 0.0009265018491213602\n",
      "Finished epoch 165, latest loss 0.0009263736892836391\n",
      "Finished epoch 166, latest loss 0.0009262471289519646\n",
      "Finished epoch 167, latest loss 0.0009261553260866462\n",
      "Finished epoch 168, latest loss 0.0009258871463232285\n",
      "Finished epoch 169, latest loss 0.0009257897678096755\n",
      "Finished epoch 170, latest loss 0.0009256847124862475\n",
      "Finished epoch 171, latest loss 0.0009255775964164733\n",
      "Finished epoch 172, latest loss 0.0009254698089107298\n",
      "Finished epoch 173, latest loss 0.0009253620165623786\n",
      "Finished epoch 174, latest loss 0.0009252555846614996\n",
      "Finished epoch 175, latest loss 0.0009251484451376037\n",
      "Finished epoch 176, latest loss 0.000925041669387496\n",
      "Finished epoch 177, latest loss 0.000924936409927681\n",
      "Finished epoch 178, latest loss 0.0009248284479073713\n",
      "Finished epoch 179, latest loss 0.0009247216823966078\n",
      "Finished epoch 180, latest loss 0.0009246150369632378\n",
      "Finished epoch 181, latest loss 0.0009245089103755139\n",
      "Finished epoch 182, latest loss 0.0009244043634295085\n",
      "Finished epoch 183, latest loss 0.0009242931040150764\n",
      "Finished epoch 184, latest loss 0.0009241889419840935\n",
      "Finished epoch 185, latest loss 0.0009240835367762468\n",
      "Finished epoch 186, latest loss 0.0009240203243406607\n",
      "Finished epoch 187, latest loss 0.0009239046353015498\n",
      "Finished epoch 188, latest loss 0.0009237938717725403\n",
      "Finished epoch 189, latest loss 0.0009236848287183956\n",
      "Finished epoch 190, latest loss 0.0009235769118355249\n",
      "Finished epoch 191, latest loss 0.0009234706079023574\n",
      "Finished epoch 192, latest loss 0.0009233651787464912\n",
      "Finished epoch 193, latest loss 0.0009232619733473329\n",
      "Finished epoch 194, latest loss 0.0009231605479678382\n",
      "Finished epoch 195, latest loss 0.0009230620330677596\n",
      "Finished epoch 196, latest loss 0.0009229666248570267\n",
      "Finished epoch 197, latest loss 0.0009228729042950254\n",
      "Finished epoch 198, latest loss 0.0009227873829422004\n",
      "Finished epoch 199, latest loss 0.0009227021486042198\n"
     ]
    }
   ],
   "source": [
    "#https://machinelearningmastery.com/develop-your-first-neural-network-with-pytorch-step-by-step/\n",
    "for epoch in range(epoch_s):\n",
    "    total_loss = 0.0\n",
    "    for i in range(0, len(X_train), batch_s):\n",
    "        optimizer.zero_grad()\n",
    "        X_batch = X_train[i:i+batch_s]\n",
    "        # print(X_batch)\n",
    "        y_pred = model(torch.Tensor(X_batch))\n",
    "        Y_batch = Y_train[i:i+batch_s]\n",
    "        # print(Y_batch)\n",
    "        loss = loss_function(y_pred, torch.Tensor(Y_batch))\n",
    "        \n",
    "        loss.backward()\n",
    "        optimizer.step()\n",
    "        total_loss += loss.item()\n",
    "        \n",
    "    print(f'Finished epoch {epoch}, latest loss {total_loss / len(dl)}')"
   ]
  },
  {
   "cell_type": "code",
   "execution_count": 76,
   "id": "5c09eeef1adade01",
   "metadata": {
    "ExecuteTime": {
     "end_time": "2023-09-21T03:18:55.754952Z",
     "start_time": "2023-09-21T03:18:55.735491Z"
    },
    "collapsed": false
   },
   "outputs": [],
   "source": [
    "def euclidean_algorithm(pair): \n",
    "    a = pair[0,0]\n",
    "    b = pair[0,1]\n",
    "    plt.plot(a.detach(), b.detach(), \"ro\", markersize = 3)\n",
    "    index = 1\n",
    "    old_matrix = matrix_U\n",
    "\n",
    "    \n",
    "    while index < 500: \n",
    "        \n",
    "        index += 1\n",
    "        print(index)\n",
    "        if a==0 or b==0: \n",
    "            return\n",
    "        pred = model(torch.tensor([[a,b]]))\n",
    "        if abs(1-pred) < abs(pred): # if prediciton is closer to 1 \n",
    "            pair = pair @ matrix_U\n",
    "            old_matrix = matrix_U\n",
    "        else: \n",
    "            # if we ever hit 'pair' with matrix_T twice, then we've hit a loop, so break\n",
    "            if bool(torch.all(old_matrix == matrix_T)):\n",
    "                return\n",
    "            pair = pair @ matrix_T\n",
    "            old_matrix = matrix_T\n",
    "        print(pair)\n",
    "        a = pair[0,0]\n",
    "        b = pair[0,1]\n",
    "        plt.plot(a.detach(), b.detach(), \"ro\", markersize = 3+index) #from cs544 notes "
   ]
  },
  {
   "cell_type": "code",
   "execution_count": 71,
   "id": "6018243a",
   "metadata": {},
   "outputs": [],
   "source": [
    "old_matrix = matrix_T"
   ]
  },
  {
   "cell_type": "code",
   "execution_count": 78,
   "id": "df34634a93f21f9c",
   "metadata": {
    "collapsed": false
   },
   "outputs": [
    {
     "name": "stdout",
     "output_type": "stream",
     "text": [
      "2\n",
      "tensor([[3., 4.]])\n",
      "3\n",
      "tensor([[4., 3.]])\n",
      "4\n",
      "None\n"
     ]
    },
    {
     "data": {
      "image/png": "[encoded data removed]",
      "text/plain": [
       "<Figure size 640x480 with 1 Axes>"
      ]
     },
     "metadata": {},
     "output_type": "display_data"
    }
   ],
   "source": [
    "pair = torch.tensor([[7,4]], dtype=torch.float32)\n",
    "print(euclidean_algorithm(pair))"
   ]
  },
  {
   "cell_type": "code",
   "execution_count": 64,
   "id": "ad99d9c4",
   "metadata": {},
   "outputs": [
    {
     "data": {
      "text/plain": [
       "tensor([[1.]], grad_fn=<SigmoidBackward0>)"
      ]
     },
     "execution_count": 64,
     "metadata": {},
     "output_type": "execute_result"
    }
   ],
   "source": [
    "model(torch.tensor([[70,4]], dtype=torch.float32))"
   ]
  },
  {
   "cell_type": "code",
   "execution_count": null,
   "id": "5d51da76",
   "metadata": {},
   "outputs": [],
   "source": []
  },
  {
   "cell_type": "code",
   "execution_count": null,
   "id": "8f898665a7eafa78",
   "metadata": {
    "collapsed": false
   },
   "outputs": [],
   "source": []
  }
 ],
 "metadata": {
  "kernelspec": {
   "display_name": "Python 3",
   "language": "python",
   "name": "python3"
  },
  "language_info": {
   "codemirror_mode": {
    "name": "ipython",
    "version": 3
   },
   "file_extension": ".py",
   "mimetype": "text/x-python",
   "name": "python",
   "nbconvert_exporter": "python",
   "pygments_lexer": "ipython3",
   "version": "3.10.11"
  }
 },
 "nbformat": 4,
 "nbformat_minor": 5
}
