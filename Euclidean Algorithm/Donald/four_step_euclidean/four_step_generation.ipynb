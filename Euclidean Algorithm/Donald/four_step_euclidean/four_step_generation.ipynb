{
 "cells": [
  {
   "cell_type": "code",
   "execution_count": 17,
   "metadata": {},
   "outputs": [],
   "source": [
    "import random\n",
    "import pandas as pd\n",
    "import numpy as np"
   ]
  },
  {
   "cell_type": "code",
   "execution_count": 13,
   "metadata": {},
   "outputs": [],
   "source": [
    "A = np.array([[1, 1], [0, 1]])\n",
    "B = np.array([[1, -1], [0, 1]])\n",
    "C = np.array([[1, 0], [1, 1]])\n",
    "D = np.array([[1, 0], [-1, 1]])"
   ]
  },
  {
   "cell_type": "code",
   "execution_count": 11,
   "metadata": {},
   "outputs": [],
   "source": [
    "first_digit = str(random.randint(1, 4))\n",
    "\n",
    "cur_digit = first_digit\n",
    "\n",
    "all_digits = cur_digit\n",
    "\n",
    "# generate a sequence of 30 integers, with the restriction that we cannot follow 1 with 2, cannot follow 2 with 1,\n",
    "# cannot follow 3 with 4, and cannot follow 4 with 3. \n",
    "# This is because we want to ensure that we are not teaching the model to predict the wrong path back to the origin\n",
    "# if we multiply a matrix by C then D, it is the same as multiplying by the identity\n",
    "for _ in range(1, 30):\n",
    "\n",
    "    # adapted from ChatGPT\n",
    "    if cur_digit==\"1\":\n",
    "        cur_digit = str(random.choice([1, 3, 4]))\n",
    "    \n",
    "    elif cur_digit==\"2\":\n",
    "        cur_digit = str(random.randint(1, 3) + 1)\n",
    "\n",
    "    elif cur_digit==\"3\":\n",
    "        cur_digit = str(random.randint(1, 3))\n",
    "\n",
    "    elif cur_digit==\"4\":\n",
    "        cur_digit = str(random.choice([1, 2, 4]))\n",
    "\n",
    "\n",
    "    all_digits = all_digits + cur_digit\n"
   ]
  },
  {
   "cell_type": "code",
   "execution_count": 16,
   "metadata": {},
   "outputs": [
    {
     "name": "stdout",
     "output_type": "stream",
     "text": [
      "[-1  1]\n",
      "[-2  1]\n",
      "[-2 -1]\n",
      "[-1 -1]\n",
      "[ 0 -1]\n",
      "[ 0 -1]\n",
      "[-1 -1]\n",
      "[-1 -2]\n",
      "[ 1 -2]\n",
      "[ 3 -2]\n",
      "[ 3 -5]\n",
      "[-2 -5]\n",
      "[-2 -7]\n",
      "[-9 -7]\n",
      "[-16  -7]\n",
      "[-16 -23]\n",
      "[-39 -23]\n",
      "[-39  16]\n",
      "[-39  55]\n",
      "[16 55]\n",
      "[16 71]\n",
      "[16 87]\n",
      "[103  87]\n",
      "[190  87]\n",
      "[ 190 -103]\n",
      "[ 293 -103]\n",
      "[293 190]\n",
      "[103 190]\n",
      "[103 293]\n",
      "[103 396]\n"
     ]
    }
   ],
   "source": [
    "cur_array = np.array([0, 1])\n",
    "\n",
    "for i in all_digits: \n",
    "    if i==\"1\":\n",
    "        cur_array = cur_array @ A\n",
    "    elif i==\"2\":\n",
    "        cur_array = cur_array @ B\n",
    "    elif i==\"3\":\n",
    "        cur_array = cur_array @ C\n",
    "    elif i==\"4\":\n",
    "        cur_array = cur_array @ D"
   ]
  },
  {
   "cell_type": "code",
   "execution_count": 15,
   "metadata": {},
   "outputs": [
    {
     "data": {
      "text/plain": [
       "array([103, 396])"
      ]
     },
     "execution_count": 15,
     "metadata": {},
     "output_type": "execute_result"
    }
   ],
   "source": [
    "cur_array\n",
    "\n",
    "# I think this is likely doomed to failure when training the NN because even though we're training it to predict the most recent move, there may be a different path that more effectively gets to this location\n",
    "# for instance, one path to the [103, 396] that was generated as one example goes through some negative numbers (like [-9, -7]) but I think it would be more efficient to just stay in the positives\n",
    "\n",
    "# I think reinforcement learning is a better option here. \n",
    "\n",
    "# could add more than just the most recent to the list of all the data points because we've ensured that at no point are we effectively multiplying by the identity"
   ]
  },
  {
   "cell_type": "code",
   "execution_count": 32,
   "metadata": {},
   "outputs": [],
   "source": [
    "data = {\n",
    "    'val1': [],\n",
    "    'val2': [],\n",
    "    'last_matrix': []\n",
    "}\n",
    "\n",
    "test_df = pd.DataFrame(data)"
   ]
  },
  {
   "cell_type": "code",
   "execution_count": 33,
   "metadata": {},
   "outputs": [],
   "source": [
    "for _ in range(1, 1000):\n",
    "\n",
    "    start_array = np.array([0, 1])\n",
    "    all_digits = \"\"\n",
    "    for d in range(1, 30):\n",
    "\n",
    "        # adapted from ChatGPT\n",
    "        if cur_digit==\"1\":\n",
    "            cur_digit = str(random.choice([1, 3, 4]))\n",
    "        elif cur_digit==\"2\":\n",
    "            cur_digit = str(random.randint(1, 3) + 1)\n",
    "        elif cur_digit==\"3\":\n",
    "            cur_digit = str(random.randint(1, 3))\n",
    "        elif cur_digit==\"4\":\n",
    "            cur_digit = str(random.choice([1, 2, 4]))\n",
    "        all_digits = all_digits + cur_digit\n",
    "\n",
    "    # # adapted from ChatGPT\n",
    "    # as_str = np.array2string(x, separator=\"\")\n",
    "    # remove_undesired = as_str.strip(\"[\")\n",
    "    # remove_undesired = remove_undesired.strip(\"]\")\n",
    "\n",
    "    # # if there are multiple 0's in a row, replace them with just one 0\n",
    "    # remove_undesired = re.sub(\"0(0)+\", \"0\", remove_undesired)\n",
    "\n",
    "    remove_undesired = all_digits\n",
    "\n",
    "    cur_array = start_array\n",
    "    for i in remove_undesired:\n",
    "        if i==\"1\":\n",
    "            cur_array = cur_array @ A\n",
    "        elif i==\"2\":\n",
    "            cur_array = cur_array @ B\n",
    "        elif i==\"3\":\n",
    "            cur_array = cur_array @ C\n",
    "        elif i==\"4\":\n",
    "            cur_array = cur_array @ D\n",
    "\n",
    "    # adapted from https://stackoverflow.com/questions/24284342/insert-a-row-to-pandas-dataframe\n",
    "\n",
    "    df2 = pd.DataFrame([[cur_array[0], cur_array[1], remove_undesired[-1]]], columns=['val1', 'val2', 'last_matrix'])\n",
    "    test_df = pd.concat([df2, test_df])"
   ]
  },
  {
   "cell_type": "code",
   "execution_count": 35,
   "metadata": {},
   "outputs": [],
   "source": [
    "test_df.to_csv('four_directions.csv', index=False)"
   ]
  }
 ],
 "metadata": {
  "kernelspec": {
   "display_name": "Python 3",
   "language": "python",
   "name": "python3"
  },
  "language_info": {
   "codemirror_mode": {
    "name": "ipython",
    "version": 3
   },
   "file_extension": ".py",
   "mimetype": "text/x-python",
   "name": "python",
   "nbconvert_exporter": "python",
   "pygments_lexer": "ipython3",
   "version": "3.10.11"
  },
  "orig_nbformat": 4
 },
 "nbformat": 4,
 "nbformat_minor": 2
}
