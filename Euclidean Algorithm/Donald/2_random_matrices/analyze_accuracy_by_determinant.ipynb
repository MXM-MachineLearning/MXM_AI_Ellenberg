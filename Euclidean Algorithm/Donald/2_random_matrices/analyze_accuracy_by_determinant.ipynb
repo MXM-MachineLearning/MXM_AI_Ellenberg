{
 "cells": [
  {
   "cell_type": "code",
   "execution_count": 23,
   "metadata": {},
   "outputs": [],
   "source": [
    "import pandas as pd\n",
    "import matplotlib.pyplot as plt\n",
    "\n",
    "import re\n",
    "import numpy as np"
   ]
  },
  {
   "cell_type": "code",
   "execution_count": 3,
   "metadata": {},
   "outputs": [],
   "source": [
    "df = pd.read_csv(\"summarize_rand_matrices.csv\")"
   ]
  },
  {
   "cell_type": "code",
   "execution_count": 7,
   "metadata": {},
   "outputs": [],
   "source": [
    "df['product_dets'] = df['detA'] * df['detB']"
   ]
  },
  {
   "cell_type": "code",
   "execution_count": 12,
   "metadata": {},
   "outputs": [],
   "source": [
    "df['success'] = df['accuracy'] > 0.8"
   ]
  },
  {
   "cell_type": "code",
   "execution_count": 24,
   "metadata": {},
   "outputs": [
    {
     "data": {
      "image/png": "[encoded data removed]",
      "text/plain": [
       "<Figure size 640x480 with 1 Axes>"
      ]
     },
     "metadata": {},
     "output_type": "display_data"
    }
   ],
   "source": [
    "plt.scatter(x=df['product_dets'], y=df['accuracy'])\n",
    "\n",
    "plt.show()"
   ]
  },
  {
   "cell_type": "code",
   "execution_count": 25,
   "metadata": {},
   "outputs": [],
   "source": [
    "just_det_zero = df[df['product_dets']==0]"
   ]
  },
  {
   "cell_type": "code",
   "execution_count": 28,
   "metadata": {},
   "outputs": [
    {
     "data": {
      "image/png": "[encoded data removed]",
      "text/plain": [
       "<Figure size 640x480 with 1 Axes>"
      ]
     },
     "metadata": {},
     "output_type": "display_data"
    }
   ],
   "source": [
    "plt.hist(just_det_zero['accuracy'])\n",
    "plt.show()"
   ]
  },
  {
   "cell_type": "code",
   "execution_count": 98,
   "metadata": {},
   "outputs": [],
   "source": [
    "def firstVal(row):\n",
    "    temp = re.sub(r'\\n', ',', row['A'])\n",
    "    test2 = re.findall(r'-?\\d+?', temp)\n",
    "    return int(test2[0])\n",
    "def secondVal(row):\n",
    "    temp = re.sub(r'\\n', ',', row['A'])\n",
    "    test2 = re.findall(r'-?\\d+?', temp)\n",
    "    return int(test2[1])\n",
    "def thirdVal(row):\n",
    "    temp = re.sub(r'\\n', ',', row['A'])\n",
    "    test2 = re.findall(r'-?\\d+?', temp)\n",
    "    return int(test2[2])\n",
    "def fourthVal(row):\n",
    "    temp = re.sub(r'\\n', ',', row['A'])\n",
    "    test2 = re.findall(r'-?\\d+?', temp)\n",
    "    return int(test2[3])\n",
    "\n",
    "def firstValB(row):\n",
    "    temp = re.sub(r'\\n', ',', row['B'])\n",
    "    test2 = re.findall(r'-?\\d+?', temp)\n",
    "    return int(test2[0])\n",
    "def secondValB(row):\n",
    "    temp = re.sub(r'\\n', ',', row['B'])\n",
    "    test2 = re.findall(r'-?\\d+?', temp)\n",
    "    return int(test2[1])\n",
    "def thirdValB(row):\n",
    "    temp = re.sub(r'\\n', ',', row['B'])\n",
    "    test2 = re.findall(r'-?\\d+?', temp)\n",
    "    return int(test2[2])\n",
    "def fourthValB(row):\n",
    "    temp = re.sub(r'\\n', ',', row['B'])\n",
    "    test2 = re.findall(r'-?\\d+?', temp)\n",
    "    return int(test2[3])"
   ]
  },
  {
   "cell_type": "code",
   "execution_count": 100,
   "metadata": {},
   "outputs": [],
   "source": [
    "df['A_matrix_first'] = df.apply(firstVal, axis=1)\n",
    "df['A_matrix_second'] = df.apply(secondVal, axis=1)\n",
    "df['A_matrix_third'] = df.apply(thirdVal, axis=1)\n",
    "df['A_matrix_fourth'] = df.apply(fourthVal, axis=1)\n",
    "\n",
    "df['B_matrix_first'] = df.apply(firstValB, axis=1)\n",
    "df['B_matrix_second'] = df.apply(secondValB, axis=1)\n",
    "df['B_matrix_third'] = df.apply(thirdValB, axis=1)\n",
    "df['B_matrix_fourth'] = df.apply(fourthValB, axis=1)"
   ]
  },
  {
   "cell_type": "code",
   "execution_count": 104,
   "metadata": {},
   "outputs": [],
   "source": [
    "def four_to_matrix(row):\n",
    "    return np.array([[row['A_matrix_first'], row['A_matrix_second']], [row['A_matrix_third'], row['A_matrix_fourth']]])\n",
    "def four_to_matrixB(row):\n",
    "    return np.array([[row['B_matrix_first'], row['B_matrix_second']], [row['B_matrix_third'], row['B_matrix_fourth']]])"
   ]
  },
  {
   "cell_type": "code",
   "execution_count": 105,
   "metadata": {},
   "outputs": [],
   "source": [
    "df['A_matrix'] = df.apply(four_to_matrix, axis=1)\n",
    "df['B_matrix'] = df.apply(four_to_matrixB, axis=1)"
   ]
  }
 ],
 "metadata": {
  "kernelspec": {
   "display_name": "Python 3",
   "language": "python",
   "name": "python3"
  },
  "language_info": {
   "codemirror_mode": {
    "name": "ipython",
    "version": 3
   },
   "file_extension": ".py",
   "mimetype": "text/x-python",
   "name": "python",
   "nbconvert_exporter": "python",
   "pygments_lexer": "ipython3",
   "version": "3.10.11"
  },
  "orig_nbformat": 4
 },
 "nbformat": 4,
 "nbformat_minor": 2
}
