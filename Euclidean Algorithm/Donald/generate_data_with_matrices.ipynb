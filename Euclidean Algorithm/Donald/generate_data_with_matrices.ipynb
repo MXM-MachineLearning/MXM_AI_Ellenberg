{
 "cells": [
  {
   "cell_type": "code",
   "execution_count": 2,
   "metadata": {},
   "outputs": [],
   "source": [
    "import pandas as pd\n",
    "import numpy as np\n",
    "import re"
   ]
  },
  {
   "cell_type": "code",
   "execution_count": 7,
   "metadata": {},
   "outputs": [],
   "source": [
    "data = {\n",
    "    'val1': [],\n",
    "    'val2': [],\n",
    "    'last_matrix_was_U': []\n",
    "}\n",
    "\n",
    "test_df = pd.DataFrame(data)"
   ]
  },
  {
   "cell_type": "code",
   "execution_count": 8,
   "metadata": {},
   "outputs": [],
   "source": [
    "# adapted from https://www.geeksforgeeks.org/python-matrix/\n",
    "\n",
    "T = np.array([[0, 1], [1, 0]])\n",
    "\n",
    "U = np.array([[1, 0], [-1, 1]])\n",
    "\n",
    "inverse_U = np.array([[1, 0], [1, 1]])\n",
    "\n",
    "start_array = np.array([0, 1])"
   ]
  },
  {
   "cell_type": "code",
   "execution_count": 9,
   "metadata": {},
   "outputs": [],
   "source": [
    "for _ in range(1, 1000):\n",
    "\n",
    "    # generate sequences of 0's and 1's\n",
    "    x = np.random.randint(0, 2, size=30)\n",
    "\n",
    "    # adapted from ChatGPT\n",
    "    as_str = np.array2string(x, separator=\"\")\n",
    "    remove_undesired = as_str.strip(\"[\")\n",
    "    remove_undesired = remove_undesired.strip(\"]\")\n",
    "\n",
    "    # if there are multiple 0's in a row, replace them with just one 0\n",
    "    remove_undesired = re.sub(\"0(0)+\", \"0\", remove_undesired)\n",
    "\n",
    "    cur_array = start_array\n",
    "    for i in range(1, len(remove_undesired)):\n",
    "        # print(remove_undesired[i])\n",
    "        if remove_undesired[i]==\"0\":\n",
    "            cur_array = cur_array @ T\n",
    "        else: \n",
    "            cur_array = cur_array @ inverse_U\n",
    "\n",
    "    # adapted from https://stackoverflow.com/questions/24284342/insert-a-row-to-pandas-dataframe\n",
    "\n",
    "    df2 = pd.DataFrame([[cur_array[0], cur_array[1], int(remove_undesired[-1]==\"1\")]], columns=['val1', 'val2', 'last_matrix_was_U'])\n",
    "    test_df = pd.concat([df2, test_df])"
   ]
  },
  {
   "cell_type": "code",
   "execution_count": 10,
   "metadata": {},
   "outputs": [],
   "source": [
    "test_df.to_csv('data.csv', index=False)"
   ]
  }
 ],
 "metadata": {
  "kernelspec": {
   "display_name": "Python 3",
   "language": "python",
   "name": "python3"
  },
  "language_info": {
   "codemirror_mode": {
    "name": "ipython",
    "version": 3
   },
   "file_extension": ".py",
   "mimetype": "text/x-python",
   "name": "python",
   "nbconvert_exporter": "python",
   "pygments_lexer": "ipython3",
   "version": "3.10.11"
  },
  "orig_nbformat": 4
 },
 "nbformat": 4,
 "nbformat_minor": 2
}
