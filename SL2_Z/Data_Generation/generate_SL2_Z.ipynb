{
 "cells": [
  {
   "cell_type": "code",
   "execution_count": 24,
   "metadata": {},
   "outputs": [],
   "source": [
    "import numpy as np\n",
    "import pandas as pd\n",
    "import random"
   ]
  },
  {
   "cell_type": "markdown",
   "metadata": {},
   "source": [
    "## Defines steps (directions) for random walk as matrices $X$, $Y$, $Z$\n",
    "$$\n",
    "\\begin{align}\n",
    "X &= \\begin{bmatrix}0 & -1 \\\\ 1 & 0\\end{bmatrix} \\\\\n",
    "Y &= \\begin{bmatrix}1 & 1 \\\\ 0 & 1\\end{bmatrix} \\\\\n",
    "Z &= \\begin{bmatrix}1 & -1 \\\\ 0 & 1\\end{bmatrix}\n",
    "\\end{align}\n",
    "$$"
   ]
  },
  {
   "cell_type": "code",
   "execution_count": 25,
   "metadata": {},
   "outputs": [],
   "source": [
    "# these matrices generate SL3_Z, according to this: https://www-users.cse.umn.edu/~garrett/m/mfms/notes_2013-14/07_fund_dmn.pdf\n",
    "\n",
    "# x is rank 4, so we don't need to include its inverse\n",
    "x = np.array([[0, -1], [1, 0]])\n",
    "y = np.array([[1, 1], [0, 1]])\n",
    "z = np.array([[1, -1], [0, 1]])\n",
    "\n",
    "identity = np.array([[1, 0], [0, 1]])"
   ]
  },
  {
   "cell_type": "code",
   "execution_count": 26,
   "metadata": {},
   "outputs": [
    {
     "data": {
      "text/plain": [
       "array([[ 0, -1],\n",
       "       [ 1,  3]])"
      ]
     },
     "execution_count": 26,
     "metadata": {},
     "output_type": "execute_result"
    }
   ],
   "source": [
    "x @ y @ y @ y"
   ]
  },
  {
   "cell_type": "code",
   "execution_count": 27,
   "metadata": {},
   "outputs": [
    {
     "data": {
      "text/plain": [
       "array([[ 1., -1.],\n",
       "       [ 0.,  1.]])"
      ]
     },
     "execution_count": 27,
     "metadata": {},
     "output_type": "execute_result"
    }
   ],
   "source": [
    "np.linalg.inv(y)"
   ]
  },
  {
   "cell_type": "code",
   "execution_count": 28,
   "metadata": {},
   "outputs": [
    {
     "name": "stdout",
     "output_type": "stream",
     "text": [
      "False\n",
      "False\n",
      "False\n",
      "False\n",
      "False\n",
      "False\n",
      "False\n",
      "False\n",
      "False\n",
      "False\n",
      "False\n",
      "False\n",
      "False\n",
      "False\n",
      "False\n",
      "False\n",
      "False\n",
      "False\n",
      "False\n",
      "False\n",
      "False\n",
      "False\n",
      "False\n",
      "False\n",
      "False\n",
      "False\n",
      "False\n",
      "True\n"
     ]
    }
   ],
   "source": [
    "print((y @ y == identity).all())\n",
    "print((y @ x == identity).all())\n",
    "print((y @ y @ y == identity).all())\n",
    "print((y @ y @ x == identity).all())\n",
    "print((y @ x @ y == identity).all())\n",
    "print((y @ x @ x == identity).all())\n",
    "print((y @ y @ y @ y == identity).all())\n",
    "print((y @ y @ y @ x == identity).all())\n",
    "print((y @ y @ x @ y == identity).all())\n",
    "print((y @ y @ x @ x == identity).all())\n",
    "print((y @ x @ y @ y == identity).all())\n",
    "print((y @ x @ y @ x == identity).all())\n",
    "print((y @ x @ x @ y == identity).all())\n",
    "print((y @ x @ x @ x == identity).all())\n",
    "\n",
    "\n",
    "print((x @ y == identity).all())\n",
    "print((x @ x == identity).all())\n",
    "print((x @ y @ y == identity).all())\n",
    "print((x @ y @ x == identity).all())\n",
    "print((x @ x @ y == identity).all())\n",
    "print((x @ x @ x == identity).all())\n",
    "print((x @ y @ y @ y == identity).all())\n",
    "print((x @ y @ y @ x == identity).all())\n",
    "print((x @ y @ x @ y == identity).all())\n",
    "print((x @ y @ x @ x == identity).all())\n",
    "print((x @ x @ y @ y == identity).all())\n",
    "print((x @ x @ y @ x == identity).all())\n",
    "print((x @ x @ x @ y == identity).all())\n",
    "print((x @ x @ x @ x == identity).all())\n"
   ]
  },
  {
   "cell_type": "code",
   "execution_count": 29,
   "metadata": {},
   "outputs": [],
   "source": [
    "cols = {\n",
    "    'val1': [],\n",
    "    'val2': [],\n",
    "    'val3': [],\n",
    "    'val4': [],\n",
    "}\n",
    "\n",
    "data = pd.DataFrame(cols)"
   ]
  },
  {
   "cell_type": "markdown",
   "metadata": {},
   "source": [
    "## Random walk through ${\\rm SL}_2(\\mathbb{Z})$ to generate matrices in group"
   ]
  },
  {
   "cell_type": "code",
   "execution_count": 30,
   "metadata": {},
   "outputs": [],
   "source": [
    "random.seed(42)\n",
    "np.random.seed(42)\n",
    "\n",
    "for _ in range(10000):\n",
    "\n",
    "    first_pos = np.random.randint(0, 3, size=1)[0]\n",
    "\n",
    "    if first_pos==0:\n",
    "        start_matrix = x\n",
    "    elif first_pos==1:\n",
    "        start_matrix=y\n",
    "    elif first_pos==2:\n",
    "        start_matrix=z\n",
    "\n",
    "    cur_matrix = start_matrix\n",
    "\n",
    "    cur_size = np.random.randint(0, 10) + 30\n",
    "\n",
    "    a = np.random.randint(0, 3, size=cur_size)\n",
    "    for i in a: \n",
    "        if i==0:\n",
    "            cur_matrix = cur_matrix @ x\n",
    "        elif i==1:\n",
    "            cur_matrix = cur_matrix @ y\n",
    "        elif i==2:\n",
    "            cur_matrix = cur_matrix @ z\n",
    "\n",
    "    df2 = pd.DataFrame([[\n",
    "            cur_matrix[0][0], \n",
    "            cur_matrix[0][1], \n",
    "            cur_matrix[1][0], \n",
    "            cur_matrix[1][1], \n",
    "            ]],\n",
    "            columns=['val1', 'val2', 'val3', 'val4'])\n",
    "    data = pd.concat([df2, data])"
   ]
  },
  {
   "cell_type": "code",
   "execution_count": 31,
   "metadata": {},
   "outputs": [
    {
     "data": {
      "text/html": [
       "<div>\n",
       "<style scoped>\n",
       "    .dataframe tbody tr th:only-of-type {\n",
       "        vertical-align: middle;\n",
       "    }\n",
       "\n",
       "    .dataframe tbody tr th {\n",
       "        vertical-align: top;\n",
       "    }\n",
       "\n",
       "    .dataframe thead th {\n",
       "        text-align: right;\n",
       "    }\n",
       "</style>\n",
       "<table border=\"1\" class=\"dataframe\">\n",
       "  <thead>\n",
       "    <tr style=\"text-align: right;\">\n",
       "      <th></th>\n",
       "      <th>val1</th>\n",
       "      <th>val2</th>\n",
       "      <th>val3</th>\n",
       "      <th>val4</th>\n",
       "    </tr>\n",
       "  </thead>\n",
       "  <tbody>\n",
       "    <tr>\n",
       "      <th>0</th>\n",
       "      <td>-69.0</td>\n",
       "      <td>-398.0</td>\n",
       "      <td>-13.0</td>\n",
       "      <td>-75.0</td>\n",
       "    </tr>\n",
       "    <tr>\n",
       "      <th>0</th>\n",
       "      <td>2.0</td>\n",
       "      <td>5.0</td>\n",
       "      <td>-7.0</td>\n",
       "      <td>-17.0</td>\n",
       "    </tr>\n",
       "    <tr>\n",
       "      <th>0</th>\n",
       "      <td>13.0</td>\n",
       "      <td>-18.0</td>\n",
       "      <td>-5.0</td>\n",
       "      <td>7.0</td>\n",
       "    </tr>\n",
       "    <tr>\n",
       "      <th>0</th>\n",
       "      <td>0.0</td>\n",
       "      <td>1.0</td>\n",
       "      <td>-1.0</td>\n",
       "      <td>-4.0</td>\n",
       "    </tr>\n",
       "    <tr>\n",
       "      <th>0</th>\n",
       "      <td>47.0</td>\n",
       "      <td>10.0</td>\n",
       "      <td>14.0</td>\n",
       "      <td>3.0</td>\n",
       "    </tr>\n",
       "    <tr>\n",
       "      <th>...</th>\n",
       "      <td>...</td>\n",
       "      <td>...</td>\n",
       "      <td>...</td>\n",
       "      <td>...</td>\n",
       "    </tr>\n",
       "    <tr>\n",
       "      <th>0</th>\n",
       "      <td>3.0</td>\n",
       "      <td>8.0</td>\n",
       "      <td>4.0</td>\n",
       "      <td>11.0</td>\n",
       "    </tr>\n",
       "    <tr>\n",
       "      <th>0</th>\n",
       "      <td>-2.0</td>\n",
       "      <td>5.0</td>\n",
       "      <td>-3.0</td>\n",
       "      <td>7.0</td>\n",
       "    </tr>\n",
       "    <tr>\n",
       "      <th>0</th>\n",
       "      <td>-1.0</td>\n",
       "      <td>3.0</td>\n",
       "      <td>3.0</td>\n",
       "      <td>-10.0</td>\n",
       "    </tr>\n",
       "    <tr>\n",
       "      <th>0</th>\n",
       "      <td>1.0</td>\n",
       "      <td>9.0</td>\n",
       "      <td>-4.0</td>\n",
       "      <td>-35.0</td>\n",
       "    </tr>\n",
       "    <tr>\n",
       "      <th>0</th>\n",
       "      <td>-1.0</td>\n",
       "      <td>2.0</td>\n",
       "      <td>0.0</td>\n",
       "      <td>-1.0</td>\n",
       "    </tr>\n",
       "  </tbody>\n",
       "</table>\n",
       "<p>10000 rows × 4 columns</p>\n",
       "</div>"
      ],
      "text/plain": [
       "    val1   val2  val3  val4\n",
       "0  -69.0 -398.0 -13.0 -75.0\n",
       "0    2.0    5.0  -7.0 -17.0\n",
       "0   13.0  -18.0  -5.0   7.0\n",
       "0    0.0    1.0  -1.0  -4.0\n",
       "0   47.0   10.0  14.0   3.0\n",
       "..   ...    ...   ...   ...\n",
       "0    3.0    8.0   4.0  11.0\n",
       "0   -2.0    5.0  -3.0   7.0\n",
       "0   -1.0    3.0   3.0 -10.0\n",
       "0    1.0    9.0  -4.0 -35.0\n",
       "0   -1.0    2.0   0.0  -1.0\n",
       "\n",
       "[10000 rows x 4 columns]"
      ]
     },
     "execution_count": 31,
     "metadata": {},
     "output_type": "execute_result"
    }
   ],
   "source": [
    "data"
   ]
  },
  {
   "cell_type": "code",
   "execution_count": 32,
   "metadata": {},
   "outputs": [],
   "source": [
    "data.to_csv('./Data_files/sl2_Z.csv', index=False)"
   ]
  },
  {
   "cell_type": "code",
   "execution_count": 33,
   "metadata": {},
   "outputs": [],
   "source": [
    "cols = {\n",
    "    'val1': [],\n",
    "    'val2': [],\n",
    "    'val3' : [],\n",
    "    'val4': [],\n",
    "}\n",
    "\n",
    "data = pd.DataFrame(cols)\n",
    "\n",
    "random.seed(59)\n",
    "np.random.seed(59)\n",
    "\n",
    "for _ in range(10000):\n",
    "\n",
    "    first_pos = np.random.randint(0, 3, size=1)[0]\n",
    "\n",
    "    if first_pos==0:\n",
    "        start_matrix = x\n",
    "    elif first_pos==1:\n",
    "        start_matrix=y\n",
    "    elif first_pos==2:\n",
    "        start_matrix=z\n",
    "\n",
    "    cur_matrix = start_matrix\n",
    "\n",
    "    cur_size = np.random.randint(0, 10) + 30\n",
    "\n",
    "    a = np.random.randint(0, 3, size=cur_size)\n",
    "    for i in a: \n",
    "        if i==0:\n",
    "            cur_matrix = cur_matrix @ x\n",
    "        elif i==1:\n",
    "            cur_matrix = cur_matrix @ y\n",
    "        elif i==2:\n",
    "            cur_matrix = cur_matrix @ z\n",
    "\n",
    "    df2 = pd.DataFrame([[\n",
    "            cur_matrix[0][0], \n",
    "            cur_matrix[0][1], \n",
    "            cur_matrix[1][0], \n",
    "            cur_matrix[1][1], \n",
    "            ]],\n",
    "            columns=['val1', 'val2', 'val3', 'val4'])\n",
    "    data = pd.concat([df2, data])"
   ]
  },
  {
   "cell_type": "code",
   "execution_count": 34,
   "metadata": {},
   "outputs": [],
   "source": [
    "data.to_csv('./Data_files/sl2_Z_test.csv', index=False)"
   ]
  }
 ],
 "metadata": {
  "kernelspec": {
   "display_name": "Python 3",
   "language": "python",
   "name": "python3"
  },
  "language_info": {
   "codemirror_mode": {
    "name": "ipython",
    "version": 3
   },
   "file_extension": ".py",
   "mimetype": "text/x-python",
   "name": "python",
   "nbconvert_exporter": "python",
   "pygments_lexer": "ipython3",
   "version": "3.11.4"
  }
 },
 "nbformat": 4,
 "nbformat_minor": 2
}
