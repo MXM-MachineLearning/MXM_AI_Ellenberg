{
 "cells": [
  {
   "cell_type": "code",
   "execution_count": 1,
   "metadata": {},
   "outputs": [],
   "source": [
    "import numpy as np\n",
    "import pandas as pd\n",
    "import random"
   ]
  },
  {
   "cell_type": "code",
   "execution_count": 2,
   "metadata": {},
   "outputs": [],
   "source": [
    "A = np.array([[1, 3], [0, 1]])\n",
    "B = np.array([[1, 0], [3, 1]])\n",
    "\n",
    "# elements on the diagonal are 1 mod 4. \n",
    "# elements not on the diagonal are 0 mod 2. \n",
    "\n",
    "# C is the inverse of A\n",
    "# D is the inverse of B\n",
    "C = np.linalg.inv(A)\n",
    "D = np.linalg.inv(B)\n",
    "\n",
    "identity = np.array([[1, 0], [0, 1]])"
   ]
  },
  {
   "cell_type": "code",
   "execution_count": 3,
   "metadata": {},
   "outputs": [],
   "source": [
    "cols = {\n",
    "    'val1': [],\n",
    "    'val2': [],\n",
    "    'val3' : [],\n",
    "    'val4': [],\n",
    "}\n",
    "\n",
    "data = pd.DataFrame(cols)"
   ]
  },
  {
   "cell_type": "code",
   "execution_count": 4,
   "metadata": {},
   "outputs": [],
   "source": [
    "random.seed(42)\n",
    "np.random.seed(42)\n",
    "\n",
    "for _ in range(10000):\n",
    "\n",
    "    first_pos = np.random.randint(0, 4, size=1)[0]\n",
    "\n",
    "    if first_pos==0:\n",
    "        start_matrix = A\n",
    "    elif first_pos==1:\n",
    "        start_matrix=B\n",
    "    elif first_pos==2:\n",
    "        start_matrix=C\n",
    "    elif first_pos==3:\n",
    "        start_matrix=D\n",
    "    else: \n",
    "        assert 1==2\n",
    "\n",
    "    cur_matrix = start_matrix\n",
    "\n",
    "    cur_size = np.random.randint(0, 30) + 2\n",
    "\n",
    "    a = np.random.randint(0, 4, size=cur_size)\n",
    "    for i in a: \n",
    "        if i==0:\n",
    "            cur_matrix = cur_matrix @ A\n",
    "        elif i==1:\n",
    "            cur_matrix = cur_matrix @ B\n",
    "        elif i==2:\n",
    "            cur_matrix = cur_matrix @ C\n",
    "        elif i==3:\n",
    "            cur_matrix = cur_matrix @ D\n",
    "        else: \n",
    "            assert 1==2\n",
    "\n",
    "    df2 = pd.DataFrame([[\n",
    "            cur_matrix[0][0], \n",
    "            cur_matrix[0][1], \n",
    "            cur_matrix[1][0], \n",
    "            cur_matrix[1][1], \n",
    "            ]],\n",
    "            columns=['val1', 'val2', 'val3', 'val4'])\n",
    "    data = pd.concat([df2, data])"
   ]
  },
  {
   "cell_type": "code",
   "execution_count": 5,
   "metadata": {},
   "outputs": [],
   "source": [
    "data.to_csv('./Data_files/subset_sl2_Z_3s.csv', index=False)"
   ]
  },
  {
   "cell_type": "code",
   "execution_count": 6,
   "metadata": {},
   "outputs": [],
   "source": [
    "cols = {\n",
    "    'val1': [],\n",
    "    'val2': [],\n",
    "    'val3' : [],\n",
    "    'val4': [],\n",
    "}\n",
    "\n",
    "data = pd.DataFrame(cols)\n",
    "\n",
    "random.seed(59)\n",
    "np.random.seed(59)\n",
    "\n",
    "for _ in range(10000):\n",
    "\n",
    "    first_pos = np.random.randint(0, 4, size=1)[0]\n",
    "\n",
    "    if first_pos==0:\n",
    "        start_matrix = A\n",
    "    elif first_pos==1:\n",
    "        start_matrix=B\n",
    "    elif first_pos==2:\n",
    "        start_matrix=C\n",
    "    elif first_pos==3:\n",
    "        start_matrix=D\n",
    "    else:\n",
    "        assert 1==2\n",
    "\n",
    "    cur_matrix = start_matrix\n",
    "\n",
    "    cur_size = np.random.randint(0, 30) + 10\n",
    "\n",
    "    a = np.random.randint(0, 4, size=cur_size)\n",
    "    for i in a: \n",
    "        if i==0:\n",
    "            cur_matrix = cur_matrix @ A\n",
    "        elif i==1:\n",
    "            cur_matrix = cur_matrix @ B\n",
    "        elif i==2:\n",
    "            cur_matrix = cur_matrix @ C\n",
    "        elif i==3:\n",
    "            cur_matrix = cur_matrix @ D\n",
    "        else:\n",
    "            assert 1==2\n",
    "\n",
    "    df2 = pd.DataFrame([[\n",
    "            cur_matrix[0][0], \n",
    "            cur_matrix[0][1], \n",
    "            cur_matrix[1][0], \n",
    "            cur_matrix[1][1], \n",
    "            ]],\n",
    "            columns=['val1', 'val2', 'val3', 'val4'])\n",
    "    data = pd.concat([df2, data])"
   ]
  },
  {
   "cell_type": "code",
   "execution_count": 7,
   "metadata": {},
   "outputs": [],
   "source": [
    "data.to_csv('./Data_files/subset_sl2_Z_3s_test.csv', index=False)"
   ]
  }
 ],
 "metadata": {
  "kernelspec": {
   "display_name": "Python 3",
   "language": "python",
   "name": "python3"
  },
  "language_info": {
   "codemirror_mode": {
    "name": "ipython",
    "version": 3
   },
   "file_extension": ".py",
   "mimetype": "text/x-python",
   "name": "python",
   "nbconvert_exporter": "python",
   "pygments_lexer": "ipython3",
   "version": "3.11.3"
  }
 },
 "nbformat": 4,
 "nbformat_minor": 2
}
