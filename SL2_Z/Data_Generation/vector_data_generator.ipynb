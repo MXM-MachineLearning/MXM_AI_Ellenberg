{
 "cells": [
  {
   "cell_type": "code",
   "execution_count": 2,
   "metadata": {},
   "outputs": [
    {
     "name": "stderr",
     "output_type": "stream",
     "text": [
      "2024-02-29 10:31:24.454133: I tensorflow/core/platform/cpu_feature_guard.cc:182] This TensorFlow binary is optimized to use available CPU instructions in performance-critical operations.\n",
      "To enable the following instructions: AVX2 FMA, in other operations, rebuild TensorFlow with the appropriate compiler flags.\n"
     ]
    }
   ],
   "source": [
    "%matplotlib inline\n",
    "import matplotlib.pylab as plt\n",
    "import numpy as np\n",
    "from tensorflow import keras\n",
    "from tensorflow.keras.models import Sequential\n",
    "from tensorflow.keras.layers import Dense\n",
    "import torch\n",
    "import random"
   ]
  },
  {
   "cell_type": "code",
   "execution_count": 10,
   "metadata": {},
   "outputs": [],
   "source": [
    "max_moves = 30  #how many inverse operations on the final destination\n",
    "goal_position = torch.tensor([[1], [0]], dtype=torch.float64) #start with a 2 x 1 \n",
    "\n",
    "def data_generator(matrix_T, matrix_U, num_of_datapoints):\n",
    "    inverse_T = torch.inverse(matrix_T)\n",
    "    inverse_U = torch.inverse(matrix_U)\n",
    "    data = torch.empty((num_of_datapoints, 3), dtype=torch.int32)\n",
    "    for i in range(num_of_datapoints):\n",
    "        start = goal_position\n",
    "        moves = random.randint(1, max_moves)\n",
    "        coin = 5\n",
    "        for q in range(moves):\n",
    "            coin = random.randint(0, 3)\n",
    "            if coin == 0:\n",
    "                #  print(start, inverse_U, \"=\")\n",
    "                start = torch.matmul(matrix_T, start)\n",
    "            #  print(start)\n",
    "            if coin == 1:\n",
    "                #  print(start, inverse_T, \"=\")\n",
    "                start = torch.matmul(matrix_U, start)\n",
    "            if coin == 2:\n",
    "                #  print(start, inverse_U, \"=\")\n",
    "                start = torch.matmul(inverse_T, start)\n",
    "            #  print(start)\n",
    "            else:\n",
    "                #  print(start, inverse_T, \"=\")\n",
    "                start = torch.matmul(inverse_U, start)\n",
    "            # print(start)\n",
    "        # print(\"done\")\n",
    "        data[i, 0] = start[0]\n",
    "        data[i, 1] = start[1]\n",
    "        data[i, 2] = coin\n",
    "    return data"
   ]
  },
  {
   "cell_type": "code",
   "execution_count": 3,
   "metadata": {},
   "outputs": [],
   "source": [
    "matrix_T = torch.tensor([[1, 3], [0, 1]], dtype=torch.float64)\n",
    "matrix_U = torch.tensor([[1, 0], [3, 1]], dtype=torch.float64)"
   ]
  },
  {
   "cell_type": "code",
   "execution_count": 14,
   "metadata": {},
   "outputs": [
    {
     "data": {
      "text/plain": [
       "tensor([[          1,          -9,           1],\n",
       "        [       1972,      -12141,           1],\n",
       "        [   18655552,   -61575423,           1],\n",
       "        [     243487,     -637515,           0],\n",
       "        [-2147483648, -2147483648,           2],\n",
       "        [  967917790, -2147483648,           3],\n",
       "        [  512191423, -1698542874,           3],\n",
       "        [       -908,        5595,           0],\n",
       "        [          1,          -6,           3],\n",
       "        [          1,           0,           1],\n",
       "        [         28,          -3,           2],\n",
       "        [    4106116,   -10917729,           0],\n",
       "        [          1,          -3,           0],\n",
       "        [       -935,         303,           2],\n",
       "        [     -19439,        2118,           2],\n",
       "        [   67423681,   -21221583,           2],\n",
       "        [          1,          -3,           0],\n",
       "        [  -32784038,   305372283,           3],\n",
       "        [     866170,    -2879613,           3],\n",
       "        [-1708442756, -2147483648,           0],\n",
       "        [     -45242,       14559,           2],\n",
       "        [     162442,     -513687,           3],\n",
       "        [-2147483648, -1074224661,           2],\n",
       "        [         19,          -3,           2],\n",
       "        [    -184922,      489597,           0],\n",
       "        [         19,          -6,           2],\n",
       "        [     732241,    -6318624,           0],\n",
       "        [   28917487,   -75975273,           0],\n",
       "        [    7718428,   -20293011,           0],\n",
       "        [   -1321181,     3471192,           0],\n",
       "        [        -89,         234,           0],\n",
       "        [          1,          -3,           0],\n",
       "        [    -993446,      312603,           2],\n",
       "        [ -813451085,   128561898,           2],\n",
       "        [          1,          -3,           3],\n",
       "        [   -5461928,    79903437,           0],\n",
       "        [         28,         -93,           3],\n",
       "        [          1,          -3,           3],\n",
       "        [          1,           0,           1],\n",
       "        [   -1183661,      127269,           2],\n",
       "        [         19,          -6,           1],\n",
       "        [    -113705,     1398081,           1],\n",
       "        [-2147483648,  -752233557,           2],\n",
       "        [     287119,      -90792,           2],\n",
       "        [   -1717748,     4513185,           0],\n",
       "        [         19,         -63,           1],\n",
       "        [  -11963357,    39427581,           0],\n",
       "        [     948106,    -2482875,           0],\n",
       "        [       5140,      -13659,           0],\n",
       "        [     -35099,       92217,           0],\n",
       "        [    2409571,     -773283,           2],\n",
       "        [       1279,       -3363,           0],\n",
       "        [         19,        -117,           0],\n",
       "        [          1,           0,           1],\n",
       "        [  -96481034,   607427943,           0],\n",
       "        [       -143,         903,           3],\n",
       "        [     -33569,       10563,           2],\n",
       "        [   -2481569,      816003,           1],\n",
       "        [     -11978,       75471,           3],\n",
       "        [    2448307,     -741144,           2],\n",
       "        [      78382,      -23217,           2],\n",
       "        [         -8,          21,           0],\n",
       "        [      15562,       -4995,           2],\n",
       "        [     -34262,       90645,           0],\n",
       "        [          1,          -6,           3],\n",
       "        [          1,           0,           1],\n",
       "        [      -5111,        1548,           2],\n",
       "        [      22051,      -72786,           3],\n",
       "        [          1,         -12,           1],\n",
       "        [      -3338,        1011,           2],\n",
       "        [  -19264688,     6061929,           2],\n",
       "        [      -3176,       46515,           1],\n",
       "        [         28,         -87,           3],\n",
       "        [   -1279655,      387372,           2],\n",
       "        [     -39680,        4353,           1],\n",
       "        [  -69216263,   182002485,           0],\n",
       "        [      -1097,        3408,           3],\n",
       "        [   -5080148,      541485,           2],\n",
       "        [         10,          -3,           2],\n",
       "        [ 1843989562, -2147483648,           3],\n",
       "        [      11287,       -3552,           2],\n",
       "        [-2147483648, -2147483648,           0],\n",
       "        [          1,          -6,           0],\n",
       "        [   -9994247,    62921685,           3],\n",
       "        [     -41399,      108384,           1],\n",
       "        [      -1430,        9003,           3],\n",
       "        [        415,       -1098,           0],\n",
       "        [-2147483648,  -716001963,           2],\n",
       "        [     183871,     -481383,           0],\n",
       "        [    2594395,     -767496,           2],\n",
       "        [      -4391,        1413,           2],\n",
       "        [  393877351, -1300385214,           1],\n",
       "        [-2147483648,  -787864551,           2],\n",
       "        [          1,         -21,           0],\n",
       "        [      -6731,       22311,           1],\n",
       "        [     245809,      -74475,           2],\n",
       "        [       -449,        2541,           3],\n",
       "        [    1206037,    -3168636,           0],\n",
       "        [          1,          -3,           3],\n",
       "        [    1729288,    -5330049,           3]], dtype=torch.int32)"
      ]
     },
     "execution_count": 14,
     "metadata": {},
     "output_type": "execute_result"
    }
   ],
   "source": [
    "data_generator(matrix_T, matrix_U, 100)"
   ]
  },
  {
   "cell_type": "code",
   "execution_count": null,
   "metadata": {},
   "outputs": [],
   "source": []
  }
 ],
 "metadata": {
  "kernelspec": {
   "display_name": "Python 3",
   "language": "python",
   "name": "python3"
  },
  "language_info": {
   "codemirror_mode": {
    "name": "ipython",
    "version": 3
   },
   "file_extension": ".py",
   "mimetype": "text/x-python",
   "name": "python",
   "nbconvert_exporter": "python",
   "pygments_lexer": "ipython3",
   "version": "3.11.5"
  },
  "orig_nbformat": 4
 },
 "nbformat": 4,
 "nbformat_minor": 2
}
