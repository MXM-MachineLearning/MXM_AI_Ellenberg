{
 "cells": [
  {
   "cell_type": "code",
   "execution_count": 11,
   "id": "initial_id",
   "metadata": {
    "collapsed": true,
    "ExecuteTime": {
     "end_time": "2023-09-19T12:24:49.709293Z",
     "start_time": "2023-09-19T12:24:49.700221Z"
    }
   },
   "outputs": [],
   "source": [
    "import numpy\n",
    "import numpy as np\n",
    "import pandas as pd\n",
    "import torch\n",
    "import torch.nn as nn \n",
    "import torch.optim as optim\n",
    "import random\n",
    "import pandas"
   ]
  },
  {
   "cell_type": "code",
   "execution_count": 46,
   "outputs": [],
   "source": [
    "#data_generator\n",
    "matrix_T = torch.tensor([[0, 1], [1, 0]], dtype=torch.float64)\n",
    "matrix_U = torch.tensor([[1, -1], [0, 1]], dtype=torch.float64)\n",
    "\n",
    "inverse_T = torch.inverse(matrix_T)\n",
    "inverse_U = torch.inverse(matrix_U)\n",
    "\n",
    "max_moves = 30  #how many inverse operations on the final destination\n",
    "goal_position = torch.tensor([[1], [0]], dtype=torch.float64)\n",
    "\n",
    "\n",
    "def data_generator(num_of_datapoints):\n",
    "    data = torch.empty((num_of_datapoints, 3), dtype=torch.float64)\n",
    "    for i in range(num_of_datapoints):\n",
    "        start = goal_position\n",
    "        moves = random.randint(1, max_moves)\n",
    "        coin = 3\n",
    "        for q in range(moves):\n",
    "            coin = random.randint(0, 1)\n",
    "            if coin == 1:\n",
    "                #  print(start, inverse_U, \"=\")\n",
    "                start = torch.matmul(inverse_U, start)\n",
    "            #  print(start)\n",
    "            else:\n",
    "                #  print(start, inverse_T, \"=\")\n",
    "                start = torch.matmul(inverse_T, start)\n",
    "            # print(start)\n",
    "        # print(\"done\")\n",
    "        data[i, 0] = start[0]\n",
    "        data[i, 1] = start[1]\n",
    "        data[i, 2] = coin\n",
    "    return data\n",
    "\n",
    "#https://stackoverflow.com/questions/36158058/torch-save-tensor-to-csv-file#:~:text=For%20simple%20tables%2C%20you%20can,then%20to%20a%20Pandas%20dataframe.&text=You%20can%20first%20convert%20the,table%20as%20a%20csv%20file.\n",
    "data = data_generator(100)\n",
    "data_table = data.numpy()\n",
    "df = pandas.DataFrame(data_table)\n",
    "df.to_csv(\"generated_pairs.csv\", index = False) \n"
   ],
   "metadata": {
    "collapsed": false,
    "ExecuteTime": {
     "end_time": "2023-09-19T13:26:36.194554Z",
     "start_time": "2023-09-19T13:26:34.051750Z"
    }
   },
   "id": "aa5747831462be81"
  },
  {
   "cell_type": "code",
   "execution_count": 75,
   "outputs": [],
   "source": [
    "#https://machinelearningmastery.com/develop-your-first-neural-network-with-pytorch-step-by-step/\n",
    "#https://stackoverflow.com/questions/12336234/read-csv-file-to-numpy-array-first-row-as-strings-rest-as-float\n",
    "#https://www.w3schools.com/python/numpy/numpy_array_join.asp#:~:text=Joining%20Arrays%20Using%20Stack%20Functions&text=We%20can%20concatenate%20two%201,it%20is%20taken%20as%200.\n",
    "\n",
    "#make tensors from csv file\n",
    "\n",
    "#from cs544 notes \n",
    "data = pd.read_csv(\"generated_pairs.csv\", names=[\"0\",\"1\",\"2\"], delimiter=\",\")\n",
    "dataset = torch.utils.data.TensorDataset(\n",
    "    torch.tensor(data.loc[:, \"0\":\"1\"].values), # input \n",
    "    torch.tensor(data.loc[:, [\"2\"]].values) #output \n",
    ")\n",
    "X, Y = dataset[:] #label input and output "
   ],
   "metadata": {
    "collapsed": false,
    "ExecuteTime": {
     "end_time": "2023-09-19T17:45:05.902873Z",
     "start_time": "2023-09-19T17:45:05.888650Z"
    }
   },
   "id": "8f208516537858f3"
  },
  {
   "cell_type": "code",
   "execution_count": 48,
   "outputs": [],
   "source": [
    "#https://machinelearningmastery.com/develop-your-first-neural-network-with-pytorch-step-by-step/\n",
    "#making the model \n",
    "model = nn.Sequential(\n",
    "    nn.Linear(2, 128), #first layer 128\n",
    "    nn.ReLU(),\n",
    "    nn.Linear(128,64), #second layer 64\n",
    "    nn.ReLU(),\n",
    "    nn.Linear(64, 16), #third layer 16\n",
    "    nn.ReLU(),\n",
    "    nn.Linear(16,1), #singular output \n",
    "    nn.Softmax()\n",
    ")\n",
    "#print(model)"
   ],
   "metadata": {
    "collapsed": false,
    "ExecuteTime": {
     "end_time": "2023-09-19T13:26:39.590145Z",
     "start_time": "2023-09-19T13:26:39.555893Z"
    }
   },
   "id": "b677c06c3dfca538"
  },
  {
   "cell_type": "code",
   "execution_count": 76,
   "outputs": [],
   "source": [
    "#https://machinelearningmastery.com/develop-your-first-neural-network-with-pytorch-step-by-step/\n",
    "#prep for training \n",
    "loss_function = nn.BCELoss() #should this be our loss function too? \n",
    "optimizer = optim.Adam(model.parameters(), lr = 0.001) #chose Adam and lr from site \n",
    "\n",
    "#split training and testing data \n",
    "train, test = torch.utils.data.random_split(dataset, [0.75, 0.25]) #from cs544 class notes "
   ],
   "metadata": {
    "collapsed": false,
    "ExecuteTime": {
     "end_time": "2023-09-19T17:45:08.017562Z",
     "start_time": "2023-09-19T17:45:08.013148Z"
    }
   },
   "id": "c1c3c4eff075ec70"
  },
  {
   "cell_type": "code",
   "execution_count": 90,
   "outputs": [],
   "source": [
    "batch_s = 5 #batch size \n",
    "epoch_s = int(100*0.75) #epoch size \n",
    "dl = torch.utils.data.DataLoader(train, batch_size = batch_s, shuffle = True) #from cs544 notes \n",
    "dl_test = torch.utils.data.DataLoader(test, batch_size = batch_s, shuffle = False)"
   ],
   "metadata": {
    "collapsed": false,
    "ExecuteTime": {
     "end_time": "2023-09-19T18:02:26.065464Z",
     "start_time": "2023-09-19T18:02:26.063165Z"
    }
   },
   "id": "a6caa7a2eeb42a03"
  },
  {
   "cell_type": "code",
   "execution_count": 91,
   "outputs": [
    {
     "ename": "TypeError",
     "evalue": "linear(): argument 'input' (position 1) must be Tensor, not bool",
     "output_type": "error",
     "traceback": [
      "\u001B[0;31m---------------------------------------------------------------------------\u001B[0m",
      "\u001B[0;31mTypeError\u001B[0m                                 Traceback (most recent call last)",
      "Cell \u001B[0;32mIn[91], line 5\u001B[0m\n\u001B[1;32m      3\u001B[0m \u001B[38;5;28;01mfor\u001B[39;00m i \u001B[38;5;129;01min\u001B[39;00m \u001B[38;5;28mrange\u001B[39m(\u001B[38;5;241m0\u001B[39m, \u001B[38;5;28mlen\u001B[39m(X), batch_s):\n\u001B[1;32m      4\u001B[0m     x_batch \u001B[38;5;241m=\u001B[39m X \u001B[38;5;129;01min\u001B[39;00m dl\n\u001B[0;32m----> 5\u001B[0m     y_pred \u001B[38;5;241m=\u001B[39m \u001B[43mmodel\u001B[49m\u001B[43m(\u001B[49m\u001B[43mx_batch\u001B[49m\u001B[43m)\u001B[49m\n\u001B[1;32m      6\u001B[0m     y_batch \u001B[38;5;241m=\u001B[39m Y \u001B[38;5;129;01min\u001B[39;00m dl\n\u001B[1;32m      7\u001B[0m     loss \u001B[38;5;241m=\u001B[39m loss_fn(y_pred, y_batch)\n",
      "File \u001B[0;32m~/PycharmProjects/MXM_practice/venv/lib/python3.11/site-packages/torch/nn/modules/module.py:1501\u001B[0m, in \u001B[0;36mModule._call_impl\u001B[0;34m(self, *args, **kwargs)\u001B[0m\n\u001B[1;32m   1496\u001B[0m \u001B[38;5;66;03m# If we don't have any hooks, we want to skip the rest of the logic in\u001B[39;00m\n\u001B[1;32m   1497\u001B[0m \u001B[38;5;66;03m# this function, and just call forward.\u001B[39;00m\n\u001B[1;32m   1498\u001B[0m \u001B[38;5;28;01mif\u001B[39;00m \u001B[38;5;129;01mnot\u001B[39;00m (\u001B[38;5;28mself\u001B[39m\u001B[38;5;241m.\u001B[39m_backward_hooks \u001B[38;5;129;01mor\u001B[39;00m \u001B[38;5;28mself\u001B[39m\u001B[38;5;241m.\u001B[39m_backward_pre_hooks \u001B[38;5;129;01mor\u001B[39;00m \u001B[38;5;28mself\u001B[39m\u001B[38;5;241m.\u001B[39m_forward_hooks \u001B[38;5;129;01mor\u001B[39;00m \u001B[38;5;28mself\u001B[39m\u001B[38;5;241m.\u001B[39m_forward_pre_hooks\n\u001B[1;32m   1499\u001B[0m         \u001B[38;5;129;01mor\u001B[39;00m _global_backward_pre_hooks \u001B[38;5;129;01mor\u001B[39;00m _global_backward_hooks\n\u001B[1;32m   1500\u001B[0m         \u001B[38;5;129;01mor\u001B[39;00m _global_forward_hooks \u001B[38;5;129;01mor\u001B[39;00m _global_forward_pre_hooks):\n\u001B[0;32m-> 1501\u001B[0m     \u001B[38;5;28;01mreturn\u001B[39;00m \u001B[43mforward_call\u001B[49m\u001B[43m(\u001B[49m\u001B[38;5;241;43m*\u001B[39;49m\u001B[43margs\u001B[49m\u001B[43m,\u001B[49m\u001B[43m \u001B[49m\u001B[38;5;241;43m*\u001B[39;49m\u001B[38;5;241;43m*\u001B[39;49m\u001B[43mkwargs\u001B[49m\u001B[43m)\u001B[49m\n\u001B[1;32m   1502\u001B[0m \u001B[38;5;66;03m# Do not call functions when jit is used\u001B[39;00m\n\u001B[1;32m   1503\u001B[0m full_backward_hooks, non_full_backward_hooks \u001B[38;5;241m=\u001B[39m [], []\n",
      "File \u001B[0;32m~/PycharmProjects/MXM_practice/venv/lib/python3.11/site-packages/torch/nn/modules/container.py:217\u001B[0m, in \u001B[0;36mSequential.forward\u001B[0;34m(self, input)\u001B[0m\n\u001B[1;32m    215\u001B[0m \u001B[38;5;28;01mdef\u001B[39;00m \u001B[38;5;21mforward\u001B[39m(\u001B[38;5;28mself\u001B[39m, \u001B[38;5;28minput\u001B[39m):\n\u001B[1;32m    216\u001B[0m     \u001B[38;5;28;01mfor\u001B[39;00m module \u001B[38;5;129;01min\u001B[39;00m \u001B[38;5;28mself\u001B[39m:\n\u001B[0;32m--> 217\u001B[0m         \u001B[38;5;28minput\u001B[39m \u001B[38;5;241m=\u001B[39m \u001B[43mmodule\u001B[49m\u001B[43m(\u001B[49m\u001B[38;5;28;43minput\u001B[39;49m\u001B[43m)\u001B[49m\n\u001B[1;32m    218\u001B[0m     \u001B[38;5;28;01mreturn\u001B[39;00m \u001B[38;5;28minput\u001B[39m\n",
      "File \u001B[0;32m~/PycharmProjects/MXM_practice/venv/lib/python3.11/site-packages/torch/nn/modules/module.py:1501\u001B[0m, in \u001B[0;36mModule._call_impl\u001B[0;34m(self, *args, **kwargs)\u001B[0m\n\u001B[1;32m   1496\u001B[0m \u001B[38;5;66;03m# If we don't have any hooks, we want to skip the rest of the logic in\u001B[39;00m\n\u001B[1;32m   1497\u001B[0m \u001B[38;5;66;03m# this function, and just call forward.\u001B[39;00m\n\u001B[1;32m   1498\u001B[0m \u001B[38;5;28;01mif\u001B[39;00m \u001B[38;5;129;01mnot\u001B[39;00m (\u001B[38;5;28mself\u001B[39m\u001B[38;5;241m.\u001B[39m_backward_hooks \u001B[38;5;129;01mor\u001B[39;00m \u001B[38;5;28mself\u001B[39m\u001B[38;5;241m.\u001B[39m_backward_pre_hooks \u001B[38;5;129;01mor\u001B[39;00m \u001B[38;5;28mself\u001B[39m\u001B[38;5;241m.\u001B[39m_forward_hooks \u001B[38;5;129;01mor\u001B[39;00m \u001B[38;5;28mself\u001B[39m\u001B[38;5;241m.\u001B[39m_forward_pre_hooks\n\u001B[1;32m   1499\u001B[0m         \u001B[38;5;129;01mor\u001B[39;00m _global_backward_pre_hooks \u001B[38;5;129;01mor\u001B[39;00m _global_backward_hooks\n\u001B[1;32m   1500\u001B[0m         \u001B[38;5;129;01mor\u001B[39;00m _global_forward_hooks \u001B[38;5;129;01mor\u001B[39;00m _global_forward_pre_hooks):\n\u001B[0;32m-> 1501\u001B[0m     \u001B[38;5;28;01mreturn\u001B[39;00m \u001B[43mforward_call\u001B[49m\u001B[43m(\u001B[49m\u001B[38;5;241;43m*\u001B[39;49m\u001B[43margs\u001B[49m\u001B[43m,\u001B[49m\u001B[43m \u001B[49m\u001B[38;5;241;43m*\u001B[39;49m\u001B[38;5;241;43m*\u001B[39;49m\u001B[43mkwargs\u001B[49m\u001B[43m)\u001B[49m\n\u001B[1;32m   1502\u001B[0m \u001B[38;5;66;03m# Do not call functions when jit is used\u001B[39;00m\n\u001B[1;32m   1503\u001B[0m full_backward_hooks, non_full_backward_hooks \u001B[38;5;241m=\u001B[39m [], []\n",
      "File \u001B[0;32m~/PycharmProjects/MXM_practice/venv/lib/python3.11/site-packages/torch/nn/modules/linear.py:114\u001B[0m, in \u001B[0;36mLinear.forward\u001B[0;34m(self, input)\u001B[0m\n\u001B[1;32m    113\u001B[0m \u001B[38;5;28;01mdef\u001B[39;00m \u001B[38;5;21mforward\u001B[39m(\u001B[38;5;28mself\u001B[39m, \u001B[38;5;28minput\u001B[39m: Tensor) \u001B[38;5;241m-\u001B[39m\u001B[38;5;241m>\u001B[39m Tensor:\n\u001B[0;32m--> 114\u001B[0m     \u001B[38;5;28;01mreturn\u001B[39;00m \u001B[43mF\u001B[49m\u001B[38;5;241;43m.\u001B[39;49m\u001B[43mlinear\u001B[49m\u001B[43m(\u001B[49m\u001B[38;5;28;43minput\u001B[39;49m\u001B[43m,\u001B[49m\u001B[43m \u001B[49m\u001B[38;5;28;43mself\u001B[39;49m\u001B[38;5;241;43m.\u001B[39;49m\u001B[43mweight\u001B[49m\u001B[43m,\u001B[49m\u001B[43m \u001B[49m\u001B[38;5;28;43mself\u001B[39;49m\u001B[38;5;241;43m.\u001B[39;49m\u001B[43mbias\u001B[49m\u001B[43m)\u001B[49m\n",
      "\u001B[0;31mTypeError\u001B[0m: linear(): argument 'input' (position 1) must be Tensor, not bool"
     ]
    }
   ],
   "source": [
    "#https://machinelearningmastery.com/develop-your-first-neural-network-with-pytorch-step-by-step/\n",
    "for epoch in range(epoch_s):\n",
    "    for i in range(0, len(X), batch_s):\n",
    "        x_batch = X in dl\n",
    "        y_pred = model(x_batch)\n",
    "        y_batch = Y in dl\n",
    "        loss = loss_fn(y_pred, y_batch)\n",
    "        optimizer.zero_grad()\n",
    "        loss.backward()\n",
    "        optimizer.step()\n",
    "    print(f'Finished epoch {epoch}, latest loss {loss}')"
   ],
   "metadata": {
    "collapsed": false,
    "ExecuteTime": {
     "end_time": "2023-09-19T18:02:27.856204Z",
     "start_time": "2023-09-19T18:02:27.735644Z"
    }
   },
   "id": "49db5277992e3403"
  },
  {
   "cell_type": "code",
   "execution_count": null,
   "outputs": [],
   "source": [],
   "metadata": {
    "collapsed": false
   },
   "id": "c734295ca63c2082"
  }
 ],
 "metadata": {
  "kernelspec": {
   "display_name": "Python 3",
   "language": "python",
   "name": "python3"
  },
  "language_info": {
   "codemirror_mode": {
    "name": "ipython",
    "version": 2
   },
   "file_extension": ".py",
   "mimetype": "text/x-python",
   "name": "python",
   "nbconvert_exporter": "python",
   "pygments_lexer": "ipython2",
   "version": "2.7.6"
  }
 },
 "nbformat": 4,
 "nbformat_minor": 5
}
