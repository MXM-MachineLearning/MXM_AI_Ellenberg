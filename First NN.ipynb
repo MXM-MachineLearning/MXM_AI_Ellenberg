{
 "cells": [
  {
   "cell_type": "code",
   "execution_count": 11,
   "id": "initial_id",
   "metadata": {
    "collapsed": true,
    "ExecuteTime": {
     "end_time": "2023-09-19T12:24:49.709293Z",
     "start_time": "2023-09-19T12:24:49.700221Z"
    }
   },
   "outputs": [],
   "source": [
    "import numpy\n",
    "import numpy as np\n",
    "import torch\n",
    "import torch.nn as nn \n",
    "import torch.optim as optim\n",
    "import random\n",
    "import pandas"
   ]
  },
  {
   "cell_type": "code",
   "execution_count": 46,
   "outputs": [],
   "source": [
    "#data_generator\n",
    "matrix_T = torch.tensor([[0, 1], [1, 0]], dtype=torch.float64)\n",
    "matrix_U = torch.tensor([[1, -1], [0, 1]], dtype=torch.float64)\n",
    "\n",
    "inverse_T = torch.inverse(matrix_T)\n",
    "inverse_U = torch.inverse(matrix_U)\n",
    "\n",
    "max_moves = 30  #how many inverse operations on the final destination\n",
    "goal_position = torch.tensor([[1], [0]], dtype=torch.float64)\n",
    "\n",
    "\n",
    "def data_generator(num_of_datapoints):\n",
    "    data = torch.empty((num_of_datapoints, 3), dtype=torch.float64)\n",
    "    for i in range(num_of_datapoints):\n",
    "        start = goal_position\n",
    "        moves = random.randint(1, max_moves)\n",
    "        coin = 3\n",
    "        for q in range(moves):\n",
    "            coin = random.randint(0, 1)\n",
    "            if coin == 1:\n",
    "                #  print(start, inverse_U, \"=\")\n",
    "                start = torch.matmul(inverse_U, start)\n",
    "            #  print(start)\n",
    "            else:\n",
    "                #  print(start, inverse_T, \"=\")\n",
    "                start = torch.matmul(inverse_T, start)\n",
    "            # print(start)\n",
    "        # print(\"done\")\n",
    "        data[i, 0] = start[0]\n",
    "        data[i, 1] = start[1]\n",
    "        data[i, 2] = coin\n",
    "    return data\n",
    "\n",
    "#https://stackoverflow.com/questions/36158058/torch-save-tensor-to-csv-file#:~:text=For%20simple%20tables%2C%20you%20can,then%20to%20a%20Pandas%20dataframe.&text=You%20can%20first%20convert%20the,table%20as%20a%20csv%20file.\n",
    "data = data_generator(100)\n",
    "data_table = data.numpy()\n",
    "df = pandas.DataFrame(data_table)\n",
    "df.to_csv(\"generated_pairs.csv\", index = False) \n"
   ],
   "metadata": {
    "collapsed": false,
    "ExecuteTime": {
     "end_time": "2023-09-19T13:26:36.194554Z",
     "start_time": "2023-09-19T13:26:34.051750Z"
    }
   },
   "id": "aa5747831462be81"
  },
  {
   "cell_type": "code",
   "execution_count": 47,
   "outputs": [],
   "source": [
    "#https://machinelearningmastery.com/develop-your-first-neural-network-with-pytorch-step-by-step/\n",
    "#https://stackoverflow.com/questions/12336234/read-csv-file-to-numpy-array-first-row-as-strings-rest-as-float\n",
    "#https://www.w3schools.com/python/numpy/numpy_array_join.asp#:~:text=Joining%20Arrays%20Using%20Stack%20Functions&text=We%20can%20concatenate%20two%201,it%20is%20taken%20as%200.\n",
    "\n",
    "#make tensors from csv file\n",
    "dataset = np.genfromtxt(\"generated_pairs.csv\", dtype = float, names=True, delimiter=\",\")\n",
    "a = dataset['0'] #arry of all the a's\n",
    "b = dataset['1'] #array of all the b's\n",
    "pairs = np.stack((a,b),axis=1)\n",
    "x = torch.tensor(pairs, dtype = torch.float64) #input to a tensor\n",
    "first_move = dataset['2'] #array of all the first moves (0 or 1)\n",
    "y = torch.tensor(first_move, dtype = torch.float64) #output to a tensor \n"
   ],
   "metadata": {
    "collapsed": false,
    "ExecuteTime": {
     "end_time": "2023-09-19T13:26:38.180234Z",
     "start_time": "2023-09-19T13:26:38.147373Z"
    }
   },
   "id": "8f208516537858f3"
  },
  {
   "cell_type": "code",
   "execution_count": 48,
   "outputs": [],
   "source": [
    "#https://machinelearningmastery.com/develop-your-first-neural-network-with-pytorch-step-by-step/\n",
    "#making the model \n",
    "model = nn.Sequential(\n",
    "    nn.Linear(2, 128), #first layer 128\n",
    "    nn.ReLU(),\n",
    "    nn.Linear(128,64), #second layer 64\n",
    "    nn.ReLU(),\n",
    "    nn.Linear(64, 16), #third layer 16\n",
    "    nn.ReLU(),\n",
    "    nn.Linear(16,1), #singular output \n",
    "    nn.Softmax()\n",
    ")\n",
    "#print(model)"
   ],
   "metadata": {
    "collapsed": false,
    "ExecuteTime": {
     "end_time": "2023-09-19T13:26:39.590145Z",
     "start_time": "2023-09-19T13:26:39.555893Z"
    }
   },
   "id": "b677c06c3dfca538"
  },
  {
   "cell_type": "code",
   "execution_count": 49,
   "outputs": [],
   "source": [
    "#https://machinelearningmastery.com/develop-your-first-neural-network-with-pytorch-step-by-step/\n",
    "#prep for training \n",
    "loss_function = nn.BCELoss() #should this be our loss function too? \n",
    "optimizer = optim.Adam(model.parameters(), lr = 0.001); #chose Adam and lr from site \n",
    "\n",
    "#split training and testing data \n",
    "train, test = torch.utils.data.random_split(x, [0.75, 0.25]) #from cs544 class notes \n",
    "#I know that I am going to run into problems here because I split the input and output so somehow I have to recover the split in order to have the expected results "
   ],
   "metadata": {
    "collapsed": false,
    "ExecuteTime": {
     "end_time": "2023-09-19T13:26:40.657745Z",
     "start_time": "2023-09-19T13:26:40.632321Z"
    }
   },
   "id": "c1c3c4eff075ec70"
  },
  {
   "cell_type": "code",
   "execution_count": 54,
   "outputs": [
    {
     "ename": "AttributeError",
     "evalue": "'Subset' object has no attribute 'get_shape'",
     "output_type": "error",
     "traceback": [
      "\u001B[0;31m---------------------------------------------------------------------------\u001B[0m",
      "\u001B[0;31mAttributeError\u001B[0m                            Traceback (most recent call last)",
      "Cell \u001B[0;32mIn[54], line 1\u001B[0m\n\u001B[0;32m----> 1\u001B[0m train_rows, train_col \u001B[38;5;241m=\u001B[39m \u001B[43mtrain\u001B[49m\u001B[38;5;241;43m.\u001B[39;49m\u001B[43mget_shape\u001B[49m() \n\u001B[1;32m      2\u001B[0m num_epochs \u001B[38;5;241m=\u001B[39m train_rows\n\u001B[1;32m      3\u001B[0m batch_size \u001B[38;5;241m=\u001B[39m num_epochs \u001B[38;5;241m/\u001B[39m \u001B[38;5;241m10\u001B[39m  \u001B[38;5;66;03m#this is going to run into problems b/c the last one won't have 10 \u001B[39;00m\n",
      "\u001B[0;31mAttributeError\u001B[0m: 'Subset' object has no attribute 'get_shape'"
     ]
    }
   ],
   "source": [
    "#https://machinelearningmastery.com/develop-your-first-neural-network-with-pytorch-step-by-step/\n",
    "train_rows, train_col = train.get_shape() \n",
    "num_epochs = train_rows\n",
    "batch_size = num_epochs / 10  #this is going to run into problems b/c the last one won't have 10 \n",
    "for epoch in range(n_epochs):\n",
    "    for i in range(0, len(train), batch_size):\n",
    "        train_batch = train[i:i+batch_size]\n",
    "        y_pred = model(train_batch)\n",
    "        y_batch = y[i:i+batch_size]\n",
    "        loss = loss_fn(y_pred, y_batch)\n",
    "        optimizer.zero_grad()\n",
    "        loss.backward()\n",
    "        optimizer.step()\n",
    "    print(f'Finished epoch {epoch}, latest loss {loss}')"
   ],
   "metadata": {
    "collapsed": false,
    "ExecuteTime": {
     "end_time": "2023-09-19T13:33:23.598727Z",
     "start_time": "2023-09-19T13:33:23.472653Z"
    }
   },
   "id": "a6caa7a2eeb42a03"
  },
  {
   "cell_type": "code",
   "execution_count": null,
   "outputs": [],
   "source": [],
   "metadata": {
    "collapsed": false
   },
   "id": "49db5277992e3403"
  }
 ],
 "metadata": {
  "kernelspec": {
   "display_name": "Python 3",
   "language": "python",
   "name": "python3"
  },
  "language_info": {
   "codemirror_mode": {
    "name": "ipython",
    "version": 2
   },
   "file_extension": ".py",
   "mimetype": "text/x-python",
   "name": "python",
   "nbconvert_exporter": "python",
   "pygments_lexer": "ipython2",
   "version": "2.7.6"
  }
 },
 "nbformat": 4,
 "nbformat_minor": 5
}
