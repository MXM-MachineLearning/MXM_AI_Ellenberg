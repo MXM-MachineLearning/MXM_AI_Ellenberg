{
 "cells": [
  {
   "cell_type": "code",
   "execution_count": 364,
   "id": "initial_id",
   "metadata": {
    "ExecuteTime": {
     "end_time": "2023-09-22T19:17:10.998919Z",
     "start_time": "2023-09-22T19:17:10.989794Z"
    },
    "collapsed": true
   },
   "outputs": [],
   "source": [
    "import torch\n",
    "import torch.nn as nn\n",
    "import torch.optim as optim\n",
    "\n",
    "import numpy as np"
   ]
  },
  {
   "cell_type": "code",
   "execution_count": 365,
   "id": "186f9e627578f761",
   "metadata": {
    "ExecuteTime": {
     "end_time": "2023-09-22T19:17:11.006902Z",
     "start_time": "2023-09-22T19:17:11.000832Z"
    },
    "collapsed": false
   },
   "outputs": [],
   "source": [
    "GENERATE_DATA = False\n",
    "NUM_TRAIN_DATA = int(1e4)\n",
    "RATIO_TEST_TRAIN = 2/8\n",
    "STATE_UPPER_LIM = 1000\n",
    "\n",
    "ACTIONS = torch.tensor([[1, -1], [0, 1]], dtype=torch.float), torch.tensor([[0, 1], [1, 0]], dtype=torch.float)\n",
    "\n",
    "\n",
    "def gen_start_config():\n",
    "    return torch.round(torch.rand((1, 2)) * STATE_UPPER_LIM).float()   # TODO make a better stochastic thing\n",
    "\n",
    "# predefined heuristic\n",
    "def get_action(state):\n",
    "    if state[0][0] >= state[0][1]:\n",
    "        return 1\n",
    "    return 0\n",
    "\n",
    "\n",
    "def update_state(state, action):\n",
    "    return state @ ACTIONS[action]\n",
    "\n",
    "\n",
    "def terminate(state):\n",
    "    K_EPS = 1e-3\n",
    "    return abs(state[0][0]) < K_EPS or abs(state[0][1]) < K_EPS \n",
    "\n",
    "\n",
    "def gen_example_data(filename, n):\n",
    "    with open(filename, 'w') as f:\n",
    "        for i in range(n):\n",
    "            state = gen_start_config()\n",
    "            f.write(str(int(state[0][0])) + \",\" + str(int(state[0][1])))\n",
    "            action = get_action(state)\n",
    "            f.write(\",\"+ str(action) + \"\\n\")\n",
    "        \n",
    "        \n",
    "if GENERATE_DATA:\n",
    "    fname = \"train_data/train.csv\"\n",
    "    gen_example_data(fname, NUM_TRAIN_DATA)\n",
    "    fname = \"test_data/test.csv\"\n",
    "    gen_example_data(fname, int(NUM_TRAIN_DATA * RATIO_TEST_TRAIN))"
   ]
  },
  {
   "cell_type": "code",
   "execution_count": 366,
   "id": "6bb392d67e3cdd83",
   "metadata": {
    "ExecuteTime": {
     "end_time": "2023-09-22T19:17:11.019689Z",
     "start_time": "2023-09-22T19:17:11.008491Z"
    },
    "collapsed": false
   },
   "outputs": [],
   "source": [
    "class NN(nn.Module):\n",
    "    def __init__(self):\n",
    "        super(NN, self).__init__()\n",
    "        self.flatten = nn.Flatten()\n",
    "        self.stack = nn.Sequential(\n",
    "            nn.Linear(2, 128),\n",
    "            nn.ReLU(),\n",
    "            nn.Linear(128, 128),\n",
    "            nn.ReLU(),\n",
    "            nn.Linear(128, 64),\n",
    "            nn.ReLU(),\n",
    "            nn.Linear(64, 16),\n",
    "            nn.ReLU(),\n",
    "            nn.Linear(16, 1),\n",
    "        )\n",
    "        self.activation = nn.Sigmoid()\n",
    "\n",
    "    def forward(self, x):\n",
    "        x = self.flatten(x)\n",
    "        x = self.stack(x)\n",
    "        # return x\n",
    "        return self.activation(x)\n",
    "    "
   ]
  },
  {
   "cell_type": "code",
   "execution_count": 367,
   "id": "a84b0db3f702923f",
   "metadata": {
    "ExecuteTime": {
     "end_time": "2023-09-22T19:17:11.039203Z",
     "start_time": "2023-09-22T19:17:11.014784Z"
    },
    "collapsed": false
   },
   "outputs": [
    {
     "data": {
      "text/plain": [
       "tensor([[0.],\n",
       "        [1.],\n",
       "        [1.],\n",
       "        ...,\n",
       "        [1.],\n",
       "        [1.],\n",
       "        [0.]])"
      ]
     },
     "execution_count": 367,
     "metadata": {},
     "output_type": "execute_result"
    }
   ],
   "source": [
    "def get_data(fname):\n",
    "   x = torch.tensor(np.loadtxt(fname, delimiter=\",\"), dtype=torch.float)\n",
    "   return x[:,0:2], x[:, -1]\n",
    "\n",
    "train_X, train_Y = get_data(\"train_data/train_simple.csv\")\n",
    "test_X, test_Y = get_data(\"test_data/test_simple.csv\")\n",
    "\n",
    "train_Y.reshape(-1, 1)\n",
    "test_Y.reshape(-1, 1)"
   ]
  },
  {
   "cell_type": "code",
   "execution_count": 368,
   "id": "6d13c6ef5d5314e9",
   "metadata": {
    "ExecuteTime": {
     "end_time": "2023-09-22T19:17:11.039336Z",
     "start_time": "2023-09-22T19:17:11.030905Z"
    },
    "collapsed": false
   },
   "outputs": [],
   "source": [
    "EPOCHS = int(50)\n",
    "BATCH_SIZE = int(10)\n",
    "LR = 1e-3\n",
    "\n",
    "model = NN()\n",
    "loss_fn = nn.BCELoss()\n",
    "optimizer = optim.Adam(model.parameters(), lr=LR)\n",
    "\n",
    "\n",
    "def train(x, y):\n",
    "    for t in range(EPOCHS):\n",
    "        total_loss = 0\n",
    "        for i in range(0, len(x), BATCH_SIZE):\n",
    "            start = i\n",
    "            end = start + BATCH_SIZE\n",
    "            x_b = x[start:end]\n",
    "            y_b = y[start:end]\n",
    "            pred = model.forward(x_b)\n",
    "            # print(\"pred\", pred)\n",
    "            loss = loss_fn(pred, y_b.unsqueeze(dim=1))\n",
    "        \n",
    "            optimizer.zero_grad()\n",
    "            loss.backward()\n",
    "            optimizer.step()\n",
    "            total_loss += loss.item()\n",
    "            \n",
    "        if t % 10 == 0:\n",
    "            print(\"epoch\", (t), \"\\ttotal loss:\", total_loss)\n",
    "            # with torch.no_grad():\n",
    "            #     print(\"Accuracy\", test(test_X[0:10], test_Y[0:10]).item())\n",
    "        \n",
    "def test(x, y):\n",
    "    with torch.no_grad():\n",
    "        return torch.count_nonzero(torch.eq(model(x).round(), y.unsqueeze(dim=1))) / len(y)"
   ]
  },
  {
   "cell_type": "code",
   "execution_count": 369,
   "id": "bfb442b16ea9c786",
   "metadata": {
    "ExecuteTime": {
     "end_time": "2023-09-22T19:18:17.021829Z",
     "start_time": "2023-09-22T19:17:11.036755Z"
    },
    "collapsed": false
   },
   "outputs": [
    {
     "name": "stdout",
     "output_type": "stream",
     "text": [
      "epoch 0 \ttotal loss: 77.95457186339316\n",
      "epoch 10 \ttotal loss: 154.42037779253238\n",
      "epoch 20 \ttotal loss: 8.535392225158965\n",
      "epoch 30 \ttotal loss: 14.125405677541115\n",
      "epoch 40 \ttotal loss: 85.91433879753838\n"
     ]
    }
   ],
   "source": [
    "train(train_X, train_Y) "
   ]
  },
  {
   "cell_type": "code",
   "execution_count": 371,
   "id": "a112d1d0a77bf25d",
   "metadata": {
    "ExecuteTime": {
     "end_time": "2023-09-22T19:18:17.063949Z",
     "start_time": "2023-09-22T19:18:17.054081Z"
    },
    "collapsed": false
   },
   "outputs": [
    {
     "name": "stdout",
     "output_type": "stream",
     "text": [
      "Accuracy 0.9887999892234802\n"
     ]
    }
   ],
   "source": [
    "with torch.no_grad():\n",
    "    print(\"Accuracy\", test(test_X, test_Y).item())"
   ]
  },
  {
   "cell_type": "code",
   "execution_count": 372,
   "id": "faf48852a37a228c",
   "metadata": {
    "ExecuteTime": {
     "end_time": "2023-09-22T19:18:17.071370Z",
     "start_time": "2023-09-22T19:18:17.060932Z"
    },
    "collapsed": false
   },
   "outputs": [],
   "source": [
    "SAVE_WEIGHTS = False\n",
    "if SAVE_WEIGHTS:\n",
    "    torch.save(model.state_dict(), \"trained_weights/supervised_simple_weights.pth\")"
   ]
  }
 ],
 "metadata": {
  "kernelspec": {
   "display_name": "Python 3",
   "language": "python",
   "name": "python3"
  },
  "language_info": {
   "codemirror_mode": {
    "name": "ipython",
    "version": 2
   },
   "file_extension": ".py",
   "mimetype": "text/x-python",
   "name": "python",
   "nbconvert_exporter": "python",
   "pygments_lexer": "ipython2",
   "version": "2.7.6"
  }
 },
 "nbformat": 4,
 "nbformat_minor": 5
}
