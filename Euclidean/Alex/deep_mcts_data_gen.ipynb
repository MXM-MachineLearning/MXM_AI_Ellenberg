{
 "cells": [
  {
   "cell_type": "code",
   "execution_count": 1,
   "metadata": {},
   "outputs": [],
   "source": [
    "from util import *"
   ]
  },
  {
   "cell_type": "code",
   "execution_count": 12,
   "metadata": {},
   "outputs": [],
   "source": [
    "k_state_upper_lim = 50\n",
    "def gen_start_state_4a():\n",
    "    limit = k_state_upper_lim\n",
    "    return torch.round( (torch.rand((1, 2)) - 0.5) * 2 * limit).float()"
   ]
  },
  {
   "cell_type": "code",
   "execution_count": 13,
   "metadata": {},
   "outputs": [],
   "source": [
    "k_numcases = 1000\n",
    "states = []\n",
    "with open('train_data/train_mcts.csv', 'r') as f:\n",
    "    for i in range(k_numcases):\n",
    "        state = gen_start_state_4a().flatten()\n",
    "        states.append(state)\n",
    "        line = str(int(state[0])) + ',' + str(int(state[1]))\n",
    "        while not terminal(state):\n",
    "            # action = model.forward(state)\n",
    "            action = determine_action(state)\n",
    "            line += ',' + str(action)\n",
    "            state = k_4actions[action](state)\n",
    "        f.write(line + '\\n')\n"
   ]
  }
 ],
 "metadata": {
  "kernelspec": {
   "display_name": "Python 3",
   "language": "python",
   "name": "python3"
  },
  "language_info": {
   "codemirror_mode": {
    "name": "ipython",
    "version": 3
   },
   "file_extension": ".py",
   "mimetype": "text/x-python",
   "name": "python",
   "nbconvert_exporter": "python",
   "pygments_lexer": "ipython3",
   "version": "3.11.3"
  }
 },
 "nbformat": 4,
 "nbformat_minor": 2
}
