{
 "cells": [
  {
   "cell_type": "code",
   "execution_count": 2,
   "id": "initial_id",
   "metadata": {
    "collapsed": true,
    "ExecuteTime": {
     "end_time": "2023-09-19T01:41:26.716313Z",
     "start_time": "2023-09-19T01:41:26.705283Z"
    }
   },
   "outputs": [],
   "source": [
    "import random"
   ]
  },
  {
   "cell_type": "code",
   "execution_count": 1,
   "outputs": [],
   "source": [
    "import torch"
   ],
   "metadata": {
    "collapsed": false,
    "ExecuteTime": {
     "end_time": "2023-09-19T01:41:24.703597Z",
     "start_time": "2023-09-19T01:41:20.940211Z"
    }
   },
   "id": "c9cb27bafd5f124b"
  },
  {
   "cell_type": "code",
   "execution_count": 43,
   "outputs": [],
   "source": [
    "matrix_T = torch.tensor([[0, 1], [1, 0]], dtype=torch.float64)\n",
    "matrix_U = torch.tensor([[1, -1], [0, 1]], dtype=torch.float64)\n",
    "\n",
    "inverse_T = torch.inverse(matrix_T)\n",
    "inverse_U = torch.inverse(matrix_U)\n",
    "\n",
    "max_moves = 30 #how many inverse operations on the final destination\n",
    "goal_position = torch.tensor([[1],[0]], dtype=torch.float64)"
   ],
   "metadata": {
    "collapsed": false,
    "ExecuteTime": {
     "end_time": "2023-09-19T02:12:25.923361Z",
     "start_time": "2023-09-19T02:12:25.916560Z"
    }
   },
   "id": "bf5f9fafaaff2178"
  },
  {
   "cell_type": "code",
   "execution_count": 44,
   "outputs": [],
   "source": [
    "def data_generator(num_of_datapoints):\n",
    "    data = torch.empty((num_of_datapoints, 3), dtype=torch.float64)\n",
    "    for i in range(num_of_datapoints):\n",
    "        start = goal_position\n",
    "        moves = random.randint(1, max_moves)\n",
    "        coin = 3\n",
    "        for q in range(moves):\n",
    "            coin = random.randint(0,1)\n",
    "            if coin == 1: \n",
    "              #  print(start, inverse_U, \"=\")\n",
    "                start = torch.matmul(inverse_U, start)\n",
    "              #  print(start)\n",
    "            else: \n",
    "              #  print(start, inverse_T, \"=\")\n",
    "                start = torch.matmul(inverse_T, start)\n",
    "               # print(start)\n",
    "       # print(\"done\")\n",
    "        data[i, 0] = start[0]\n",
    "        data[i, 1] = start[1]\n",
    "        data[i, 2] = coin\n",
    "    return data"
   ],
   "metadata": {
    "collapsed": false,
    "ExecuteTime": {
     "end_time": "2023-09-19T02:12:26.837106Z",
     "start_time": "2023-09-19T02:12:26.830389Z"
    }
   },
   "id": "5076e0a4484d00b"
  },
  {
   "cell_type": "code",
   "execution_count": 46,
   "outputs": [
    {
     "name": "stdout",
     "output_type": "stream",
     "text": [
      "tensor([[42., 23.,  1.],\n",
      "        [10.,  7.,  1.],\n",
      "        [ 3.,  1.,  1.],\n",
      "        [ 3., 19.,  0.],\n",
      "        [ 0.,  1.,  0.],\n",
      "        [ 4.,  7.,  0.],\n",
      "        [89., 65.,  1.],\n",
      "        [ 1.,  0.,  1.],\n",
      "        [23., 13.,  1.],\n",
      "        [ 1.,  4.,  0.]], dtype=torch.float64)\n"
     ]
    }
   ],
   "source": [
    "print(data_generator(10))"
   ],
   "metadata": {
    "collapsed": false,
    "ExecuteTime": {
     "end_time": "2023-09-19T02:13:25.073205Z",
     "start_time": "2023-09-19T02:13:25.052508Z"
    }
   },
   "id": "a52adf8b470190e5"
  },
  {
   "cell_type": "code",
   "execution_count": null,
   "outputs": [],
   "source": [],
   "metadata": {
    "collapsed": false
   },
   "id": "be2ee499ed02c9fa"
  }
 ],
 "metadata": {
  "kernelspec": {
   "display_name": "Python 3",
   "language": "python",
   "name": "python3"
  },
  "language_info": {
   "codemirror_mode": {
    "name": "ipython",
    "version": 2
   },
   "file_extension": ".py",
   "mimetype": "text/x-python",
   "name": "python",
   "nbconvert_exporter": "python",
   "pygments_lexer": "ipython2",
   "version": "2.7.6"
  }
 },
 "nbformat": 4,
 "nbformat_minor": 5
}
