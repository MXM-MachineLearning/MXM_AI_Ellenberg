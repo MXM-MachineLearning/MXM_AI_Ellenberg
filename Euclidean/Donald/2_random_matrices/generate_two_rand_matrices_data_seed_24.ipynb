{
 "cells": [
  {
   "cell_type": "code",
   "execution_count": 2,
   "metadata": {},
   "outputs": [],
   "source": [
    "import random\n",
    "import pandas as pd\n",
    "import numpy as np\n",
    "import matplotlib.pyplot as plt"
   ]
  },
  {
   "cell_type": "code",
   "execution_count": 3,
   "metadata": {},
   "outputs": [],
   "source": [
    "# 24 is Kai's favorite number\n",
    "random.seed(24)\n",
    "\n",
    "A = np.array([[random.randint(0, 6) - 3, random.randint(0, 6) - 3], [random.randint(0, 6) - 3, random.randint(0, 6) - 3]])\n",
    "B = np.array([[random.randint(0, 6) - 3, random.randint(0, 6) - 3], [random.randint(0, 6) - 3, random.randint(0, 6) - 3]])"
   ]
  },
  {
   "cell_type": "code",
   "execution_count": 4,
   "metadata": {},
   "outputs": [],
   "source": [
    "data = {\n",
    "    'val1': [],\n",
    "    'val2': [],\n",
    "    'last_matrix': []\n",
    "}\n",
    "\n",
    "test_df = pd.DataFrame(data)"
   ]
  },
  {
   "cell_type": "code",
   "execution_count": 5,
   "metadata": {},
   "outputs": [],
   "source": [
    "random.seed(24)\n",
    "for _ in range(1, 10000):\n",
    "    \n",
    "    x = [str(random.randint(1, 2)) for _ in range(0, 10)]\n",
    "    all_digits = \"\".join(x)\n",
    "\n",
    "    cur_array = np.array([0, 1])\n",
    "    for i in all_digits:\n",
    "        if i==\"1\":\n",
    "            cur_array = cur_array @ A\n",
    "        elif i==\"2\":\n",
    "            cur_array = cur_array @ B\n",
    "\n",
    "    # adapted from https://stackoverflow.com/questions/24284342/insert-a-row-to-pandas-dataframe\n",
    "\n",
    "    df2 = pd.DataFrame([[cur_array[0], cur_array[1], all_digits[-1]]], columns=['val1', 'val2', 'last_matrix'])\n",
    "    test_df = pd.concat([df2, test_df])"
   ]
  },
  {
   "cell_type": "code",
   "execution_count": 6,
   "metadata": {},
   "outputs": [],
   "source": [
    "# adapted from ChatGPT\n",
    "test_df['last_matrix'] = test_df['last_matrix'].astype(int)"
   ]
  },
  {
   "cell_type": "code",
   "execution_count": 7,
   "metadata": {},
   "outputs": [],
   "source": [
    "test_df1 = test_df[test_df['last_matrix'] == 1]\n",
    "test_df2 = test_df[test_df['last_matrix'] == 2]\n"
   ]
  },
  {
   "cell_type": "code",
   "execution_count": 14,
   "metadata": {},
   "outputs": [
    {
     "data": {
      "text/plain": [
       "array([[2, 0],\n",
       "       [3, 1]])"
      ]
     },
     "execution_count": 14,
     "metadata": {},
     "output_type": "execute_result"
    }
   ],
   "source": [
    "A"
   ]
  },
  {
   "cell_type": "code",
   "execution_count": 8,
   "metadata": {},
   "outputs": [
    {
     "data": {
      "image/png": "[encoded data removed]",
      "text/plain": [
       "<Figure size 640x480 with 1 Axes>"
      ]
     },
     "metadata": {},
     "output_type": "display_data"
    }
   ],
   "source": [
    "plt.scatter(x=test_df1['val1'], y=test_df1['val2'], c=\"green\")\n",
    "plt.scatter(x=test_df2['val1'], y=test_df2['val2'], c=\"blue\")\n",
    "\n",
    "\n",
    "# adapted from https://www.geeksforgeeks.org/matplotlib-pyplot-legend-in-python/\n",
    "plt.legend([1, 2])\n",
    "\n",
    "plt.show()"
   ]
  },
  {
   "cell_type": "code",
   "execution_count": 9,
   "metadata": {},
   "outputs": [],
   "source": [
    "test_df.to_csv('two_rand_matrices_seed_24.csv', index=False)"
   ]
  },
  {
   "cell_type": "code",
   "execution_count": 11,
   "metadata": {},
   "outputs": [],
   "source": [
    "data = {\n",
    "    'val1': [],\n",
    "    'val2': [],\n",
    "    'last_matrix': []\n",
    "}\n",
    "\n",
    "test_df = pd.DataFrame(data)\n",
    "\n",
    "random.seed(49)\n",
    "for _ in range(1, 10000):\n",
    "    \n",
    "    x = [str(random.randint(1, 2)) for _ in range(0, 10)]\n",
    "    all_digits = \"\".join(x)\n",
    "\n",
    "    cur_array = np.array([0, 1])\n",
    "    for i in all_digits:\n",
    "        if i==\"1\":\n",
    "            cur_array = cur_array @ A\n",
    "        elif i==\"2\":\n",
    "            cur_array = cur_array @ B\n",
    "\n",
    "    # adapted from https://stackoverflow.com/questions/24284342/insert-a-row-to-pandas-dataframe\n",
    "\n",
    "    df2 = pd.DataFrame([[cur_array[0], cur_array[1], all_digits[-1]]], columns=['val1', 'val2', 'last_matrix'])\n",
    "    test_df = pd.concat([df2, test_df])\n",
    "\n",
    "test_df['last_matrix'] = test_df['last_matrix'].astype(int)"
   ]
  },
  {
   "cell_type": "code",
   "execution_count": 12,
   "metadata": {},
   "outputs": [],
   "source": [
    "test_df.to_csv('two_rand_matrices_seed_24_test.csv', index=False)"
   ]
  }
 ],
 "metadata": {
  "kernelspec": {
   "display_name": "Python 3",
   "language": "python",
   "name": "python3"
  },
  "language_info": {
   "codemirror_mode": {
    "name": "ipython",
    "version": 3
   },
   "file_extension": ".py",
   "mimetype": "text/x-python",
   "name": "python",
   "nbconvert_exporter": "python",
   "pygments_lexer": "ipython3",
   "version": "3.10.11"
  },
  "orig_nbformat": 4
 },
 "nbformat": 4,
 "nbformat_minor": 2
}
